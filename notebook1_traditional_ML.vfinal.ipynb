{
 "cells": [
  {
   "cell_type": "code",
   "execution_count": 1,
   "id": "5fd19757",
   "metadata": {},
   "outputs": [
    {
     "name": "stdout",
     "output_type": "stream",
     "text": [
      "Collecting spacy\n",
      "  Downloading spacy-3.3.1-cp39-cp39-win_amd64.whl (11.7 MB)\n",
      "Collecting srsly<3.0.0,>=2.4.3\n",
      "  Downloading srsly-2.4.3-cp39-cp39-win_amd64.whl (448 kB)\n",
      "Requirement already satisfied: jinja2 in c:\\users\\vduchi01\\anaconda3\\lib\\site-packages (from spacy) (2.11.3)\n",
      "Collecting blis<0.8.0,>=0.4.0\n",
      "  Downloading blis-0.7.7-cp39-cp39-win_amd64.whl (6.6 MB)\n",
      "Collecting catalogue<2.1.0,>=2.0.6\n",
      "  Downloading catalogue-2.0.7-py3-none-any.whl (17 kB)\n",
      "Requirement already satisfied: setuptools in c:\\users\\vduchi01\\anaconda3\\lib\\site-packages (from spacy) (58.0.4)\n",
      "Collecting thinc<8.1.0,>=8.0.14\n",
      "  Downloading thinc-8.0.17-cp39-cp39-win_amd64.whl (1.0 MB)\n",
      "Collecting langcodes<4.0.0,>=3.2.0\n",
      "  Downloading langcodes-3.3.0-py3-none-any.whl (181 kB)\n",
      "Collecting cymem<2.1.0,>=2.0.2\n",
      "  Downloading cymem-2.0.6-cp39-cp39-win_amd64.whl (36 kB)\n",
      "Collecting pydantic!=1.8,!=1.8.1,<1.9.0,>=1.7.4\n",
      "  Downloading pydantic-1.8.2-cp39-cp39-win_amd64.whl (1.9 MB)\n",
      "Collecting preshed<3.1.0,>=3.0.2\n",
      "  Downloading preshed-3.0.6-cp39-cp39-win_amd64.whl (112 kB)\n",
      "Requirement already satisfied: numpy>=1.15.0 in c:\\users\\vduchi01\\anaconda3\\lib\\site-packages (from spacy) (1.20.3)\n",
      "Collecting spacy-legacy<3.1.0,>=3.0.9\n",
      "  Downloading spacy_legacy-3.0.9-py2.py3-none-any.whl (20 kB)\n",
      "Requirement already satisfied: packaging>=20.0 in c:\\users\\vduchi01\\anaconda3\\lib\\site-packages (from spacy) (21.0)\n",
      "Requirement already satisfied: tqdm<5.0.0,>=4.38.0 in c:\\users\\vduchi01\\anaconda3\\lib\\site-packages (from spacy) (4.62.3)\n",
      "Requirement already satisfied: requests<3.0.0,>=2.13.0 in c:\\users\\vduchi01\\anaconda3\\lib\\site-packages (from spacy) (2.26.0)\n",
      "Collecting pathy>=0.3.5\n",
      "  Downloading pathy-0.6.1-py3-none-any.whl (42 kB)\n",
      "Collecting murmurhash<1.1.0,>=0.28.0\n",
      "  Downloading murmurhash-1.0.7-cp39-cp39-win_amd64.whl (18 kB)\n",
      "Collecting spacy-loggers<2.0.0,>=1.0.0\n",
      "  Downloading spacy_loggers-1.0.2-py3-none-any.whl (7.2 kB)\n",
      "Collecting typer<0.5.0,>=0.3.0\n",
      "  Downloading typer-0.4.1-py3-none-any.whl (27 kB)\n",
      "Collecting wasabi<1.1.0,>=0.9.1\n",
      "  Downloading wasabi-0.9.1-py3-none-any.whl (26 kB)\n",
      "Requirement already satisfied: pyparsing>=2.0.2 in c:\\users\\vduchi01\\anaconda3\\lib\\site-packages (from packaging>=20.0->spacy) (3.0.4)\n",
      "Collecting smart-open<6.0.0,>=5.0.0\n",
      "  Downloading smart_open-5.2.1-py3-none-any.whl (58 kB)\n",
      "Requirement already satisfied: typing-extensions>=3.7.4.3 in c:\\users\\vduchi01\\anaconda3\\lib\\site-packages (from pydantic!=1.8,!=1.8.1,<1.9.0,>=1.7.4->spacy) (3.10.0.2)\n",
      "Requirement already satisfied: certifi>=2017.4.17 in c:\\users\\vduchi01\\anaconda3\\lib\\site-packages (from requests<3.0.0,>=2.13.0->spacy) (2021.10.8)\n",
      "Requirement already satisfied: urllib3<1.27,>=1.21.1 in c:\\users\\vduchi01\\anaconda3\\lib\\site-packages (from requests<3.0.0,>=2.13.0->spacy) (1.26.7)\n",
      "Requirement already satisfied: charset-normalizer~=2.0.0 in c:\\users\\vduchi01\\anaconda3\\lib\\site-packages (from requests<3.0.0,>=2.13.0->spacy) (2.0.4)\n",
      "Requirement already satisfied: idna<4,>=2.5 in c:\\users\\vduchi01\\anaconda3\\lib\\site-packages (from requests<3.0.0,>=2.13.0->spacy) (3.2)\n",
      "Requirement already satisfied: colorama in c:\\users\\vduchi01\\anaconda3\\lib\\site-packages (from tqdm<5.0.0,>=4.38.0->spacy) (0.4.4)\n",
      "Requirement already satisfied: click<9.0.0,>=7.1.1 in c:\\users\\vduchi01\\anaconda3\\lib\\site-packages (from typer<0.5.0,>=0.3.0->spacy) (8.0.3)\n",
      "Requirement already satisfied: MarkupSafe>=0.23 in c:\\users\\vduchi01\\anaconda3\\lib\\site-packages (from jinja2->spacy) (1.1.1)\n",
      "Installing collected packages: murmurhash, cymem, catalogue, wasabi, typer, srsly, smart-open, pydantic, preshed, blis, thinc, spacy-loggers, spacy-legacy, pathy, langcodes, spacy\n",
      "Successfully installed blis-0.7.7 catalogue-2.0.7 cymem-2.0.6 langcodes-3.3.0 murmurhash-1.0.7 pathy-0.6.1 preshed-3.0.6 pydantic-1.8.2 smart-open-5.2.1 spacy-3.3.1 spacy-legacy-3.0.9 spacy-loggers-1.0.2 srsly-2.4.3 thinc-8.0.17 typer-0.4.1 wasabi-0.9.1\n",
      "Collecting pt-core-news-sm==3.3.0\n",
      "  Downloading https://github.com/explosion/spacy-models/releases/download/pt_core_news_sm-3.3.0/pt_core_news_sm-3.3.0-py3-none-any.whl (13.0 MB)\n",
      "Requirement already satisfied: spacy<3.4.0,>=3.3.0.dev0 in c:\\users\\vduchi01\\anaconda3\\lib\\site-packages (from pt-core-news-sm==3.3.0) (3.3.1)\n",
      "Requirement already satisfied: murmurhash<1.1.0,>=0.28.0 in c:\\users\\vduchi01\\anaconda3\\lib\\site-packages (from spacy<3.4.0,>=3.3.0.dev0->pt-core-news-sm==3.3.0) (1.0.7)\n",
      "Requirement already satisfied: pydantic!=1.8,!=1.8.1,<1.9.0,>=1.7.4 in c:\\users\\vduchi01\\anaconda3\\lib\\site-packages (from spacy<3.4.0,>=3.3.0.dev0->pt-core-news-sm==3.3.0) (1.8.2)\n",
      "Requirement already satisfied: blis<0.8.0,>=0.4.0 in c:\\users\\vduchi01\\anaconda3\\lib\\site-packages (from spacy<3.4.0,>=3.3.0.dev0->pt-core-news-sm==3.3.0) (0.7.7)\n",
      "Requirement already satisfied: spacy-legacy<3.1.0,>=3.0.9 in c:\\users\\vduchi01\\anaconda3\\lib\\site-packages (from spacy<3.4.0,>=3.3.0.dev0->pt-core-news-sm==3.3.0) (3.0.9)\n",
      "Requirement already satisfied: cymem<2.1.0,>=2.0.2 in c:\\users\\vduchi01\\anaconda3\\lib\\site-packages (from spacy<3.4.0,>=3.3.0.dev0->pt-core-news-sm==3.3.0) (2.0.6)\n",
      "Requirement already satisfied: srsly<3.0.0,>=2.4.3 in c:\\users\\vduchi01\\anaconda3\\lib\\site-packages (from spacy<3.4.0,>=3.3.0.dev0->pt-core-news-sm==3.3.0) (2.4.3)\n",
      "Requirement already satisfied: setuptools in c:\\users\\vduchi01\\anaconda3\\lib\\site-packages (from spacy<3.4.0,>=3.3.0.dev0->pt-core-news-sm==3.3.0) (58.0.4)\n",
      "Requirement already satisfied: tqdm<5.0.0,>=4.38.0 in c:\\users\\vduchi01\\anaconda3\\lib\\site-packages (from spacy<3.4.0,>=3.3.0.dev0->pt-core-news-sm==3.3.0) (4.62.3)\n",
      "Requirement already satisfied: typer<0.5.0,>=0.3.0 in c:\\users\\vduchi01\\anaconda3\\lib\\site-packages (from spacy<3.4.0,>=3.3.0.dev0->pt-core-news-sm==3.3.0) (0.4.1)\n",
      "Requirement already satisfied: numpy>=1.15.0 in c:\\users\\vduchi01\\anaconda3\\lib\\site-packages (from spacy<3.4.0,>=3.3.0.dev0->pt-core-news-sm==3.3.0) (1.20.3)\n",
      "Requirement already satisfied: thinc<8.1.0,>=8.0.14 in c:\\users\\vduchi01\\anaconda3\\lib\\site-packages (from spacy<3.4.0,>=3.3.0.dev0->pt-core-news-sm==3.3.0) (8.0.17)\n",
      "Requirement already satisfied: spacy-loggers<2.0.0,>=1.0.0 in c:\\users\\vduchi01\\anaconda3\\lib\\site-packages (from spacy<3.4.0,>=3.3.0.dev0->pt-core-news-sm==3.3.0) (1.0.2)\n",
      "Requirement already satisfied: packaging>=20.0 in c:\\users\\vduchi01\\anaconda3\\lib\\site-packages (from spacy<3.4.0,>=3.3.0.dev0->pt-core-news-sm==3.3.0) (21.0)\n",
      "Requirement already satisfied: preshed<3.1.0,>=3.0.2 in c:\\users\\vduchi01\\anaconda3\\lib\\site-packages (from spacy<3.4.0,>=3.3.0.dev0->pt-core-news-sm==3.3.0) (3.0.6)\n",
      "Requirement already satisfied: wasabi<1.1.0,>=0.9.1 in c:\\users\\vduchi01\\anaconda3\\lib\\site-packages (from spacy<3.4.0,>=3.3.0.dev0->pt-core-news-sm==3.3.0) (0.9.1)\n",
      "Requirement already satisfied: jinja2 in c:\\users\\vduchi01\\anaconda3\\lib\\site-packages (from spacy<3.4.0,>=3.3.0.dev0->pt-core-news-sm==3.3.0) (2.11.3)\n",
      "Requirement already satisfied: langcodes<4.0.0,>=3.2.0 in c:\\users\\vduchi01\\anaconda3\\lib\\site-packages (from spacy<3.4.0,>=3.3.0.dev0->pt-core-news-sm==3.3.0) (3.3.0)\n",
      "Requirement already satisfied: pathy>=0.3.5 in c:\\users\\vduchi01\\anaconda3\\lib\\site-packages (from spacy<3.4.0,>=3.3.0.dev0->pt-core-news-sm==3.3.0) (0.6.1)\n",
      "Requirement already satisfied: catalogue<2.1.0,>=2.0.6 in c:\\users\\vduchi01\\anaconda3\\lib\\site-packages (from spacy<3.4.0,>=3.3.0.dev0->pt-core-news-sm==3.3.0) (2.0.7)\n",
      "Requirement already satisfied: requests<3.0.0,>=2.13.0 in c:\\users\\vduchi01\\anaconda3\\lib\\site-packages (from spacy<3.4.0,>=3.3.0.dev0->pt-core-news-sm==3.3.0) (2.26.0)\n",
      "Requirement already satisfied: pyparsing>=2.0.2 in c:\\users\\vduchi01\\anaconda3\\lib\\site-packages (from packaging>=20.0->spacy<3.4.0,>=3.3.0.dev0->pt-core-news-sm==3.3.0) (3.0.4)\n",
      "Requirement already satisfied: smart-open<6.0.0,>=5.0.0 in c:\\users\\vduchi01\\anaconda3\\lib\\site-packages (from pathy>=0.3.5->spacy<3.4.0,>=3.3.0.dev0->pt-core-news-sm==3.3.0) (5.2.1)\n",
      "Requirement already satisfied: typing-extensions>=3.7.4.3 in c:\\users\\vduchi01\\anaconda3\\lib\\site-packages (from pydantic!=1.8,!=1.8.1,<1.9.0,>=1.7.4->spacy<3.4.0,>=3.3.0.dev0->pt-core-news-sm==3.3.0) (3.10.0.2)\n",
      "Requirement already satisfied: charset-normalizer~=2.0.0 in c:\\users\\vduchi01\\anaconda3\\lib\\site-packages (from requests<3.0.0,>=2.13.0->spacy<3.4.0,>=3.3.0.dev0->pt-core-news-sm==3.3.0) (2.0.4)\n",
      "Requirement already satisfied: urllib3<1.27,>=1.21.1 in c:\\users\\vduchi01\\anaconda3\\lib\\site-packages (from requests<3.0.0,>=2.13.0->spacy<3.4.0,>=3.3.0.dev0->pt-core-news-sm==3.3.0) (1.26.7)\n",
      "Requirement already satisfied: certifi>=2017.4.17 in c:\\users\\vduchi01\\anaconda3\\lib\\site-packages (from requests<3.0.0,>=2.13.0->spacy<3.4.0,>=3.3.0.dev0->pt-core-news-sm==3.3.0) (2021.10.8)\n",
      "Requirement already satisfied: idna<4,>=2.5 in c:\\users\\vduchi01\\anaconda3\\lib\\site-packages (from requests<3.0.0,>=2.13.0->spacy<3.4.0,>=3.3.0.dev0->pt-core-news-sm==3.3.0) (3.2)\n",
      "Requirement already satisfied: colorama in c:\\users\\vduchi01\\anaconda3\\lib\\site-packages (from tqdm<5.0.0,>=4.38.0->spacy<3.4.0,>=3.3.0.dev0->pt-core-news-sm==3.3.0) (0.4.4)\n",
      "Requirement already satisfied: click<9.0.0,>=7.1.1 in c:\\users\\vduchi01\\anaconda3\\lib\\site-packages (from typer<0.5.0,>=0.3.0->spacy<3.4.0,>=3.3.0.dev0->pt-core-news-sm==3.3.0) (8.0.3)\n",
      "Requirement already satisfied: MarkupSafe>=0.23 in c:\\users\\vduchi01\\anaconda3\\lib\\site-packages (from jinja2->spacy<3.4.0,>=3.3.0.dev0->pt-core-news-sm==3.3.0) (1.1.1)\n",
      "Installing collected packages: pt-core-news-sm\n",
      "Successfully installed pt-core-news-sm-3.3.0\n",
      "[+] Download and installation successful\n",
      "You can now load the package via spacy.load('pt_core_news_sm')\n"
     ]
    }
   ],
   "source": [
    "# Bibliotecas além do gerenciador Anaconda\n",
    "!pip install spacy\n",
    "!python -m spacy download pt_core_news_sm"
   ]
  },
  {
   "cell_type": "code",
   "execution_count": 2,
   "id": "549a2763",
   "metadata": {},
   "outputs": [],
   "source": [
    "# Módulos básicos para manuseio de dados e arquivos\n",
    "import pandas as pd\n",
    "import numpy as np\n",
    "import os\n",
    "import re\n",
    "import string\n",
    "import unicodedata\n",
    "from os.path import isfile, join\n",
    "\n",
    "# Módulo para visualização de dados\n",
    "import matplotlib.pyplot as plt\n",
    "%matplotlib inline\n",
    "\n",
    "# Módulos para processamento de linguagem\n",
    "import spacy\n",
    "from sklearn.feature_extraction.text import CountVectorizer\n",
    "from sklearn.feature_extraction.text import TfidfVectorizer"
   ]
  },
  {
   "cell_type": "markdown",
   "id": "be8cb9d6",
   "metadata": {},
   "source": [
    "## Carregamento de textos"
   ]
  },
  {
   "cell_type": "code",
   "execution_count": 3,
   "id": "b1b0955f",
   "metadata": {},
   "outputs": [],
   "source": [
    "limited_news_path = r'Software\\Fake.br-Corpus' #\\fake_10 or \\true_10\n",
    "news_path = r'Software\\Fake.br-Corpus\\full_texts' #\\fake or \\true\n",
    "\n",
    "paths = [limited_news_path, news_path]"
   ]
  },
  {
   "cell_type": "code",
   "execution_count": 4,
   "id": "017b5135",
   "metadata": {},
   "outputs": [],
   "source": [
    "def sortDir(dir_path: str, is_meta=False) ->list:\n",
    "    '''\n",
    "    Ordena os arquivos dentro de dir_path e os retorna no formato de lista.\n",
    "    '''\n",
    "    if is_meta:\n",
    "        number_separator = \"-meta.txt\"\n",
    "    else:\n",
    "        number_separator = \".txt\"\n",
    "\n",
    "    first_list = os.listdir(dir_path)\n",
    "    int_list = [int(element.split(number_separator)[0]) for element in first_list]\n",
    "    int_list.sort()\n",
    "    final_list = [(str(element) + number_separator) for element in int_list]\n",
    "\n",
    "    return final_list\n",
    "\n",
    "def txtToDataframe(path, is_limited=True):\n",
    "    '''\n",
    "    Function for converting full texts to a single DataFrame.\n",
    "    '''\n",
    "    if is_limited:\n",
    "        true_files = [path+\"\\\\true_10\\\\\"+f for f in sortDir(dir_path = path+'\\\\true_10') if isfile(join(path+'\\\\true_10', f))]\n",
    "        fake_files = [path+\"\\\\fake_10\\\\\"+f for f in sortDir(dir_path = path+'\\\\fake_10') if isfile(join(path+'\\\\fake_10', f))]\n",
    "    else:\n",
    "        true_files = [path+\"\\\\true\\\\\"+f for f in sortDir(dir_path = path+'\\\\true') if isfile(join(path+'\\\\true', f))]\n",
    "        fake_files = [path+\"\\\\fake\\\\\"+f for f in sortDir(dir_path = path+'\\\\fake') if isfile(join(path+'\\\\fake', f))]\n",
    "    \n",
    "    texts = []\n",
    "    labels = []\n",
    "    \n",
    "    for file in true_files:\n",
    "        with open(file, encoding='utf-8') as f:\n",
    "            texts.append(f.read())\n",
    "            labels.append('true')\n",
    "    for file in fake_files:\n",
    "        with open(file, encoding='utf-8') as f:\n",
    "            texts.append(f.read())\n",
    "            labels.append('fake')\n",
    "            \n",
    "    df = pd.DataFrame(list(zip(texts,labels)),columns=['texts','labels'])\n",
    "    \n",
    "    # Com esta função, textos e labels foram inseridos em um DataFrame de maneira sequencial. Todas as notícias verdadeiras vêm\n",
    "    # ANTES do bloco de notícias falsas.\n",
    "    \n",
    "    return df\n",
    "\n",
    "def appendMetadata(path,df, is_limited=True):\n",
    "    '''\n",
    "    Function for appending metadata to previously generated news DataFrame.\n",
    "    '''\n",
    "    if is_limited:\n",
    "        true_meta = [path+\"\\\\true-meta-information-10\\\\\"+f for f in sortDir(dir_path = path+'\\\\true-meta-information-10',is_meta=True) if isfile(join(path+'\\\\true-meta-information-10', f))]\n",
    "        fake_meta = [path+\"\\\\fake-meta-information-10\\\\\"+f for f in sortDir(dir_path = path+'\\\\fake-meta-information-10',is_meta=True) if isfile(join(path+'\\\\fake-meta-information-10', f))]\n",
    "    else:\n",
    "        true_meta = [path+\"\\\\true-meta-information\\\\\"+f for f in sortDir(dir_path = path+'\\\\true-meta-information',is_meta=True) if isfile(join(path+'\\\\true-meta-information', f))]\n",
    "        fake_meta = [path+\"\\\\fake-meta-information\\\\\"+f for f in sortDir(dir_path = path+'\\\\fake-meta-information',is_meta=True) if isfile(join(path+'\\\\fake-meta-information', f))]\n",
    "    \n",
    "\n",
    "    #true_meta e fake_meta são listas com todas os paths para arquivos de metadata.\n",
    "    \n",
    "    columns = [\"author\", \"source\", \"category\", \"date\",\"tokens\",\"words_without_punctuation\",\"types\",\"number_of_links\",\"uppercase_words\",\"verbs\",\"subjuntive_imperative\",\"nouns\",\"adjectives\",\"adverbs\",\"modal_verbs\",\"singular_first_and_second_personal_pronouns\",\"plural_first_personal_pronouns\",\"pronouns\",\"pausality\",\"characters\",\"avg_sentence_length\",\"avg_word_length\",\"percentage_of_spelling_errors\",\"emotiveness\",\"diversity\"]\n",
    "    \n",
    "    true_metadata = pd.DataFrame(columns=columns)\n",
    "    fake_metadata = pd.DataFrame(columns=columns)\n",
    "    \n",
    "    for file in true_meta:\n",
    "        #print(file)\n",
    "        aux = pd.read_csv(file, header=None, sep = '\\n').transpose()\n",
    "        aux.columns = columns\n",
    "        true_metadata=true_metadata.append(aux)\n",
    "        \n",
    "        \n",
    "    for file in fake_meta:\n",
    "        #print(file)\n",
    "        aux = pd.read_csv(file, header=None, sep = '\\n').transpose()\n",
    "        aux.columns = columns\n",
    "        fake_metadata=fake_metadata.append(aux)\n",
    "        \n",
    "    \n",
    "    metadata = pd.DataFrame(columns=columns)\n",
    "    metadata = metadata.append(true_metadata,ignore_index=True)\n",
    "    metadata = metadata.append(fake_metadata,ignore_index=True) \n",
    "\n",
    "\n",
    "    complete_df = pd.concat([df,metadata],axis=1)\n",
    "    # Este DataFrame possui todos os textos/labels (2 colunas) e metadata (25 colunas).\n",
    "    \n",
    "    return complete_df"
   ]
  },
  {
   "cell_type": "code",
   "execution_count": 5,
   "id": "23f5bc4c",
   "metadata": {},
   "outputs": [
    {
     "name": "stdout",
     "output_type": "stream",
     "text": [
      "0 - Base com 10 notícias verdadeiras e 10 notícias falsas\n",
      "1 - Base completa de notícias\n",
      "1\n"
     ]
    }
   ],
   "source": [
    "ai = int(input('''0 - Base com 10 notícias verdadeiras e 10 notícias falsas\n",
    "1 - Base completa de notícias\n",
    "'''))\n",
    "\n",
    "path = paths[ai]\n",
    "\n",
    "if ai == 0:\n",
    "    data = txtToDataframe(path) # Dataframe contendo notícias e labels.\n",
    "    complete_data = appendMetadata(path,data) # Dataframe contendo notícias, labels e metadata.\n",
    "else:\n",
    "    data = txtToDataframe(path,is_limited=False)\n",
    "    complete_data = appendMetadata(path,data,is_limited=False)"
   ]
  },
  {
   "cell_type": "code",
   "execution_count": 6,
   "id": "5d0bff03",
   "metadata": {},
   "outputs": [
    {
     "data": {
      "text/plain": [
       "(7200, 27)"
      ]
     },
     "execution_count": 6,
     "metadata": {},
     "output_type": "execute_result"
    }
   ],
   "source": [
    "complete_data.shape"
   ]
  },
  {
   "cell_type": "code",
   "execution_count": 7,
   "id": "29daeb15",
   "metadata": {},
   "outputs": [
    {
     "data": {
      "text/html": [
       "<div>\n",
       "<style scoped>\n",
       "    .dataframe tbody tr th:only-of-type {\n",
       "        vertical-align: middle;\n",
       "    }\n",
       "\n",
       "    .dataframe tbody tr th {\n",
       "        vertical-align: top;\n",
       "    }\n",
       "\n",
       "    .dataframe thead th {\n",
       "        text-align: right;\n",
       "    }\n",
       "</style>\n",
       "<table border=\"1\" class=\"dataframe\">\n",
       "  <thead>\n",
       "    <tr style=\"text-align: right;\">\n",
       "      <th></th>\n",
       "      <th>texts</th>\n",
       "      <th>labels</th>\n",
       "      <th>author</th>\n",
       "      <th>source</th>\n",
       "      <th>category</th>\n",
       "      <th>date</th>\n",
       "      <th>tokens</th>\n",
       "      <th>words_without_punctuation</th>\n",
       "      <th>types</th>\n",
       "      <th>number_of_links</th>\n",
       "      <th>...</th>\n",
       "      <th>singular_first_and_second_personal_pronouns</th>\n",
       "      <th>plural_first_personal_pronouns</th>\n",
       "      <th>pronouns</th>\n",
       "      <th>pausality</th>\n",
       "      <th>characters</th>\n",
       "      <th>avg_sentence_length</th>\n",
       "      <th>avg_word_length</th>\n",
       "      <th>percentage_of_spelling_errors</th>\n",
       "      <th>emotiveness</th>\n",
       "      <th>diversity</th>\n",
       "    </tr>\n",
       "  </thead>\n",
       "  <tbody>\n",
       "    <tr>\n",
       "      <th>0</th>\n",
       "      <td>﻿O Podemos decidiu  expulsar o deputado federa...</td>\n",
       "      <td>true</td>\n",
       "      <td>Naira Trindade</td>\n",
       "      <td>http://politica.estadao.com.br/blogs/coluna-do...</td>\n",
       "      <td>politica</td>\n",
       "      <td>13/12/2017</td>\n",
       "      <td>168</td>\n",
       "      <td>148</td>\n",
       "      <td>107</td>\n",
       "      <td>None</td>\n",
       "      <td>...</td>\n",
       "      <td>0</td>\n",
       "      <td>0</td>\n",
       "      <td>7</td>\n",
       "      <td>3.33333</td>\n",
       "      <td>761</td>\n",
       "      <td>24.6667</td>\n",
       "      <td>5.14189</td>\n",
       "      <td>0.0</td>\n",
       "      <td>0.134328</td>\n",
       "      <td>0.722973</td>\n",
       "    </tr>\n",
       "    <tr>\n",
       "      <th>1</th>\n",
       "      <td>Em evento realizado nesta terça-feira para div...</td>\n",
       "      <td>true</td>\n",
       "      <td>Estadão Conteúdo</td>\n",
       "      <td>http://esportes.estadao.com.br/noticias/futebo...</td>\n",
       "      <td>sociedade_cotidiano</td>\n",
       "      <td>26/12/2017</td>\n",
       "      <td>349</td>\n",
       "      <td>294</td>\n",
       "      <td>182</td>\n",
       "      <td>None</td>\n",
       "      <td>...</td>\n",
       "      <td>0</td>\n",
       "      <td>0</td>\n",
       "      <td>29</td>\n",
       "      <td>2.75</td>\n",
       "      <td>1477</td>\n",
       "      <td>14.7</td>\n",
       "      <td>5.02381</td>\n",
       "      <td>0.0</td>\n",
       "      <td>0.325758</td>\n",
       "      <td>0.619048</td>\n",
       "    </tr>\n",
       "    <tr>\n",
       "      <th>2</th>\n",
       "      <td>﻿Após o prefeito de Manaus Arthur Virgílio (PS...</td>\n",
       "      <td>true</td>\n",
       "      <td>Juliana Diógenes</td>\n",
       "      <td>http://politica.estadao.com.br/noticias/geral,...</td>\n",
       "      <td>politica</td>\n",
       "      <td>26/12/2017</td>\n",
       "      <td>249</td>\n",
       "      <td>204</td>\n",
       "      <td>128</td>\n",
       "      <td>None</td>\n",
       "      <td>...</td>\n",
       "      <td>3</td>\n",
       "      <td>0</td>\n",
       "      <td>8</td>\n",
       "      <td>3.0</td>\n",
       "      <td>1019</td>\n",
       "      <td>13.6</td>\n",
       "      <td>4.9951</td>\n",
       "      <td>0.0147059</td>\n",
       "      <td>0.16</td>\n",
       "      <td>0.627451</td>\n",
       "    </tr>\n",
       "    <tr>\n",
       "      <th>3</th>\n",
       "      <td>﻿Doria vai receber Zé Celso após reunião com r...</td>\n",
       "      <td>true</td>\n",
       "      <td>Mônica Bergamo</td>\n",
       "      <td>http://www1.folha.uol.com.br/colunas/monicaber...</td>\n",
       "      <td>politica</td>\n",
       "      <td>11/1/2018</td>\n",
       "      <td>170</td>\n",
       "      <td>147</td>\n",
       "      <td>102</td>\n",
       "      <td>None</td>\n",
       "      <td>...</td>\n",
       "      <td>0</td>\n",
       "      <td>0</td>\n",
       "      <td>7</td>\n",
       "      <td>2.875</td>\n",
       "      <td>700</td>\n",
       "      <td>18.375</td>\n",
       "      <td>4.7619</td>\n",
       "      <td>0.0</td>\n",
       "      <td>0.0694444</td>\n",
       "      <td>0.693878</td>\n",
       "    </tr>\n",
       "    <tr>\n",
       "      <th>4</th>\n",
       "      <td>Gustavo Pedreira Ferraz, que admitiu buscar ma...</td>\n",
       "      <td>true</td>\n",
       "      <td>Luiz Vassallo E Breno Pires</td>\n",
       "      <td>http://politica.estadao.com.br/blogs/fausto-ma...</td>\n",
       "      <td>politica</td>\n",
       "      <td>28/12/2017</td>\n",
       "      <td>389</td>\n",
       "      <td>341</td>\n",
       "      <td>181</td>\n",
       "      <td>None</td>\n",
       "      <td>...</td>\n",
       "      <td>0</td>\n",
       "      <td>0</td>\n",
       "      <td>14</td>\n",
       "      <td>2.66667</td>\n",
       "      <td>1587</td>\n",
       "      <td>18.9444</td>\n",
       "      <td>4.65396</td>\n",
       "      <td>0.00879765</td>\n",
       "      <td>0.11039</td>\n",
       "      <td>0.530792</td>\n",
       "    </tr>\n",
       "    <tr>\n",
       "      <th>...</th>\n",
       "      <td>...</td>\n",
       "      <td>...</td>\n",
       "      <td>...</td>\n",
       "      <td>...</td>\n",
       "      <td>...</td>\n",
       "      <td>...</td>\n",
       "      <td>...</td>\n",
       "      <td>...</td>\n",
       "      <td>...</td>\n",
       "      <td>...</td>\n",
       "      <td>...</td>\n",
       "      <td>...</td>\n",
       "      <td>...</td>\n",
       "      <td>...</td>\n",
       "      <td>...</td>\n",
       "      <td>...</td>\n",
       "      <td>...</td>\n",
       "      <td>...</td>\n",
       "      <td>...</td>\n",
       "      <td>...</td>\n",
       "      <td>...</td>\n",
       "    </tr>\n",
       "    <tr>\n",
       "      <th>7195</th>\n",
       "      <td>Deputado do PT não sabia que estava sendo film...</td>\n",
       "      <td>fake</td>\n",
       "      <td>None</td>\n",
       "      <td>https://www.diariodobrasil.org/deputado-do-pt-...</td>\n",
       "      <td>politica</td>\n",
       "      <td>03/10/2015</td>\n",
       "      <td>208</td>\n",
       "      <td>175</td>\n",
       "      <td>120</td>\n",
       "      <td>0</td>\n",
       "      <td>...</td>\n",
       "      <td>1</td>\n",
       "      <td>2</td>\n",
       "      <td>8</td>\n",
       "      <td>2.75</td>\n",
       "      <td>852</td>\n",
       "      <td>14.5833</td>\n",
       "      <td>4.86857</td>\n",
       "      <td>0.0</td>\n",
       "      <td>0.179487</td>\n",
       "      <td>0.685714</td>\n",
       "    </tr>\n",
       "    <tr>\n",
       "      <th>7196</th>\n",
       "      <td>Cunha cancelou a viagem à Itália porque poderi...</td>\n",
       "      <td>fake</td>\n",
       "      <td>None</td>\n",
       "      <td>https://www.diariodobrasil.org/cunha-cancelou-...</td>\n",
       "      <td>politica</td>\n",
       "      <td>01/10/2015</td>\n",
       "      <td>263</td>\n",
       "      <td>240</td>\n",
       "      <td>136</td>\n",
       "      <td>1</td>\n",
       "      <td>...</td>\n",
       "      <td>2</td>\n",
       "      <td>0</td>\n",
       "      <td>10</td>\n",
       "      <td>3.28571</td>\n",
       "      <td>1197</td>\n",
       "      <td>34.2857</td>\n",
       "      <td>4.9875</td>\n",
       "      <td>0.00416667</td>\n",
       "      <td>0.151261</td>\n",
       "      <td>0.566667</td>\n",
       "    </tr>\n",
       "    <tr>\n",
       "      <th>7197</th>\n",
       "      <td>Mulher bêbada invade Planalto e diz que é \"mar...</td>\n",
       "      <td>fake</td>\n",
       "      <td>None</td>\n",
       "      <td>https://www.diariodobrasil.org/mulher-bebada-i...</td>\n",
       "      <td>sociedade_cotidiano</td>\n",
       "      <td>13/09/2012</td>\n",
       "      <td>111</td>\n",
       "      <td>98</td>\n",
       "      <td>68</td>\n",
       "      <td>0</td>\n",
       "      <td>...</td>\n",
       "      <td>0</td>\n",
       "      <td>0</td>\n",
       "      <td>4</td>\n",
       "      <td>1.85714</td>\n",
       "      <td>467</td>\n",
       "      <td>14.0</td>\n",
       "      <td>4.76531</td>\n",
       "      <td>0.0</td>\n",
       "      <td>0.170213</td>\n",
       "      <td>0.693878</td>\n",
       "    </tr>\n",
       "    <tr>\n",
       "      <th>7198</th>\n",
       "      <td>Há 400 anos,  Nostradamus previu a vitória de ...</td>\n",
       "      <td>fake</td>\n",
       "      <td>None</td>\n",
       "      <td>https://www.diariodobrasil.org/ha-400-anos-nos...</td>\n",
       "      <td>tv_celebridades</td>\n",
       "      <td>03/09/0201</td>\n",
       "      <td>205</td>\n",
       "      <td>174</td>\n",
       "      <td>116</td>\n",
       "      <td>0</td>\n",
       "      <td>...</td>\n",
       "      <td>0</td>\n",
       "      <td>0</td>\n",
       "      <td>15</td>\n",
       "      <td>3.1</td>\n",
       "      <td>834</td>\n",
       "      <td>17.4</td>\n",
       "      <td>4.7931</td>\n",
       "      <td>0.0</td>\n",
       "      <td>0.263158</td>\n",
       "      <td>0.666667</td>\n",
       "    </tr>\n",
       "    <tr>\n",
       "      <th>7199</th>\n",
       "      <td>Forças Armadas aparecem em pesquisa como insti...</td>\n",
       "      <td>fake</td>\n",
       "      <td>None</td>\n",
       "      <td>https://www.diariodobrasil.org/fgv-aponta-forc...</td>\n",
       "      <td>politica</td>\n",
       "      <td>02/05/2015</td>\n",
       "      <td>320</td>\n",
       "      <td>264</td>\n",
       "      <td>158</td>\n",
       "      <td>0</td>\n",
       "      <td>...</td>\n",
       "      <td>0</td>\n",
       "      <td>0</td>\n",
       "      <td>11</td>\n",
       "      <td>4.30769</td>\n",
       "      <td>1254</td>\n",
       "      <td>20.3077</td>\n",
       "      <td>4.75</td>\n",
       "      <td>0.0</td>\n",
       "      <td>0.103093</td>\n",
       "      <td>0.598485</td>\n",
       "    </tr>\n",
       "  </tbody>\n",
       "</table>\n",
       "<p>7200 rows × 27 columns</p>\n",
       "</div>"
      ],
      "text/plain": [
       "                                                  texts labels  \\\n",
       "0     ﻿O Podemos decidiu  expulsar o deputado federa...   true   \n",
       "1     Em evento realizado nesta terça-feira para div...   true   \n",
       "2     ﻿Após o prefeito de Manaus Arthur Virgílio (PS...   true   \n",
       "3     ﻿Doria vai receber Zé Celso após reunião com r...   true   \n",
       "4     Gustavo Pedreira Ferraz, que admitiu buscar ma...   true   \n",
       "...                                                 ...    ...   \n",
       "7195  Deputado do PT não sabia que estava sendo film...   fake   \n",
       "7196  Cunha cancelou a viagem à Itália porque poderi...   fake   \n",
       "7197  Mulher bêbada invade Planalto e diz que é \"mar...   fake   \n",
       "7198  Há 400 anos,  Nostradamus previu a vitória de ...   fake   \n",
       "7199  Forças Armadas aparecem em pesquisa como insti...   fake   \n",
       "\n",
       "                           author  \\\n",
       "0                  Naira Trindade   \n",
       "1                Estadão Conteúdo   \n",
       "2                Juliana Diógenes   \n",
       "3                  Mônica Bergamo   \n",
       "4     Luiz Vassallo E Breno Pires   \n",
       "...                           ...   \n",
       "7195                         None   \n",
       "7196                         None   \n",
       "7197                         None   \n",
       "7198                         None   \n",
       "7199                         None   \n",
       "\n",
       "                                                 source             category  \\\n",
       "0     http://politica.estadao.com.br/blogs/coluna-do...             politica   \n",
       "1     http://esportes.estadao.com.br/noticias/futebo...  sociedade_cotidiano   \n",
       "2     http://politica.estadao.com.br/noticias/geral,...             politica   \n",
       "3     http://www1.folha.uol.com.br/colunas/monicaber...             politica   \n",
       "4     http://politica.estadao.com.br/blogs/fausto-ma...             politica   \n",
       "...                                                 ...                  ...   \n",
       "7195  https://www.diariodobrasil.org/deputado-do-pt-...             politica   \n",
       "7196  https://www.diariodobrasil.org/cunha-cancelou-...             politica   \n",
       "7197  https://www.diariodobrasil.org/mulher-bebada-i...  sociedade_cotidiano   \n",
       "7198  https://www.diariodobrasil.org/ha-400-anos-nos...      tv_celebridades   \n",
       "7199  https://www.diariodobrasil.org/fgv-aponta-forc...             politica   \n",
       "\n",
       "            date tokens words_without_punctuation types number_of_links  ...  \\\n",
       "0     13/12/2017    168                       148   107            None  ...   \n",
       "1     26/12/2017    349                       294   182            None  ...   \n",
       "2     26/12/2017    249                       204   128            None  ...   \n",
       "3      11/1/2018    170                       147   102            None  ...   \n",
       "4     28/12/2017    389                       341   181            None  ...   \n",
       "...          ...    ...                       ...   ...             ...  ...   \n",
       "7195  03/10/2015    208                       175   120               0  ...   \n",
       "7196  01/10/2015    263                       240   136               1  ...   \n",
       "7197  13/09/2012    111                        98    68               0  ...   \n",
       "7198  03/09/0201    205                       174   116               0  ...   \n",
       "7199  02/05/2015    320                       264   158               0  ...   \n",
       "\n",
       "     singular_first_and_second_personal_pronouns  \\\n",
       "0                                              0   \n",
       "1                                              0   \n",
       "2                                              3   \n",
       "3                                              0   \n",
       "4                                              0   \n",
       "...                                          ...   \n",
       "7195                                           1   \n",
       "7196                                           2   \n",
       "7197                                           0   \n",
       "7198                                           0   \n",
       "7199                                           0   \n",
       "\n",
       "     plural_first_personal_pronouns pronouns pausality characters  \\\n",
       "0                                 0        7   3.33333        761   \n",
       "1                                 0       29      2.75       1477   \n",
       "2                                 0        8       3.0       1019   \n",
       "3                                 0        7     2.875        700   \n",
       "4                                 0       14   2.66667       1587   \n",
       "...                             ...      ...       ...        ...   \n",
       "7195                              2        8      2.75        852   \n",
       "7196                              0       10   3.28571       1197   \n",
       "7197                              0        4   1.85714        467   \n",
       "7198                              0       15       3.1        834   \n",
       "7199                              0       11   4.30769       1254   \n",
       "\n",
       "     avg_sentence_length avg_word_length percentage_of_spelling_errors  \\\n",
       "0                24.6667         5.14189                           0.0   \n",
       "1                   14.7         5.02381                           0.0   \n",
       "2                   13.6          4.9951                     0.0147059   \n",
       "3                 18.375          4.7619                           0.0   \n",
       "4                18.9444         4.65396                    0.00879765   \n",
       "...                  ...             ...                           ...   \n",
       "7195             14.5833         4.86857                           0.0   \n",
       "7196             34.2857          4.9875                    0.00416667   \n",
       "7197                14.0         4.76531                           0.0   \n",
       "7198                17.4          4.7931                           0.0   \n",
       "7199             20.3077            4.75                           0.0   \n",
       "\n",
       "     emotiveness diversity  \n",
       "0       0.134328  0.722973  \n",
       "1       0.325758  0.619048  \n",
       "2           0.16  0.627451  \n",
       "3      0.0694444  0.693878  \n",
       "4        0.11039  0.530792  \n",
       "...          ...       ...  \n",
       "7195    0.179487  0.685714  \n",
       "7196    0.151261  0.566667  \n",
       "7197    0.170213  0.693878  \n",
       "7198    0.263158  0.666667  \n",
       "7199    0.103093  0.598485  \n",
       "\n",
       "[7200 rows x 27 columns]"
      ]
     },
     "execution_count": 7,
     "metadata": {},
     "output_type": "execute_result"
    }
   ],
   "source": [
    "complete_data"
   ]
  },
  {
   "cell_type": "markdown",
   "id": "c597e091",
   "metadata": {},
   "source": [
    "## Analisando Base de notícias"
   ]
  },
  {
   "cell_type": "code",
   "execution_count": 8,
   "id": "7070d9f6",
   "metadata": {},
   "outputs": [],
   "source": [
    "# Verificando tamanho de notícias (plotar histograma contendo as quantidades de notícias )\n"
   ]
  },
  {
   "cell_type": "code",
   "execution_count": 9,
   "id": "259eaf9b",
   "metadata": {},
   "outputs": [
    {
     "data": {
      "image/png": "[encoded data removed]",
      "text/plain": [
       "<Figure size 360x216 with 1 Axes>"
      ]
     },
     "metadata": {
      "needs_background": "light"
     },
     "output_type": "display_data"
    }
   ],
   "source": [
    "# Verificando assuntos\n",
    "\n",
    "ax = complete_data['category'].value_counts().plot(kind='bar',\n",
    "                                    figsize=(5,3),\n",
    "                                    title=\"Quantidade de notícias total por categoria\")"
   ]
  },
  {
   "cell_type": "markdown",
   "id": "75f8c571",
   "metadata": {},
   "source": [
    "## Extraindo features"
   ]
  },
  {
   "cell_type": "markdown",
   "id": "f5718d62",
   "metadata": {},
   "source": [
    "##### Bag-of-words\n",
    "O Bag-of-words realiza uma contagem da quantidade de palavras existentes em um conjunto grande de textos. Para utilizar o efeito de considerar palavras com o mesmo significado, devemos pré-processar os textos e lematizar cada palavra."
   ]
  },
  {
   "cell_type": "code",
   "execution_count": 10,
   "id": "b597d8af",
   "metadata": {},
   "outputs": [],
   "source": [
    "# Carregando o pacote de língua portuguesa para o processador Spacy\n",
    "nlp = spacy.load('pt_core_news_sm')"
   ]
  },
  {
   "cell_type": "code",
   "execution_count": 11,
   "id": "5d839fb7",
   "metadata": {},
   "outputs": [
    {
     "data": {
      "text/plain": [
       "'!\"#$%&\\'()*+,-./:;<=>?@[\\\\]^_`{|}~'"
      ]
     },
     "execution_count": 11,
     "metadata": {},
     "output_type": "execute_result"
    }
   ],
   "source": [
    "string.punctuation"
   ]
  },
  {
   "cell_type": "code",
   "execution_count": 12,
   "id": "4807c035",
   "metadata": {},
   "outputs": [],
   "source": [
    "# Defininido funções de preprocessamento\n",
    "\n",
    "def removePunct(text):\n",
    "    '''\n",
    "    Removes any punctuation included in string.punctuation.\n",
    "    '''\n",
    "    translator = text.maketrans({key:'' for key in string.punctuation+'“”'}) # Translates any punctuation into ''\n",
    "    return text.translate(translator)\n",
    "\n",
    "def removeNumbers(text):\n",
    "    '''\n",
    "    Removes any number character in text.\n",
    "    '''\n",
    "    return re.sub('[0-9]', '' , text) # Translates any number into ''\n",
    "\n",
    "def removeStopWords(string):\n",
    "    '''\n",
    "    Removes any portuguese stopwords, using Spacy's standard package.\n",
    "    '''\n",
    "    doc = nlp(string)\n",
    "    return ' '.join([token.text for token in doc if token.is_stop is False])\n",
    "\n",
    "def lemmatize(string):\n",
    "    '''\n",
    "    Lemmatizes text word-by-word. Notice that lemmatizing is not as harsh as stemming, which makes the final text easier to read and understand in common language.\n",
    "    '''\n",
    "    doc = nlp(string)\n",
    "    return ' '.join([token.lemma_ for token in doc])\n",
    "\n",
    "def prep(string, useStopWords = True, lemma = True):\n",
    "    '''\n",
    "    Executes previously defined preprocessing in text.\n",
    "    '''\n",
    "\n",
    "    result = removeNumbers(removePunct(string)).lower()\n",
    "    \n",
    "    if useStopWords and lemma:\n",
    "        doc = nlp(result)\n",
    "        result = ' '.join([token.lemma_ for token in doc if token.is_stop is False])\n",
    "    elif useStopWords:\n",
    "        doc = nlp(result)\n",
    "        result = ' '.join([token.text for token in doc if token.is_stop is False])\n",
    "    elif lemma:\n",
    "        doc = nlp(result)\n",
    "        result = ' '.join([token.lemma_ for token in doc])\n",
    "    return result.replace('\\n',\"\")"
   ]
  },
  {
   "cell_type": "code",
   "execution_count": 13,
   "id": "3886ba78",
   "metadata": {},
   "outputs": [
    {
     "name": "stdout",
     "output_type": "stream",
     "text": [
      "comparar einstein garoto   ano tornar humano imortal jovem física quântico peça quebracabeça\n"
     ]
    }
   ],
   "source": [
    "text = \"Comparado a Einstein, garoto de 11 anos quer tornar humanos imortais. Para o jovem, a física quântica é a primeira peça desse quebra-cabeça\"\n",
    "\n",
    "print(prep(text))"
   ]
  },
  {
   "cell_type": "code",
   "execution_count": 14,
   "id": "d0bfd933",
   "metadata": {},
   "outputs": [
    {
     "name": "stdout",
     "output_type": "stream",
     "text": [
      "Carlos viemos pra zonear  esporte bosta negócio cachaça ganhe apanhar ir brindar  pinga querer limãaaaaao mulher tesãaaaaao dia eesc amar precisar macacada puta merdo cagar  legal calcular integral grafite calcular limite\n"
     ]
    }
   ],
   "source": [
    "text = '''Nós somos lá de São Carlos, viemos aqui pra zonear.\n",
    "No esporte, nós somos bosta, nosso negócio é a cachaça. E mesmo, que nós não ganhe, que nós apanhe, vamos brindar.\n",
    "A pinga, queremos com limãaaaaao. Mulheres, com muito mais tesãaaaaao. Se um dia a EESC amada precisar da macacada, puta merda, que cagada, 1,2,3,4.\n",
    "Como é legal, calcular a integral. Mesmo sem grafite, calculamos o limite.'''\n",
    "\n",
    "print(prep(text))"
   ]
  },
  {
   "cell_type": "code",
   "execution_count": 15,
   "id": "8843e93f",
   "metadata": {},
   "outputs": [
    {
     "name": "stdout",
     "output_type": "stream",
     "text": [
      "petrobra anunciar segundafeira   elevar preço diesel distribuidora preço médio litro passar r   r   terça   aumento  preço gasolina gás cozinha ser alterar  petroleira diesel sofrer reajuste há   dia –   março petrobra alta refletir elevação observar preço mercado\n"
     ]
    }
   ],
   "source": [
    "text_news = '''A Petrobras anunciou nesta segunda-feira (9) que vai elevar o preço do diesel para as distribuidoras. O preço médio do litro vai passar de R$ 4,51 para R$ 4,91 a partir de terça (10), um aumento de 8,87%.\n",
    "\n",
    "Os preços da gasolina e do gás de cozinha não serão alterados.\n",
    "\n",
    "Segundo a petroleira, o diesel não sofria reajuste há 60 dias – desde 11 de março. Naquele momento, diz a Petrobras, a alta refletia \"apenas parte da elevação observada nos preços de mercado\".'''\n",
    "\n",
    "print(prep(text_news))"
   ]
  },
  {
   "cell_type": "code",
   "execution_count": 16,
   "id": "81296d79",
   "metadata": {},
   "outputs": [],
   "source": [
    "def removeMinFreq(data, features, min_freq = 1):\n",
    "    # Realiza a soma da frequência de cada palavra da matriz vetorizada\n",
    "    cols_sum = np.sum(data, axis=0)\n",
    "\n",
    "    del_indexes = []\n",
    "    # Analisa cada valor das contagens de frequência do cols_sum, assignando um índice i, e salva o índice em del_indexes[]\n",
    "    # quando a contagem for acima da min_freq\n",
    "    for i, val in zip(range(len(cols_sum)), cols_sum):\n",
    "        if val < min_freq:\n",
    "            del_indexes.append(i)\n",
    "            \n",
    "    data = np.delete(data,del_indexes,1) # Deleta coluna\n",
    "    features = np.delete(features,del_indexes,0) # Deleta linha\n",
    "    return (data, features)\n",
    "\n",
    "\n",
    "def normalizeData(data):\n",
    "    rows_sum = np.sum(data, axis=1)\n",
    "    data = (data.T / rows_sum).T\n",
    "    return data\n",
    "\n",
    "\n",
    "def loadCount(texts, min_freq = 1, binary = False, normalize = True):\n",
    "\n",
    "    # Instanciando o CountVectorizer\n",
    "    vectorizer = CountVectorizer(input = 'content', preprocessor = prep, encoding='utf-8', binary = binary);\n",
    "    \n",
    "    # Aplicando processo de vetorização\n",
    "    data = np.array(vectorizer.fit_transform(text_list).todense());\n",
    "    features = np.array(vectorizer.get_feature_names())\n",
    "    \n",
    "    # Se min_freq for 1, então todos os tokens são considerados\n",
    "    if(min_freq > 1):\n",
    "        data, features = removeMinFreq(data, features, min_freq)\n",
    "    if(normalize):\n",
    "        data = normalizeData(data)\n",
    "\n",
    "    return pd.DataFrame(data,columns = features)\n",
    "\n",
    "def loadTfidf(texts):\n",
    "\n",
    "    # Instanciando o Tf-Idf como vetorizador\n",
    "    vectorizer = TfidfVectorizer(input = 'content', preprocessor = prep, encoding='utf-8')\n",
    "    \n",
    "    data = np.array(vectorizer.fit_transform(texts).todense());\n",
    "    features = np.array(vectorizer.get_feature_names())\n",
    "    \n",
    "    return pd.DataFrame(data,columns = features)"
   ]
  },
  {
   "cell_type": "code",
   "execution_count": 35,
   "id": "463404f1",
   "metadata": {},
   "outputs": [],
   "source": [
    "# Utilizando as funções definidas previamente, criamos dataframes para o bag-of-words (frequência geral e TF-IDF).\n",
    "\n",
    "text_list = [prep(item) for item in complete_data['texts'].to_list()]\n"
   ]
  },
  {
   "cell_type": "code",
   "execution_count": 100,
   "id": "b836f2f1",
   "metadata": {
    "scrolled": true
   },
   "outputs": [
    {
     "data": {
      "text/plain": [
       "'evento realizar terçafeira divulgar jogo estrela amistoso beneficente ser realizar estádio maracanã rio janeiro zico questionar ano flamengo ídolo clube poupar crítica montagem elenco  visão investimento fazer surtir efeito campo achar equipe supervalorizar falar reclamar fácil trazer muito gente competição mudança constante lesão funcionar  avaliação zico faltar trabalho melhor avaliação jogador contratar especialmente vir futebol exterior futebol precisar seguir frente analisar investimento principalmente jogador exterior preciso rendimento questão saúde alertar infelizmente acontecer jogador Flamengo investir  zico avaliar diretoria precisar preocupar trazer jogador identificar clube reta temporada criticar suposto garra atleta precisar representar camisa flamengo história clube dizer preciso entendido flamengo clube diferente  resultado ano terminar maneira frustrante torcedor lógico objetivo principal atuação libertador acontecer consequentemente conseguir chegar sulamericana chegar final lógico investimento esperar acontecer ficar gostinho amargo conquistar competição internacional'"
      ]
     },
     "execution_count": 100,
     "metadata": {},
     "output_type": "execute_result"
    }
   ],
   "source": [
    "text_list[1]"
   ]
  },
  {
   "cell_type": "code",
   "execution_count": 68,
   "id": "d4ad0b99",
   "metadata": {},
   "outputs": [
    {
     "name": "stdout",
     "output_type": "stream",
     "text": [
      "543.5586111111111\n"
     ]
    }
   ],
   "source": [
    "noticias_true = [len(text_list[i].split()) for i in range(0,3600)]\n",
    "avgt = sum(noticias_true)/len(noticias_true)\n",
    "print(avgt)"
   ]
  },
  {
   "cell_type": "code",
   "execution_count": 85,
   "id": "87c9e6cb",
   "metadata": {
    "scrolled": true
   },
   "outputs": [
    {
     "name": "stdout",
     "output_type": "stream",
     "text": [
      "328.0765805049924\n"
     ]
    }
   ],
   "source": [
    "std_t =(np.std(noticias_true))\n",
    "print(std_t)"
   ]
  },
  {
   "cell_type": "code",
   "execution_count": 71,
   "id": "3387f82f",
   "metadata": {},
   "outputs": [
    {
     "name": "stdout",
     "output_type": "stream",
     "text": [
      "94.64472222222223\n"
     ]
    }
   ],
   "source": [
    "noticias_fake = [len(text_list[i].split()) for i in range(3600,7200)]\n",
    "avgf = sum(noticias_fake)/len(noticias_fake)\n",
    "print(avgf)"
   ]
  },
  {
   "cell_type": "code",
   "execution_count": 86,
   "id": "91c8bdcf",
   "metadata": {
    "scrolled": true
   },
   "outputs": [
    {
     "name": "stdout",
     "output_type": "stream",
     "text": [
      "61.88419875443484\n"
     ]
    }
   ],
   "source": [
    "std_f = (np.std(noticias_fake))\n",
    "print(std_f)"
   ]
  },
  {
   "cell_type": "code",
   "execution_count": 118,
   "id": "81596988",
   "metadata": {},
   "outputs": [
    {
     "name": "stdout",
     "output_type": "stream",
     "text": [
      "3591\n"
     ]
    }
   ],
   "source": [
    "count = 0\n",
    "for i in noticias_fake:\n",
    "    if i < 500:\n",
    "        count = count + 1\n",
    "print(count)"
   ]
  },
  {
   "cell_type": "code",
   "execution_count": 99,
   "id": "561b10a1",
   "metadata": {},
   "outputs": [
    {
     "name": "stdout",
     "output_type": "stream",
     "text": [
      "0.875\n"
     ]
    }
   ],
   "source": [
    "#distância de 0.5 desvio padrão true\n",
    "\n",
    "desvio1_true = []\n",
    "minlim = avgt-(0.5*std_t)\n",
    "minlim = minlim.astype(int)\n",
    "maxlim = avgt+(0.5*std_t)\n",
    "maxlim = maxlim.astype(int)\n",
    "\n",
    "for i in noticias_true:\n",
    "    if i > minlim & i < maxlim:\n",
    "        desvio1_true.append(i)\n",
    "range_t = len(desvio1_true)/3600\n",
    "print(range_t)"
   ]
  },
  {
   "cell_type": "code",
   "execution_count": 94,
   "id": "982acf3e",
   "metadata": {
    "scrolled": true
   },
   "outputs": [
    {
     "name": "stdout",
     "output_type": "stream",
     "text": [
      "0.9708333333333333\n"
     ]
    }
   ],
   "source": [
    "#distância de 1 desvio padrão true\n",
    "\n",
    "desvio1_true = []\n",
    "minlim = avgt-std_t\n",
    "minlim = minlim.astype(int)\n",
    "maxlim = avgt+std_t\n",
    "maxlim = maxlim.astype(int)\n",
    "\n",
    "for i in noticias_true:\n",
    "    if i > minlim & i < maxlim:\n",
    "        desvio1_true.append(i)\n",
    "range_t = len(desvio1_true)/3600\n",
    "print(range_t)\n"
   ]
  },
  {
   "cell_type": "code",
   "execution_count": 95,
   "id": "3927ac8c",
   "metadata": {},
   "outputs": [
    {
     "name": "stdout",
     "output_type": "stream",
     "text": [
      "1.0\n"
     ]
    }
   ],
   "source": [
    "#distância de 1,5 desvio padrão true\n",
    "\n",
    "desvio1_true = []\n",
    "minlim = avgt-(1.5*std_t)\n",
    "minlim = minlim.astype(int)\n",
    "maxlim = avgt+(1.5*std_t)\n",
    "maxlim = maxlim.astype(int)\n",
    "\n",
    "for i in noticias_true:\n",
    "    if i > minlim & i < maxlim:\n",
    "        desvio1_true.append(i)\n",
    "range_t = len(desvio1_true)/3600\n",
    "print(range_t)"
   ]
  },
  {
   "cell_type": "code",
   "execution_count": 98,
   "id": "9d20489c",
   "metadata": {},
   "outputs": [
    {
     "name": "stdout",
     "output_type": "stream",
     "text": [
      "0.695\n"
     ]
    }
   ],
   "source": [
    "#distância de 0.5 desvio padrão fake\n",
    "\n",
    "desvio1_fake = []\n",
    "minlim = avgf-(0.5*std_f)\n",
    "minlim = minlim.astype(int)\n",
    "maxlim = avgf+(0.5*std_f)\n",
    "maxlim = maxlim.astype(int)\n",
    "\n",
    "for i in noticias_fake:\n",
    "    if i > minlim & i < maxlim:\n",
    "        desvio1_fake.append(i)\n",
    "range_f = len(desvio1_fake)/3600\n",
    "print(range_f)"
   ]
  },
  {
   "cell_type": "code",
   "execution_count": 97,
   "id": "c91bcdf1",
   "metadata": {},
   "outputs": [
    {
     "name": "stdout",
     "output_type": "stream",
     "text": [
      "0.9977777777777778\n"
     ]
    }
   ],
   "source": [
    "#distância de 1 desvio padrão fake\n",
    "\n",
    "desvio1_fake = []\n",
    "minlim = avgf-std_f\n",
    "minlim = minlim.astype(int)\n",
    "maxlim = avgf+std_f\n",
    "maxlim = maxlim.astype(int)\n",
    "\n",
    "for i in noticias_fake:\n",
    "    if i > minlim & i < maxlim:\n",
    "        desvio1_fake.append(i)\n",
    "range_f = len(desvio1_fake)/3600\n",
    "print(range_f)"
   ]
  },
  {
   "cell_type": "code",
   "execution_count": 75,
   "id": "90a80299",
   "metadata": {
    "scrolled": true
   },
   "outputs": [
    {
     "data": {
      "image/png": "[encoded data removed]",
      "text/plain": [
       "<Figure size 432x288 with 1 Axes>"
      ]
     },
     "metadata": {
      "needs_background": "light"
     },
     "output_type": "display_data"
    }
   ],
   "source": [
    "import seaborn as sns\n",
    "ax = sns.histplot(noticias_true)"
   ]
  },
  {
   "cell_type": "code",
   "execution_count": null,
   "id": "5aebd281",
   "metadata": {},
   "outputs": [],
   "source": [
    "ay = sns.histplot(noticia)"
   ]
  },
  {
   "cell_type": "code",
   "execution_count": 43,
   "id": "687e35e1",
   "metadata": {},
   "outputs": [],
   "source": [
    "df_bow = loadCount(text_list, normalize = False)\n",
    "#df_tfidf = loadTfidf(text_list)"
   ]
  },
  {
   "cell_type": "code",
   "execution_count": 44,
   "id": "5eb38550",
   "metadata": {},
   "outputs": [
    {
     "data": {
      "text/plain": [
       "(7200, 76675)"
      ]
     },
     "execution_count": 44,
     "metadata": {},
     "output_type": "execute_result"
    }
   ],
   "source": [
    "df_bow.shape"
   ]
  },
  {
   "cell_type": "code",
   "execution_count": 45,
   "id": "0fe997d1",
   "metadata": {},
   "outputs": [
    {
     "data": {
      "text/html": [
       "<div>\n",
       "<style scoped>\n",
       "    .dataframe tbody tr th:only-of-type {\n",
       "        vertical-align: middle;\n",
       "    }\n",
       "\n",
       "    .dataframe tbody tr th {\n",
       "        vertical-align: top;\n",
       "    }\n",
       "\n",
       "    .dataframe thead th {\n",
       "        text-align: right;\n",
       "    }\n",
       "</style>\n",
       "<table border=\"1\" class=\"dataframe\">\n",
       "  <thead>\n",
       "    <tr style=\"text-align: right;\">\n",
       "      <th></th>\n",
       "      <th>Aaron</th>\n",
       "      <th>Ab</th>\n",
       "      <th>Abacc</th>\n",
       "      <th>Abalaramse</th>\n",
       "      <th>Abalo</th>\n",
       "      <th>Abandonei</th>\n",
       "      <th>Abandonála</th>\n",
       "      <th>Abastecimento</th>\n",
       "      <th>Abate</th>\n",
       "      <th>Abdoolr</th>\n",
       "      <th>...</th>\n",
       "      <th>úmido</th>\n",
       "      <th>úmir</th>\n",
       "      <th>úncio</th>\n",
       "      <th>único</th>\n",
       "      <th>útel</th>\n",
       "      <th>útero</th>\n",
       "      <th>útil</th>\n",
       "      <th>útlimo</th>\n",
       "      <th>über</th>\n",
       "      <th>расстегаи</th>\n",
       "    </tr>\n",
       "  </thead>\n",
       "  <tbody>\n",
       "    <tr>\n",
       "      <th>0</th>\n",
       "      <td>0</td>\n",
       "      <td>0</td>\n",
       "      <td>0</td>\n",
       "      <td>0</td>\n",
       "      <td>0</td>\n",
       "      <td>0</td>\n",
       "      <td>0</td>\n",
       "      <td>0</td>\n",
       "      <td>0</td>\n",
       "      <td>0</td>\n",
       "      <td>...</td>\n",
       "      <td>0</td>\n",
       "      <td>0</td>\n",
       "      <td>0</td>\n",
       "      <td>0</td>\n",
       "      <td>0</td>\n",
       "      <td>0</td>\n",
       "      <td>0</td>\n",
       "      <td>0</td>\n",
       "      <td>0</td>\n",
       "      <td>0</td>\n",
       "    </tr>\n",
       "    <tr>\n",
       "      <th>1</th>\n",
       "      <td>0</td>\n",
       "      <td>0</td>\n",
       "      <td>0</td>\n",
       "      <td>0</td>\n",
       "      <td>0</td>\n",
       "      <td>0</td>\n",
       "      <td>0</td>\n",
       "      <td>0</td>\n",
       "      <td>0</td>\n",
       "      <td>0</td>\n",
       "      <td>...</td>\n",
       "      <td>0</td>\n",
       "      <td>0</td>\n",
       "      <td>0</td>\n",
       "      <td>0</td>\n",
       "      <td>0</td>\n",
       "      <td>0</td>\n",
       "      <td>0</td>\n",
       "      <td>0</td>\n",
       "      <td>0</td>\n",
       "      <td>0</td>\n",
       "    </tr>\n",
       "    <tr>\n",
       "      <th>2</th>\n",
       "      <td>0</td>\n",
       "      <td>0</td>\n",
       "      <td>0</td>\n",
       "      <td>0</td>\n",
       "      <td>0</td>\n",
       "      <td>0</td>\n",
       "      <td>0</td>\n",
       "      <td>0</td>\n",
       "      <td>0</td>\n",
       "      <td>0</td>\n",
       "      <td>...</td>\n",
       "      <td>0</td>\n",
       "      <td>0</td>\n",
       "      <td>0</td>\n",
       "      <td>0</td>\n",
       "      <td>0</td>\n",
       "      <td>0</td>\n",
       "      <td>0</td>\n",
       "      <td>0</td>\n",
       "      <td>0</td>\n",
       "      <td>0</td>\n",
       "    </tr>\n",
       "    <tr>\n",
       "      <th>3</th>\n",
       "      <td>0</td>\n",
       "      <td>0</td>\n",
       "      <td>0</td>\n",
       "      <td>0</td>\n",
       "      <td>0</td>\n",
       "      <td>0</td>\n",
       "      <td>0</td>\n",
       "      <td>0</td>\n",
       "      <td>0</td>\n",
       "      <td>0</td>\n",
       "      <td>...</td>\n",
       "      <td>0</td>\n",
       "      <td>0</td>\n",
       "      <td>0</td>\n",
       "      <td>0</td>\n",
       "      <td>0</td>\n",
       "      <td>0</td>\n",
       "      <td>0</td>\n",
       "      <td>0</td>\n",
       "      <td>0</td>\n",
       "      <td>0</td>\n",
       "    </tr>\n",
       "    <tr>\n",
       "      <th>4</th>\n",
       "      <td>0</td>\n",
       "      <td>0</td>\n",
       "      <td>0</td>\n",
       "      <td>0</td>\n",
       "      <td>0</td>\n",
       "      <td>0</td>\n",
       "      <td>0</td>\n",
       "      <td>0</td>\n",
       "      <td>0</td>\n",
       "      <td>0</td>\n",
       "      <td>...</td>\n",
       "      <td>0</td>\n",
       "      <td>0</td>\n",
       "      <td>0</td>\n",
       "      <td>0</td>\n",
       "      <td>0</td>\n",
       "      <td>0</td>\n",
       "      <td>0</td>\n",
       "      <td>0</td>\n",
       "      <td>0</td>\n",
       "      <td>0</td>\n",
       "    </tr>\n",
       "    <tr>\n",
       "      <th>...</th>\n",
       "      <td>...</td>\n",
       "      <td>...</td>\n",
       "      <td>...</td>\n",
       "      <td>...</td>\n",
       "      <td>...</td>\n",
       "      <td>...</td>\n",
       "      <td>...</td>\n",
       "      <td>...</td>\n",
       "      <td>...</td>\n",
       "      <td>...</td>\n",
       "      <td>...</td>\n",
       "      <td>...</td>\n",
       "      <td>...</td>\n",
       "      <td>...</td>\n",
       "      <td>...</td>\n",
       "      <td>...</td>\n",
       "      <td>...</td>\n",
       "      <td>...</td>\n",
       "      <td>...</td>\n",
       "      <td>...</td>\n",
       "      <td>...</td>\n",
       "    </tr>\n",
       "    <tr>\n",
       "      <th>7195</th>\n",
       "      <td>0</td>\n",
       "      <td>0</td>\n",
       "      <td>0</td>\n",
       "      <td>0</td>\n",
       "      <td>0</td>\n",
       "      <td>0</td>\n",
       "      <td>0</td>\n",
       "      <td>0</td>\n",
       "      <td>0</td>\n",
       "      <td>0</td>\n",
       "      <td>...</td>\n",
       "      <td>0</td>\n",
       "      <td>0</td>\n",
       "      <td>0</td>\n",
       "      <td>0</td>\n",
       "      <td>0</td>\n",
       "      <td>0</td>\n",
       "      <td>0</td>\n",
       "      <td>0</td>\n",
       "      <td>0</td>\n",
       "      <td>0</td>\n",
       "    </tr>\n",
       "    <tr>\n",
       "      <th>7196</th>\n",
       "      <td>0</td>\n",
       "      <td>0</td>\n",
       "      <td>0</td>\n",
       "      <td>0</td>\n",
       "      <td>0</td>\n",
       "      <td>0</td>\n",
       "      <td>0</td>\n",
       "      <td>0</td>\n",
       "      <td>0</td>\n",
       "      <td>0</td>\n",
       "      <td>...</td>\n",
       "      <td>0</td>\n",
       "      <td>0</td>\n",
       "      <td>0</td>\n",
       "      <td>0</td>\n",
       "      <td>0</td>\n",
       "      <td>0</td>\n",
       "      <td>0</td>\n",
       "      <td>0</td>\n",
       "      <td>0</td>\n",
       "      <td>0</td>\n",
       "    </tr>\n",
       "    <tr>\n",
       "      <th>7197</th>\n",
       "      <td>0</td>\n",
       "      <td>0</td>\n",
       "      <td>0</td>\n",
       "      <td>0</td>\n",
       "      <td>0</td>\n",
       "      <td>0</td>\n",
       "      <td>0</td>\n",
       "      <td>0</td>\n",
       "      <td>0</td>\n",
       "      <td>0</td>\n",
       "      <td>...</td>\n",
       "      <td>0</td>\n",
       "      <td>0</td>\n",
       "      <td>0</td>\n",
       "      <td>0</td>\n",
       "      <td>0</td>\n",
       "      <td>0</td>\n",
       "      <td>0</td>\n",
       "      <td>0</td>\n",
       "      <td>0</td>\n",
       "      <td>0</td>\n",
       "    </tr>\n",
       "    <tr>\n",
       "      <th>7198</th>\n",
       "      <td>0</td>\n",
       "      <td>0</td>\n",
       "      <td>0</td>\n",
       "      <td>0</td>\n",
       "      <td>0</td>\n",
       "      <td>0</td>\n",
       "      <td>0</td>\n",
       "      <td>0</td>\n",
       "      <td>0</td>\n",
       "      <td>0</td>\n",
       "      <td>...</td>\n",
       "      <td>0</td>\n",
       "      <td>0</td>\n",
       "      <td>0</td>\n",
       "      <td>0</td>\n",
       "      <td>0</td>\n",
       "      <td>0</td>\n",
       "      <td>0</td>\n",
       "      <td>0</td>\n",
       "      <td>0</td>\n",
       "      <td>0</td>\n",
       "    </tr>\n",
       "    <tr>\n",
       "      <th>7199</th>\n",
       "      <td>0</td>\n",
       "      <td>0</td>\n",
       "      <td>0</td>\n",
       "      <td>0</td>\n",
       "      <td>0</td>\n",
       "      <td>0</td>\n",
       "      <td>0</td>\n",
       "      <td>0</td>\n",
       "      <td>0</td>\n",
       "      <td>0</td>\n",
       "      <td>...</td>\n",
       "      <td>0</td>\n",
       "      <td>0</td>\n",
       "      <td>0</td>\n",
       "      <td>0</td>\n",
       "      <td>0</td>\n",
       "      <td>0</td>\n",
       "      <td>0</td>\n",
       "      <td>0</td>\n",
       "      <td>0</td>\n",
       "      <td>0</td>\n",
       "    </tr>\n",
       "  </tbody>\n",
       "</table>\n",
       "<p>7200 rows × 76675 columns</p>\n",
       "</div>"
      ],
      "text/plain": [
       "      Aaron  Ab  Abacc  Abalaramse  Abalo  Abandonei  Abandonála  \\\n",
       "0         0   0      0           0      0          0           0   \n",
       "1         0   0      0           0      0          0           0   \n",
       "2         0   0      0           0      0          0           0   \n",
       "3         0   0      0           0      0          0           0   \n",
       "4         0   0      0           0      0          0           0   \n",
       "...     ...  ..    ...         ...    ...        ...         ...   \n",
       "7195      0   0      0           0      0          0           0   \n",
       "7196      0   0      0           0      0          0           0   \n",
       "7197      0   0      0           0      0          0           0   \n",
       "7198      0   0      0           0      0          0           0   \n",
       "7199      0   0      0           0      0          0           0   \n",
       "\n",
       "      Abastecimento  Abate  Abdoolr  ...  úmido  úmir  úncio  único  útel  \\\n",
       "0                 0      0        0  ...      0     0      0      0     0   \n",
       "1                 0      0        0  ...      0     0      0      0     0   \n",
       "2                 0      0        0  ...      0     0      0      0     0   \n",
       "3                 0      0        0  ...      0     0      0      0     0   \n",
       "4                 0      0        0  ...      0     0      0      0     0   \n",
       "...             ...    ...      ...  ...    ...   ...    ...    ...   ...   \n",
       "7195              0      0        0  ...      0     0      0      0     0   \n",
       "7196              0      0        0  ...      0     0      0      0     0   \n",
       "7197              0      0        0  ...      0     0      0      0     0   \n",
       "7198              0      0        0  ...      0     0      0      0     0   \n",
       "7199              0      0        0  ...      0     0      0      0     0   \n",
       "\n",
       "      útero  útil  útlimo  über  расстегаи  \n",
       "0         0     0       0     0          0  \n",
       "1         0     0       0     0          0  \n",
       "2         0     0       0     0          0  \n",
       "3         0     0       0     0          0  \n",
       "4         0     0       0     0          0  \n",
       "...     ...   ...     ...   ...        ...  \n",
       "7195      0     0       0     0          0  \n",
       "7196      0     0       0     0          0  \n",
       "7197      0     0       0     0          0  \n",
       "7198      0     0       0     0          0  \n",
       "7199      0     0       0     0          0  \n",
       "\n",
       "[7200 rows x 76675 columns]"
      ]
     },
     "execution_count": 45,
     "metadata": {},
     "output_type": "execute_result"
    }
   ],
   "source": [
    "df_bow"
   ]
  },
  {
   "cell_type": "markdown",
   "id": "c66e0b65",
   "metadata": {},
   "source": [
    "## Treinando o modelo"
   ]
  },
  {
   "cell_type": "code",
   "execution_count": 20,
   "id": "5a2f1adc",
   "metadata": {},
   "outputs": [],
   "source": [
    "#Módulos para modelagem de aprendizado de máquina tradicionais\n",
    "\n",
    "# Viabilizadores\n",
    "import joblib\n",
    "from sklearn.model_selection import cross_val_predict, train_test_split\n",
    "from sklearn.utils import shuffle\n",
    "from sklearn.pipeline import make_pipeline\n",
    "\n",
    "# Algoritmos\n",
    "from sklearn.svm import SVC #, LinearSVC\n",
    "from sklearn.naive_bayes import MultinomialNB\n",
    "from sklearn.ensemble import RandomForestClassifier, GradientBoostingClassifier\n",
    "from sklearn.linear_model import LogisticRegression\n",
    "\n",
    "# Feature selection & relatório de resultados\n",
    "from sklearn.feature_selection import SelectKBest, mutual_info_classif\n",
    "from sklearn.metrics import classification_report , confusion_matrix, accuracy_score"
   ]
  },
  {
   "cell_type": "code",
   "execution_count": 46,
   "id": "611ecfec",
   "metadata": {},
   "outputs": [],
   "source": [
    "def assignVariables(df_features, df_complete_data):\n",
    "    X = df_features.values\n",
    "    y = df_complete_data['labels']\n",
    "    \n",
    "    return (X,y)"
   ]
  },
  {
   "cell_type": "code",
   "execution_count": 47,
   "id": "9330f3d9",
   "metadata": {},
   "outputs": [],
   "source": [
    "# Assignando variáveis dependentes e independentes e dividindo dados em conjunto de teste e treino\n",
    "\n",
    "X,y = assignVariables(df_bow,complete_data)\n",
    "\n",
    "test_size = 0.20\n",
    "\n",
    "X_train,X_test,y_train,y_test = train_test_split(X,y,test_size=test_size, random_state=42)"
   ]
  },
  {
   "cell_type": "code",
   "execution_count": 56,
   "id": "3562e05a",
   "metadata": {},
   "outputs": [
    {
     "data": {
      "text/plain": [
       "1440"
      ]
     },
     "execution_count": 56,
     "metadata": {},
     "output_type": "execute_result"
    }
   ],
   "source": [
    "len(y_test)"
   ]
  },
  {
   "cell_type": "code",
   "execution_count": 48,
   "id": "99b0b0ab",
   "metadata": {},
   "outputs": [
    {
     "data": {
      "text/plain": [
       "(7200, 76675)"
      ]
     },
     "execution_count": 48,
     "metadata": {},
     "output_type": "execute_result"
    }
   ],
   "source": [
    "X.shape"
   ]
  },
  {
   "cell_type": "code",
   "execution_count": 49,
   "id": "0ccde8c2",
   "metadata": {},
   "outputs": [
    {
     "data": {
      "text/plain": [
       "(1440, 76675)"
      ]
     },
     "execution_count": 49,
     "metadata": {},
     "output_type": "execute_result"
    }
   ],
   "source": [
    "X_test.shape"
   ]
  },
  {
   "cell_type": "markdown",
   "id": "bb035a1d",
   "metadata": {},
   "source": [
    "### Selecione um algoritmo:\n",
    "0 - Logistic Regression  \n",
    "1 - Naive Bayes  \n",
    "2 - Gradient Boosting  \n",
    "3 - Random Forests  \n",
    "4 - Support Vector Machine (SVM)  "
   ]
  },
  {
   "cell_type": "code",
   "execution_count": 25,
   "id": "f3323ca6",
   "metadata": {},
   "outputs": [],
   "source": [
    "#X_best.shape[0]"
   ]
  },
  {
   "cell_type": "code",
   "execution_count": 26,
   "id": "4db26ee7",
   "metadata": {},
   "outputs": [
    {
     "data": {
      "text/plain": [
       "(7200,)"
      ]
     },
     "execution_count": 26,
     "metadata": {},
     "output_type": "execute_result"
    }
   ],
   "source": [
    "y.shape"
   ]
  },
  {
   "cell_type": "markdown",
   "id": "266a11c2",
   "metadata": {},
   "source": [
    "Logistic Regression"
   ]
  },
  {
   "cell_type": "code",
   "execution_count": 106,
   "id": "d88bf66f",
   "metadata": {
    "scrolled": false
   },
   "outputs": [
    {
     "name": "stdout",
     "output_type": "stream",
     "text": [
      "Insira o ID do algoritmo a ser usado para treinamento do modelo: 4\n",
      "Salvar modelo?\n",
      "0 - Não\n",
      "1 - Sim\n",
      "1\n",
      "              precision    recall  f1-score   support\n",
      "\n",
      " Verdadeiras       0.95      0.98      0.97       722\n",
      "      Falsas       0.98      0.95      0.96       718\n",
      "\n",
      "    accuracy                           0.97      1440\n",
      "   macro avg       0.97      0.97      0.97      1440\n",
      "weighted avg       0.97      0.97      0.97      1440\n",
      "\n"
     ]
    }
   ],
   "source": [
    "classifier = [LogisticRegression(), MultinomialNB(), GradientBoostingClassifier(), RandomForestClassifier(), SVC()]\n",
    "\n",
    "choice = input(\"Insira o ID do algoritmo a ser usado para treinamento do modelo: \")\n",
    "save_model = int(input('''Salvar modelo?\n",
    "0 - Não\n",
    "1 - Sim\n",
    "'''))\n",
    "\n",
    "classifier = classifier[int(choice)]\n",
    "\n",
    "#feature_selection = 100\n",
    "\n",
    "#X_best = SelectKBest(mutual_info_classif,k=feature_selection).fit_transform(X,y)\n",
    "\n",
    "#predictions = (cross_val_predict(classifier, X_best, y, cv=5))\n",
    "\n",
    "classifier = classifier.fit(X_train, y_train)\n",
    "predictions = classifier.predict(X_test)\n",
    "\n",
    "dataset_name = str(X.shape[0])+'_news'\n",
    "if save_model==1:\n",
    "    model_name = (classifier.__class__.__name__ + '_' + (dataset_name + '.pkl').lower())\n",
    "    classifier.fit(X_best, y)\n",
    "    joblib.dump(classifier,model_name)\n",
    "\n",
    "target_name = ['Verdadeiras','Falsas']\n",
    "print(classification_report(y_test, predictions, target_names=target_name))"
   ]
  },
  {
   "cell_type": "code",
   "execution_count": 112,
   "id": "0ca03fe0",
   "metadata": {},
   "outputs": [
    {
     "name": "stdout",
     "output_type": "stream",
     "text": [
      "fake    722\n",
      "true    718\n",
      "Name: labels, dtype: int64\n"
     ]
    }
   ],
   "source": [
    "freq = y_test.value_counts()\n",
    "print(freq)"
   ]
  },
  {
   "cell_type": "markdown",
   "id": "6ed94b1c",
   "metadata": {},
   "source": [
    "Naive Bayes"
   ]
  },
  {
   "cell_type": "code",
   "execution_count": 53,
   "id": "91817a7f",
   "metadata": {},
   "outputs": [
    {
     "name": "stdout",
     "output_type": "stream",
     "text": [
      "              precision    recall  f1-score   support\n",
      "\n",
      "       Texto       0.73      0.67      0.70      3600\n",
      "       Label       0.70      0.75      0.72      3600\n",
      "\n",
      "    accuracy                           0.71      7200\n",
      "   macro avg       0.71      0.71      0.71      7200\n",
      "weighted avg       0.71      0.71      0.71      7200\n",
      "\n"
     ]
    }
   ],
   "source": [
    "classifier = MultinomialNB()\n",
    "\n",
    "#choice = input(\"Insira o ID do algoritmo a ser usado para treinamento do modelo: \")\n",
    "#save_model = int(input('''Salvar modelo?\n",
    "#0 - Não\n",
    "#1 - Sim\n",
    "#'''))\n",
    "\n",
    "#classifier = classifier[int(choice)]\n",
    "\n",
    "feature_selection = 100\n",
    "\n",
    "X_best = SelectKBest(mutual_info_classif,k=feature_selection).fit_transform(X,y)\n",
    "\n",
    "predictions = (cross_val_predict(classifier, X_best, y, cv=5))\n",
    "\n",
    "dataset_name = str(X.shape[0])+'_news'\n",
    "#if save_model==1:\n",
    "model_name = (classifier.__class__.__name__ + '_' + (dataset_name + '.pkl').lower())\n",
    "classifier.fit(X_best, y)\n",
    "joblib.dump(classifier,model_name)\n",
    "\n",
    "target_name = ['Texto','Label']\n",
    "print(classification_report(y, predictions, target_names=target_name))"
   ]
  },
  {
   "cell_type": "markdown",
   "id": "1c36d4ef",
   "metadata": {},
   "source": [
    "Random Forests"
   ]
  },
  {
   "cell_type": "code",
   "execution_count": 54,
   "id": "eaff125c",
   "metadata": {},
   "outputs": [
    {
     "name": "stdout",
     "output_type": "stream",
     "text": [
      "              precision    recall  f1-score   support\n",
      "\n",
      "       Texto       0.92      0.96      0.94      3600\n",
      "       Label       0.96      0.92      0.94      3600\n",
      "\n",
      "    accuracy                           0.94      7200\n",
      "   macro avg       0.94      0.94      0.94      7200\n",
      "weighted avg       0.94      0.94      0.94      7200\n",
      "\n"
     ]
    }
   ],
   "source": [
    "classifier = RandomForestClassifier()\n",
    "\n",
    "#choice = input(\"Insira o ID do algoritmo a ser usado para treinamento do modelo: \")\n",
    "#save_model = int(input('''Salvar modelo?\n",
    "#0 - Não\n",
    "#1 - Sim\n",
    "#'''))\n",
    "\n",
    "#classifier = classifier[int(choice)]\n",
    "\n",
    "feature_selection = 100\n",
    "\n",
    "X_best = SelectKBest(mutual_info_classif,k=feature_selection).fit_transform(X,y)\n",
    "\n",
    "predictions = (cross_val_predict(classifier, X_best, y, cv=5))\n",
    "\n",
    "dataset_name = str(X.shape[0])+'_news'\n",
    "#if save_model==1:\n",
    "model_name = (classifier.__class__.__name__ + '_' + (dataset_name + '.pkl').lower())\n",
    "classifier.fit(X_best, y)\n",
    "joblib.dump(classifier,model_name)\n",
    "\n",
    "target_name = ['Texto','Label']\n",
    "print(classification_report(y, predictions, target_names=target_name))"
   ]
  },
  {
   "cell_type": "markdown",
   "id": "c4abd3cf",
   "metadata": {},
   "source": [
    "SVM"
   ]
  },
  {
   "cell_type": "code",
   "execution_count": 55,
   "id": "24738567",
   "metadata": {},
   "outputs": [
    {
     "name": "stdout",
     "output_type": "stream",
     "text": [
      "              precision    recall  f1-score   support\n",
      "\n",
      "       Texto       0.93      0.96      0.95      3600\n",
      "       Label       0.96      0.93      0.94      3600\n",
      "\n",
      "    accuracy                           0.95      7200\n",
      "   macro avg       0.95      0.95      0.95      7200\n",
      "weighted avg       0.95      0.95      0.95      7200\n",
      "\n"
     ]
    }
   ],
   "source": [
    "classifier = SVC()\n",
    "\n",
    "#choice = input(\"Insira o ID do algoritmo a ser usado para treinamento do modelo: \")\n",
    "#save_model = int(input('''Salvar modelo?\n",
    "#0 - Não\n",
    "#1 - Sim\n",
    "#'''))\n",
    "\n",
    "#classifier = classifier[int(choice)]\n",
    "\n",
    "feature_selection = 100\n",
    "\n",
    "X_best = SelectKBest(mutual_info_classif,k=feature_selection).fit_transform(X,y)\n",
    "\n",
    "predictions = (cross_val_predict(classifier, X_best, y, cv=5))\n",
    "\n",
    "dataset_name = str(X.shape[0])+'_news'\n",
    "#if save_model==1:\n",
    "model_name = (classifier.__class__.__name__ + '_' + (dataset_name + '.pkl').lower())\n",
    "classifier.fit(X_best, y)\n",
    "joblib.dump(classifier,model_name)\n",
    "\n",
    "target_name = ['Texto','Label']\n",
    "print(classification_report(y, predictions, target_names=target_name))"
   ]
  },
  {
   "cell_type": "code",
   "execution_count": null,
   "id": "51c282e4",
   "metadata": {},
   "outputs": [],
   "source": []
  }
 ],
 "metadata": {
  "kernelspec": {
   "display_name": "Python 3 (ipykernel)",
   "language": "python",
   "name": "python3"
  },
  "language_info": {
   "codemirror_mode": {
    "name": "ipython",
    "version": 3
   },
   "file_extension": ".py",
   "mimetype": "text/x-python",
   "name": "python",
   "nbconvert_exporter": "python",
   "pygments_lexer": "ipython3",
   "version": "3.9.7"
  }
 },
 "nbformat": 4,
 "nbformat_minor": 5
}
