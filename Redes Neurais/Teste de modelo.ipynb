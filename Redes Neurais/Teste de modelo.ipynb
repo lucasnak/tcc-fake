{
 "cells": [
  {
   "cell_type": "markdown",
   "id": "0d0f8376",
   "metadata": {},
   "source": [
    "### Carregando o modelo"
   ]
  },
  {
   "cell_type": "code",
   "execution_count": 38,
   "id": "3fc4c837",
   "metadata": {},
   "outputs": [],
   "source": [
    "import numpy as np\n",
    "import pandas as pd\n",
    "import matplotlib.pyplot as plt\n",
    "import seaborn as sns\n",
    "import nltk\n",
    "import re\n",
    "import json\n",
    "from tensorflow.keras.preprocessing.text import Tokenizer\n",
    "from tensorflow.keras.preprocessing.sequence import pad_sequences\n",
    "from tensorflow.keras.models import Sequential\n",
    "from tensorflow.keras.layers import Dense, Embedding, LSTM, Conv1D, MaxPool1D\n",
    "from sklearn.model_selection import train_test_split\n",
    "from sklearn.metrics import classification_report, accuracy_score"
   ]
  },
  {
   "cell_type": "code",
   "execution_count": 39,
   "id": "60a4b81e",
   "metadata": {},
   "outputs": [],
   "source": [
    "from keras.models import load_model"
   ]
  },
  {
   "cell_type": "code",
   "execution_count": 40,
   "id": "cad3c90a",
   "metadata": {},
   "outputs": [],
   "source": [
    "def loadModel():\n",
    "    name = input('escreva o nome do modelo a ser carregado:')\n",
    "    savedModel = load_model(name+'.h5')\n",
    "    with open('wordIndex.json') as f:\n",
    "        dicto = json.load(f)\n",
    "    savedModel.summary()\n",
    "    return savedModel, dicto"
   ]
  },
  {
   "cell_type": "code",
   "execution_count": 41,
   "id": "9de0c4bd",
   "metadata": {},
   "outputs": [
    {
     "name": "stdout",
     "output_type": "stream",
     "text": [
      "escreva o nome do modelo a ser carregado:modelo96\n",
      "Model: \"sequential\"\n",
      "_________________________________________________________________\n",
      " Layer (type)                Output Shape              Param #   \n",
      "=================================================================\n",
      " embedding (Embedding)       (None, 2000, 100)         8998800   \n",
      "                                                                 \n",
      " lstm (LSTM)                 (None, 128)               117248    \n",
      "                                                                 \n",
      " dense (Dense)               (None, 1)                 129       \n",
      "                                                                 \n",
      "=================================================================\n",
      "Total params: 9,116,177\n",
      "Trainable params: 117,377\n",
      "Non-trainable params: 8,998,800\n",
      "_________________________________________________________________\n"
     ]
    }
   ],
   "source": [
    "tokenizer = Tokenizer()\n",
    "model, tokenizer.word_index = loadModel()"
   ]
  },
  {
   "cell_type": "markdown",
   "id": "cbfd9ade",
   "metadata": {},
   "source": [
    "### Notícias analisadas"
   ]
  },
  {
   "cell_type": "code",
   "execution_count": 110,
   "id": "1a4f097b",
   "metadata": {},
   "outputs": [],
   "source": [
    "sentence_t = '''O presidente Jair Bolsonaro assinou nesta terça-feira (15), em cerimônia no Palácio do Planalto, um decreto que facilita a posse de armas de fogo.\n",
    "\n",
    "O direito à posse é a autorização para manter uma arma de fogo em casa ou no local de trabalho (desde que o dono da arma seja o responsável legal pelo estabelecimento). Para andar com a arma na rua, é preciso ter direito ao porte, cujas regras são mais rigorosas e não foram tratadas no decreto.\n",
    "\n",
    "O texto do decreto permite aos cidadãos residentes em área urbana ou rural manter arma de fogo em casa, desde que cumpridos os requisitos de \"efetiva necessidade\", a serem examinados pela Polícia Federal (veja regras mais abaixo).\n",
    "\n",
    "Cumpridos os requisitos, o cidadão poderá ter até quatro armas, limite que pode ser ultrapassado em casos específicos.\n",
    "\n",
    "O decreto também prevê que o prazo de validade do registro da arma, hoje de cinco anos, passará para dez anos.\n",
    "\n",
    "“Todo e qualquer cidadão e cidadã, em qualquer lugar do país, por conta desse dispositivo, tem o direito de ir até uma delegacia de Polícia Federal, levar os seus documentos, pedir autorização, adquirir a arma e poder ter a respectiva posse“, declarou o ministro da Casa Civil, Onyx Lorenzoni.'''"
   ]
  },
  {
   "cell_type": "code",
   "execution_count": 111,
   "id": "ea5a2759",
   "metadata": {},
   "outputs": [],
   "source": [
    "sentence_f = \"teste\""
   ]
  },
  {
   "cell_type": "markdown",
   "id": "95d5a203",
   "metadata": {},
   "source": [
    "### Preprocessing"
   ]
  },
  {
   "cell_type": "code",
   "execution_count": 118,
   "id": "fe9c4bb3",
   "metadata": {},
   "outputs": [
    {
     "ename": "SyntaxError",
     "evalue": "unexpected character after line continuation character (Temp/ipykernel_13148/3740845691.py, line 6)",
     "output_type": "error",
     "traceback": [
      "\u001b[1;36m  File \u001b[1;32m\"C:\\Users\\vitor\\AppData\\Local\\Temp/ipykernel_13148/3740845691.py\"\u001b[1;36m, line \u001b[1;32m6\u001b[0m\n\u001b[1;33m    linebreaker = raw_string.maketrans({key: '' for key in string.punctuation.replace(\\n,' ')})\u001b[0m\n\u001b[1;37m                                                                                              ^\u001b[0m\n\u001b[1;31mSyntaxError\u001b[0m\u001b[1;31m:\u001b[0m unexpected character after line continuation character\n"
     ]
    }
   ],
   "source": [
    "sentence_t = sentence_t.lower()\n",
    "\n",
    "def remove_punct(raw_string):\n",
    "    '''Eliminates punctuations and numbers from raw_string.'''\n",
    "    translator = raw_string.maketrans({key:'' for key in string.punctuation.replace(\"-\", '') + \"“”‘’0123456789\"})\n",
    "    linebreaker = raw_string.maketrans({key: '' for key in string.punctuation.replace(\"\\n\",' ')})\n",
    "    resultado = raw_string.translate(translator)\n",
    "    return resultado.translate(resultado)\n",
    "\n",
    "sentence_t = remove_punct(sentence_t)"
   ]
  },
  {
   "cell_type": "code",
   "execution_count": 116,
   "id": "20dbb7a6",
   "metadata": {},
   "outputs": [],
   "source": [
    "sentence_f = sentence_f.lower()\n",
    "\n",
    "def remove_punct(raw_string):\n",
    "    '''Eliminates punctuations and numbers from raw_string.'''\n",
    "    translator = raw_string.maketrans({key:'' for key in string.punctuation.replace(\"-\", '') + \"“”‘’0123456789\"})  \n",
    "\n",
    "    return raw_string.translate(translator)\n",
    "\n",
    "sentence_f = remove_punct(sentence_f)"
   ]
  },
  {
   "cell_type": "markdown",
   "id": "1d436ad8",
   "metadata": {},
   "source": [
    "### Classificação Trues"
   ]
  },
  {
   "cell_type": "code",
   "execution_count": 117,
   "id": "41808f43",
   "metadata": {},
   "outputs": [
    {
     "data": {
      "text/plain": [
       "['int  a o l  nfr  neicailr inraa lipnl a rn   arçq   rnn int   iel rnlintrcet inointcrlrc inpino t   inap nqrt c  rnrntiaa no nr irano nqiuittino     indntiaa nhnrnrp i   ratintr rnirl   npirnr irno nqiuin intrarnipnlincitrcno n  rerceino ao nap ninoilinornr irna frnin  atilaeo cnc urcnt cin a re c t i l intr rnrlor ntiinrnr irnlrn prnhnt  t ain   no     inrinti   ntpfran  u ranatinir an  ui iaran nltinqi rin  r roranlino t   ittin  s inoino t   int  i   nriant orotian  a o l  an ine  rnp erlrnipn p rcnirl   nr irno nqiuin intrarno ao nap ntpit  oianian  ap a  iano n q   ornl t aa oro nrna   in sri lroiant crnticet rnq o  rcno frn  u ranir anrer sitttpit  oianian  ap a  ianint orotintio  en   nr hnapr  inr iranc i   nap ntio na  npc  rtraaroin intraian at teq tiattino t   in riehint  oonap nint r ino norc oro noin  u a  inornr irneif no nt ltinrliantraar entr rno  nrliatt ioin naprcap  nt orotin nt orotn inaprcap  ncpur nointreanti ntil rno aa no atia   oin  inino     ino n  nr hnpirno c urt rno nticet rnq o  rcnc or niana panoitpi l iant o  nrp i   ratinroap    nrnr irn ntio  n   nrn  at t  orntiaa no tcr ipnini l a  inorntrarnt o cnilesnci  l il ']"
      ]
     },
     "execution_count": 117,
     "metadata": {},
     "output_type": "execute_result"
    }
   ],
   "source": [
    "lista_t = []\n",
    "lista_t.append(sentence_t)\n",
    "lista_t"
   ]
  },
  {
   "cell_type": "code",
   "execution_count": 98,
   "id": "ec4f917f",
   "metadata": {
    "scrolled": false
   },
   "outputs": [],
   "source": [
    "maxlen = 2000\n",
    "sequences_t = tokenizer.texts_to_sequences(lista_t)\n",
    "padded_t = pad_sequences(sequences_t, maxlen=maxlen)"
   ]
  },
  {
   "cell_type": "code",
   "execution_count": 99,
   "id": "cad96a67",
   "metadata": {
    "scrolled": true
   },
   "outputs": [
    {
     "data": {
      "text/plain": [
       "array([[0.03727934]], dtype=float32)"
      ]
     },
     "execution_count": 99,
     "metadata": {},
     "output_type": "execute_result"
    }
   ],
   "source": [
    "model.predict(padded_t)"
   ]
  },
  {
   "cell_type": "code",
   "execution_count": 100,
   "id": "b9785346",
   "metadata": {},
   "outputs": [
    {
     "data": {
      "text/plain": [
       "array([[0]])"
      ]
     },
     "execution_count": 100,
     "metadata": {},
     "output_type": "execute_result"
    }
   ],
   "source": [
    "(model.predict(padded_t) >=0.5).astype(int)"
   ]
  },
  {
   "cell_type": "markdown",
   "id": "8778113c",
   "metadata": {},
   "source": [
    "### Classificação Fakes"
   ]
  },
  {
   "cell_type": "code",
   "execution_count": null,
   "id": "a597df13",
   "metadata": {},
   "outputs": [],
   "source": [
    "maxlen = 2000\n",
    "sequences_f = tokenizer.texts_to_sequences(sentence_f)\n",
    "padded_f = pad_sequences(sequences_f, maxlen=maxlen)"
   ]
  },
  {
   "cell_type": "code",
   "execution_count": null,
   "id": "c3b32d5f",
   "metadata": {},
   "outputs": [],
   "source": [
    "model.predict(padded_f)"
   ]
  },
  {
   "cell_type": "code",
   "execution_count": null,
   "id": "f7592592",
   "metadata": {},
   "outputs": [],
   "source": [
    "(model.predict(padded_f) >=0.5).astype(int)"
   ]
  }
 ],
 "metadata": {
  "kernelspec": {
   "display_name": "Python 3 (ipykernel)",
   "language": "python",
   "name": "python3"
  },
  "language_info": {
   "codemirror_mode": {
    "name": "ipython",
    "version": 3
   },
   "file_extension": ".py",
   "mimetype": "text/x-python",
   "name": "python",
   "nbconvert_exporter": "python",
   "pygments_lexer": "ipython3",
   "version": "3.9.7"
  }
 },
 "nbformat": 4,
 "nbformat_minor": 5
}
