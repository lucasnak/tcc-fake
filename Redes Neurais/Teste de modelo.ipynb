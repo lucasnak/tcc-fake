{
 "cells": [
  {
   "cell_type": "markdown",
   "id": "8ab852b7",
   "metadata": {},
   "source": [
    "### Carregando o modelo"
   ]
  },
  {
   "cell_type": "code",
   "execution_count": 10,
   "id": "5f0730ae",
   "metadata": {},
   "outputs": [],
   "source": [
    "import numpy as np\n",
    "import pandas as pd\n",
    "import matplotlib.pyplot as plt\n",
    "import seaborn as sns\n",
    "import nltk\n",
    "import re\n",
    "import json\n",
    "import string\n",
    "from tensorflow.keras.preprocessing.text import Tokenizer\n",
    "from tensorflow.keras.preprocessing.sequence import pad_sequences\n",
    "from tensorflow.keras.models import Sequential\n",
    "from tensorflow.keras.layers import Dense, Embedding, LSTM, Conv1D, MaxPool1D\n",
    "from sklearn.model_selection import train_test_split\n",
    "from sklearn.metrics import classification_report, accuracy_score"
   ]
  },
  {
   "cell_type": "code",
   "execution_count": 11,
   "id": "9f187c1e",
   "metadata": {},
   "outputs": [],
   "source": [
    "from keras.models import load_model"
   ]
  },
  {
   "cell_type": "code",
   "execution_count": 12,
   "id": "ef9fb402",
   "metadata": {},
   "outputs": [],
   "source": [
    "def loadModel():\n",
    "    name = input('escreva o nome do modelo a ser carregado:')\n",
    "    savedModel = load_model(name+'.h5')\n",
    "    with open('wordIndex.json') as f:\n",
    "        dicto = json.load(f)\n",
    "    savedModel.summary()\n",
    "    return savedModel, dicto"
   ]
  },
  {
   "cell_type": "code",
   "execution_count": 13,
   "id": "7899ce69",
   "metadata": {},
   "outputs": [
    {
     "name": "stdout",
     "output_type": "stream",
     "text": [
      "escreva o nome do modelo a ser carregado:modelo96\n",
      "Model: \"sequential\"\n",
      "_________________________________________________________________\n",
      " Layer (type)                Output Shape              Param #   \n",
      "=================================================================\n",
      " embedding (Embedding)       (None, 2000, 100)         8998800   \n",
      "                                                                 \n",
      " lstm (LSTM)                 (None, 128)               117248    \n",
      "                                                                 \n",
      " dense (Dense)               (None, 1)                 129       \n",
      "                                                                 \n",
      "=================================================================\n",
      "Total params: 9,116,177\n",
      "Trainable params: 117,377\n",
      "Non-trainable params: 8,998,800\n",
      "_________________________________________________________________\n"
     ]
    }
   ],
   "source": [
    "tokenizer = Tokenizer()\n",
    "model, tokenizer.word_index = loadModel()"
   ]
  },
  {
   "cell_type": "markdown",
   "id": "7f05c66c",
   "metadata": {},
   "source": [
    "### Notícias analisadas"
   ]
  },
  {
   "cell_type": "code",
   "execution_count": 58,
   "id": "a19f8fea",
   "metadata": {},
   "outputs": [],
   "source": [
    "sentence_t = '''O WhatsApp admitiu pela primeira vez que a eleição brasileira de 2018 teve uso de envios maciços de mensagens, com sistemas automatizados contratados de empresas.\n",
    "\n",
    "“Na eleição brasileira do ano passado houve a atuação de empresas fornecedoras de envios maciços de mensagens, que violaram nossos termos de uso para atingir um grande número de pessoas”, afirmou Ben Supple, gerente de políticas públicas e eleições globais do WhatsApp, em palestra no Festival Gabo.\n",
    "\n",
    "Em uma série de reportagens desde outubro do ano passado, a Folha revelou a contratação durante a campanha eleitoral de empresas de marketing que faziam envios maciços de mensagens políticas, usando de forma fraudulenta CPFs de idosos e até contratando agências estrangeiras.\n",
    "\n",
    "Uma das reportagens noticiou que empresários apoiadores do então candidato Jair Bolsonaro (PSL) bancaram o disparo de mensagens em massa contra o petista Fernando Haddad, que foi derrotado e também acabou multado pelo TSE pelo impulsionamento irregular de conteúdo desfavorável ao seu então adversário. \n",
    "\n",
    "O TSE veda o uso de ferramentas de automatização, como os softwares de disparo em massa. Além disso, conforme mostrou a Folha, empresários contrataram disparos a favor e contra candidatos, sem declarar esses gastos à Justiça Eleitoral, o que configura o crime de caixa dois.\n",
    "\n",
    "No mesmo evento, o executivo do WhatsApp condenou os grupos públicos da plataforma acessados por meio de links que distribuem conteúdo político, na maior parte das vezes relacionados ao governo Bolsonaro.\n",
    "\n",
    "“Vemos esses grupos como tabloides sensacionalistas, onde as pessoas querem espalhar uma mensagem para uma plateia e normalmente divulgam conteúdo mais polêmico e problemático”, disse. “Nossa visão é: não entre nesses grupos grandes, com gente que você não conhece: saia desses grupos e os denuncie.”\n",
    "\n",
    "O executivo do WhatsApp afirmou que a plataforma desencoraja “o uso dos grupos como listas de transmissão” de conteúdos, como ocorre com muitos grupos de apoiadores de políticos. “O WhatsApp foi criado para abrigar conversas orgânicas, entre famílias e amigos.\"\n",
    "\n",
    "Indagado se o uso do WhatsApp por campanhas políticas violava as regras, ele afirmou: “Não viola desde que se respeitem todos os termos de uso [que vedam automação e envio massivo]. Todos estão sujeitos aos mesmos critérios, não importa se quem usa é um candidato à Presidência ou um camponês do interior da Índia.”\n",
    "\n",
    "​Supple reconheceu a influência do aplicativo em processos eleitorais. ”Sabemos que eleições podem ser vencidas ou perdidas no WhatsApp”, disse. E afirmou que o WhatsApp despachou equipes para acompanhar as eleições de Índia, Indonésia e Parlamento Europeu no primeiro semestre.\n",
    "\n",
    "Segundo o executivo, a plataforma já esperava que as eleições brasileiras de 2018 fossem palco de campanhas de desinformação. “Sempre soubemos que a eleição brasileira seria um desafio. Era uma eleição muito polarizada e as condições eram ideais para a disseminação de desinformação”, disse.\n",
    "\n",
    "“No Brasil, muita gente usa o WhatsApp como fonte primária de informação e não tem meios para verificar a veracidade do conteúdo.” No entanto, apenas uma minoria comete irregularidades, afirma.\n",
    "\n",
    "O executivo disse que a empresa vem adotando uma série de medidas para bloquear contas que violam as normas ao fazer envio automatizado ou maciço. E relatou que desde janeiro, quando o número de reencaminhamentos de uma mensagem foi limitado a cinco, o número total de reencaminhamentos caiu 25%. Supple afirmou que o WhatsApp tem banido 2 milhões de contas por mês.'''"
   ]
  },
  {
   "cell_type": "code",
   "execution_count": 59,
   "id": "bcf9537e",
   "metadata": {},
   "outputs": [],
   "source": [
    "sentence_f = \"teste\""
   ]
  },
  {
   "cell_type": "markdown",
   "id": "3969ce4a",
   "metadata": {},
   "source": [
    "### Preprocessing"
   ]
  },
  {
   "cell_type": "code",
   "execution_count": 60,
   "id": "8b49bbd2",
   "metadata": {},
   "outputs": [],
   "source": [
    "sentence_t = sentence_t.lower()\n",
    "\n",
    "def remove_punct(raw_string):\n",
    "    '''Eliminates punctuations and numbers from raw_string.'''\n",
    "    translator = raw_string.maketrans({key:'' for key in string.punctuation.replace(\"-\", '') + \"“”‘’0123456789\"})\n",
    "    \n",
    "    return raw_string.translate(translator)\n",
    "\n",
    "sentence_t = remove_punct(sentence_t)"
   ]
  },
  {
   "cell_type": "code",
   "execution_count": 61,
   "id": "d565ee28",
   "metadata": {},
   "outputs": [
    {
     "data": {
      "text/plain": [
       "'o whatsapp admitiu pela primeira vez que a eleição brasileira de  teve uso de envios maciços de mensagens com sistemas automatizados contratados de empresas\\n\\nna eleição brasileira do ano passado houve a atuação de empresas fornecedoras de envios maciços de mensagens que violaram nossos termos de uso para atingir um grande número de pessoas afirmou ben supple gerente de políticas públicas e eleições globais do whatsapp em palestra no festival gabo\\n\\nem uma série de reportagens desde outubro do ano passado a folha revelou a contratação durante a campanha eleitoral de empresas de marketing que faziam envios maciços de mensagens políticas usando de forma fraudulenta cpfs de idosos e até contratando agências estrangeiras\\n\\numa das reportagens noticiou que empresários apoiadores do então candidato jair bolsonaro psl bancaram o disparo de mensagens em massa contra o petista fernando haddad que foi derrotado e também acabou multado pelo tse pelo impulsionamento irregular de conteúdo desfavorável ao seu então adversário \\n\\no tse veda o uso de ferramentas de automatização como os softwares de disparo em massa além disso conforme mostrou a folha empresários contrataram disparos a favor e contra candidatos sem declarar esses gastos à justiça eleitoral o que configura o crime de caixa dois\\n\\nno mesmo evento o executivo do whatsapp condenou os grupos públicos da plataforma acessados por meio de links que distribuem conteúdo político na maior parte das vezes relacionados ao governo bolsonaro\\n\\nvemos esses grupos como tabloides sensacionalistas onde as pessoas querem espalhar uma mensagem para uma plateia e normalmente divulgam conteúdo mais polêmico e problemático disse nossa visão é não entre nesses grupos grandes com gente que você não conhece saia desses grupos e os denuncie\\n\\no executivo do whatsapp afirmou que a plataforma desencoraja o uso dos grupos como listas de transmissão de conteúdos como ocorre com muitos grupos de apoiadores de políticos o whatsapp foi criado para abrigar conversas orgânicas entre famílias e amigos\\n\\nindagado se o uso do whatsapp por campanhas políticas violava as regras ele afirmou não viola desde que se respeitem todos os termos de uso que vedam automação e envio massivo todos estão sujeitos aos mesmos critérios não importa se quem usa é um candidato à presidência ou um camponês do interior da índia\\n\\n\\u200bsupple reconheceu a influência do aplicativo em processos eleitorais sabemos que eleições podem ser vencidas ou perdidas no whatsapp disse e afirmou que o whatsapp despachou equipes para acompanhar as eleições de índia indonésia e parlamento europeu no primeiro semestre\\n\\nsegundo o executivo a plataforma já esperava que as eleições brasileiras de  fossem palco de campanhas de desinformação sempre soubemos que a eleição brasileira seria um desafio era uma eleição muito polarizada e as condições eram ideais para a disseminação de desinformação disse\\n\\nno brasil muita gente usa o whatsapp como fonte primária de informação e não tem meios para verificar a veracidade do conteúdo no entanto apenas uma minoria comete irregularidades afirma\\n\\no executivo disse que a empresa vem adotando uma série de medidas para bloquear contas que violam as normas ao fazer envio automatizado ou maciço e relatou que desde janeiro quando o número de reencaminhamentos de uma mensagem foi limitado a cinco o número total de reencaminhamentos caiu  supple afirmou que o whatsapp tem banido  milhões de contas por mês'"
      ]
     },
     "execution_count": 61,
     "metadata": {},
     "output_type": "execute_result"
    }
   ],
   "source": [
    "sentence_t"
   ]
  },
  {
   "cell_type": "code",
   "execution_count": 62,
   "id": "e6ac5b67",
   "metadata": {},
   "outputs": [],
   "source": [
    "sentence_f = sentence_f.lower()\n",
    "\n",
    "def remove_punct(raw_string):\n",
    "    '''Eliminates punctuations and numbers from raw_string.'''\n",
    "    translator = raw_string.maketrans({key:'' for key in string.punctuation.replace(\"-\", '') + \"“”‘’0123456789\"})  \n",
    "\n",
    "    return raw_string.translate(translator)\n",
    "\n",
    "sentence_f = remove_punct(sentence_f)"
   ]
  },
  {
   "cell_type": "markdown",
   "id": "5b0a997a",
   "metadata": {},
   "source": [
    "### Classificação Trues"
   ]
  },
  {
   "cell_type": "code",
   "execution_count": 63,
   "id": "e2275c69",
   "metadata": {},
   "outputs": [
    {
     "data": {
      "text/plain": [
       "['o whatsapp admitiu pela primeira vez que a eleição brasileira de  teve uso de envios maciços de mensagens com sistemas automatizados contratados de empresas\\n\\nna eleição brasileira do ano passado houve a atuação de empresas fornecedoras de envios maciços de mensagens que violaram nossos termos de uso para atingir um grande número de pessoas afirmou ben supple gerente de políticas públicas e eleições globais do whatsapp em palestra no festival gabo\\n\\nem uma série de reportagens desde outubro do ano passado a folha revelou a contratação durante a campanha eleitoral de empresas de marketing que faziam envios maciços de mensagens políticas usando de forma fraudulenta cpfs de idosos e até contratando agências estrangeiras\\n\\numa das reportagens noticiou que empresários apoiadores do então candidato jair bolsonaro psl bancaram o disparo de mensagens em massa contra o petista fernando haddad que foi derrotado e também acabou multado pelo tse pelo impulsionamento irregular de conteúdo desfavorável ao seu então adversário \\n\\no tse veda o uso de ferramentas de automatização como os softwares de disparo em massa além disso conforme mostrou a folha empresários contrataram disparos a favor e contra candidatos sem declarar esses gastos à justiça eleitoral o que configura o crime de caixa dois\\n\\nno mesmo evento o executivo do whatsapp condenou os grupos públicos da plataforma acessados por meio de links que distribuem conteúdo político na maior parte das vezes relacionados ao governo bolsonaro\\n\\nvemos esses grupos como tabloides sensacionalistas onde as pessoas querem espalhar uma mensagem para uma plateia e normalmente divulgam conteúdo mais polêmico e problemático disse nossa visão é não entre nesses grupos grandes com gente que você não conhece saia desses grupos e os denuncie\\n\\no executivo do whatsapp afirmou que a plataforma desencoraja o uso dos grupos como listas de transmissão de conteúdos como ocorre com muitos grupos de apoiadores de políticos o whatsapp foi criado para abrigar conversas orgânicas entre famílias e amigos\\n\\nindagado se o uso do whatsapp por campanhas políticas violava as regras ele afirmou não viola desde que se respeitem todos os termos de uso que vedam automação e envio massivo todos estão sujeitos aos mesmos critérios não importa se quem usa é um candidato à presidência ou um camponês do interior da índia\\n\\n\\u200bsupple reconheceu a influência do aplicativo em processos eleitorais sabemos que eleições podem ser vencidas ou perdidas no whatsapp disse e afirmou que o whatsapp despachou equipes para acompanhar as eleições de índia indonésia e parlamento europeu no primeiro semestre\\n\\nsegundo o executivo a plataforma já esperava que as eleições brasileiras de  fossem palco de campanhas de desinformação sempre soubemos que a eleição brasileira seria um desafio era uma eleição muito polarizada e as condições eram ideais para a disseminação de desinformação disse\\n\\nno brasil muita gente usa o whatsapp como fonte primária de informação e não tem meios para verificar a veracidade do conteúdo no entanto apenas uma minoria comete irregularidades afirma\\n\\no executivo disse que a empresa vem adotando uma série de medidas para bloquear contas que violam as normas ao fazer envio automatizado ou maciço e relatou que desde janeiro quando o número de reencaminhamentos de uma mensagem foi limitado a cinco o número total de reencaminhamentos caiu  supple afirmou que o whatsapp tem banido  milhões de contas por mês']"
      ]
     },
     "execution_count": 63,
     "metadata": {},
     "output_type": "execute_result"
    }
   ],
   "source": [
    "lista_t = []\n",
    "lista_t.append(sentence_t)\n",
    "lista_t"
   ]
  },
  {
   "cell_type": "code",
   "execution_count": 64,
   "id": "f06eb3ff",
   "metadata": {
    "scrolled": false
   },
   "outputs": [],
   "source": [
    "maxlen = 2000\n",
    "sequences_t = tokenizer.texts_to_sequences(lista_t)\n",
    "padded_t = pad_sequences(sequences_t, maxlen=maxlen)"
   ]
  },
  {
   "cell_type": "code",
   "execution_count": 65,
   "id": "9912ed30",
   "metadata": {
    "scrolled": true
   },
   "outputs": [
    {
     "data": {
      "text/plain": [
       "array([[0.9538282]], dtype=float32)"
      ]
     },
     "execution_count": 65,
     "metadata": {},
     "output_type": "execute_result"
    }
   ],
   "source": [
    "model.predict(padded_t)"
   ]
  },
  {
   "cell_type": "code",
   "execution_count": 66,
   "id": "219e9eb5",
   "metadata": {},
   "outputs": [
    {
     "data": {
      "text/plain": [
       "array([[1]])"
      ]
     },
     "execution_count": 66,
     "metadata": {},
     "output_type": "execute_result"
    }
   ],
   "source": [
    "(model.predict(padded_t) >=0.5).astype(int)"
   ]
  },
  {
   "cell_type": "markdown",
   "id": "41053826",
   "metadata": {},
   "source": [
    "### Classificação Fakes"
   ]
  },
  {
   "cell_type": "code",
   "execution_count": 22,
   "id": "f5f0d579",
   "metadata": {},
   "outputs": [
    {
     "data": {
      "text/plain": [
       "['teste']"
      ]
     },
     "execution_count": 22,
     "metadata": {},
     "output_type": "execute_result"
    }
   ],
   "source": [
    "lista_f = []\n",
    "lista_f.append(sentence_f)\n",
    "lista_f"
   ]
  },
  {
   "cell_type": "code",
   "execution_count": 23,
   "id": "6f930e51",
   "metadata": {},
   "outputs": [],
   "source": [
    "maxlen = 2000\n",
    "sequences_f = tokenizer.texts_to_sequences(lista_f)\n",
    "padded_f = pad_sequences(sequences_f, maxlen=maxlen)"
   ]
  },
  {
   "cell_type": "code",
   "execution_count": 24,
   "id": "a50a1266",
   "metadata": {},
   "outputs": [
    {
     "data": {
      "text/plain": [
       "array([[0.00948888]], dtype=float32)"
      ]
     },
     "execution_count": 24,
     "metadata": {},
     "output_type": "execute_result"
    }
   ],
   "source": [
    "model.predict(padded_f)"
   ]
  },
  {
   "cell_type": "code",
   "execution_count": 25,
   "id": "bbbaeaee",
   "metadata": {},
   "outputs": [
    {
     "data": {
      "text/plain": [
       "array([[0]])"
      ]
     },
     "execution_count": 25,
     "metadata": {},
     "output_type": "execute_result"
    }
   ],
   "source": [
    "(model.predict(padded_f) >=0.5).astype(int)"
   ]
  }
 ],
 "metadata": {
  "kernelspec": {
   "display_name": "Python 3 (ipykernel)",
   "language": "python",
   "name": "python3"
  },
  "language_info": {
   "codemirror_mode": {
    "name": "ipython",
    "version": 3
   },
   "file_extension": ".py",
   "mimetype": "text/x-python",
   "name": "python",
   "nbconvert_exporter": "python",
   "pygments_lexer": "ipython3",
   "version": "3.9.7"
  }
 },
 "nbformat": 4,
 "nbformat_minor": 5
}
