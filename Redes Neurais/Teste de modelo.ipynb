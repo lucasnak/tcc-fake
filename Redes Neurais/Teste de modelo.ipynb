{
 "cells": [
  {
   "cell_type": "markdown",
   "id": "8ab852b7",
   "metadata": {},
   "source": [
    "### Carregando o modelo"
   ]
  },
  {
   "cell_type": "code",
   "execution_count": 38,
   "id": "5f0730ae",
   "metadata": {},
   "outputs": [],
   "source": [
    "import numpy as np\n",
    "import pandas as pd\n",
    "import matplotlib.pyplot as plt\n",
    "import seaborn as sns\n",
    "import nltk\n",
    "import re\n",
    "import json\n",
    "from tensorflow.keras.preprocessing.text import Tokenizer\n",
    "from tensorflow.keras.preprocessing.sequence import pad_sequences\n",
    "from tensorflow.keras.models import Sequential\n",
    "from tensorflow.keras.layers import Dense, Embedding, LSTM, Conv1D, MaxPool1D\n",
    "from sklearn.model_selection import train_test_split\n",
    "from sklearn.metrics import classification_report, accuracy_score"
   ]
  },
  {
   "cell_type": "code",
   "execution_count": 39,
   "id": "9f187c1e",
   "metadata": {},
   "outputs": [],
   "source": [
    "from keras.models import load_model"
   ]
  },
  {
   "cell_type": "code",
   "execution_count": 40,
   "id": "ef9fb402",
   "metadata": {},
   "outputs": [],
   "source": [
    "def loadModel():\n",
    "    name = input('escreva o nome do modelo a ser carregado:')\n",
    "    savedModel = load_model(name+'.h5')\n",
    "    with open('wordIndex.json') as f:\n",
    "        dicto = json.load(f)\n",
    "    savedModel.summary()\n",
    "    return savedModel, dicto"
   ]
  },
  {
   "cell_type": "code",
   "execution_count": 41,
   "id": "7899ce69",
   "metadata": {},
   "outputs": [
    {
     "name": "stdout",
     "output_type": "stream",
     "text": [
      "escreva o nome do modelo a ser carregado:modelo96\n",
      "Model: \"sequential\"\n",
      "_________________________________________________________________\n",
      " Layer (type)                Output Shape              Param #   \n",
      "=================================================================\n",
      " embedding (Embedding)       (None, 2000, 100)         8998800   \n",
      "                                                                 \n",
      " lstm (LSTM)                 (None, 128)               117248    \n",
      "                                                                 \n",
      " dense (Dense)               (None, 1)                 129       \n",
      "                                                                 \n",
      "=================================================================\n",
      "Total params: 9,116,177\n",
      "Trainable params: 117,377\n",
      "Non-trainable params: 8,998,800\n",
      "_________________________________________________________________\n"
     ]
    }
   ],
   "source": [
    "tokenizer = Tokenizer()\n",
    "model, tokenizer.word_index = loadModel()"
   ]
  },
  {
   "cell_type": "markdown",
   "id": "7f05c66c",
   "metadata": {},
   "source": [
    "### Notícias analisadas"
   ]
  },
  {
   "cell_type": "code",
   "execution_count": 125,
   "id": "a19f8fea",
   "metadata": {},
   "outputs": [],
   "source": [
    "sentence_t = '''O presidente Jair Bolsonaro assinou nesta terça-feira (15), em cerimônia no Palácio do Planalto, um decreto que facilita a posse de armas de fogo.\n",
    "\n",
    "O direito à posse é a autorização para manter uma arma de fogo em casa ou no local de trabalho (desde que o dono da arma seja o responsável legal pelo estabelecimento). Para andar com a arma na rua, é preciso ter direito ao porte, cujas regras são mais rigorosas e não foram tratadas no decreto.\n",
    "\n",
    "O texto do decreto permite aos cidadãos residentes em área urbana ou rural manter arma de fogo em casa, desde que cumpridos os requisitos de \"efetiva necessidade\", a serem examinados pela Polícia Federal (veja regras mais abaixo).\n",
    "\n",
    "Cumpridos os requisitos, o cidadão poderá ter até quatro armas, limite que pode ser ultrapassado em casos específicos.\n",
    "\n",
    "O decreto também prevê que o prazo de validade do registro da arma, hoje de cinco anos, passará para dez anos.\n",
    "\n",
    "“Todo e qualquer cidadão e cidadã, em qualquer lugar do país, por conta desse dispositivo, tem o direito de ir até uma delegacia de Polícia Federal, levar os seus documentos, pedir autorização, adquirir a arma e poder ter a respectiva posse“, declarou o ministro da Casa Civil, Onyx Lorenzoni.'''"
   ]
  },
  {
   "cell_type": "code",
   "execution_count": 126,
   "id": "bcf9537e",
   "metadata": {},
   "outputs": [],
   "source": [
    "sentence_f = \"teste\""
   ]
  },
  {
   "cell_type": "markdown",
   "id": "3969ce4a",
   "metadata": {},
   "source": [
    "### Preprocessing"
   ]
  },
  {
   "cell_type": "code",
   "execution_count": 127,
   "id": "8b49bbd2",
   "metadata": {},
   "outputs": [],
   "source": [
    "sentence_t = sentence_t.lower()\n",
    "\n",
    "def remove_punct(raw_string):\n",
    "    '''Eliminates punctuations and numbers from raw_string.'''\n",
    "    translator = raw_string.maketrans({key:'' for key in string.punctuation.replace(\"-\", '') + \"“”‘’0123456789\"})\n",
    "    \n",
    "    return raw_string.translate(translator)\n",
    "\n",
    "sentence_t = remove_punct(sentence_t)"
   ]
  },
  {
   "cell_type": "code",
   "execution_count": 128,
   "id": "e6ac5b67",
   "metadata": {},
   "outputs": [],
   "source": [
    "sentence_f = sentence_f.lower()\n",
    "\n",
    "def remove_punct(raw_string):\n",
    "    '''Eliminates punctuations and numbers from raw_string.'''\n",
    "    translator = raw_string.maketrans({key:'' for key in string.punctuation.replace(\"-\", '') + \"“”‘’0123456789\"})  \n",
    "\n",
    "    return raw_string.translate(translator)\n",
    "\n",
    "sentence_f = remove_punct(sentence_f)"
   ]
  },
  {
   "cell_type": "markdown",
   "id": "5b0a997a",
   "metadata": {},
   "source": [
    "### Classificação Trues"
   ]
  },
  {
   "cell_type": "code",
   "execution_count": 129,
   "id": "e2275c69",
   "metadata": {},
   "outputs": [
    {
     "data": {
      "text/plain": [
       "['o presidente jair bolsonaro assinou nesta terça-feira  em cerimônia no palácio do planalto um decreto que facilita a posse de armas de fogo\\n\\no direito à posse é a autorização para manter uma arma de fogo em casa ou no local de trabalho desde que o dono da arma seja o responsável legal pelo estabelecimento para andar com a arma na rua é preciso ter direito ao porte cujas regras são mais rigorosas e não foram tratadas no decreto\\n\\no texto do decreto permite aos cidadãos residentes em área urbana ou rural manter arma de fogo em casa desde que cumpridos os requisitos de efetiva necessidade a serem examinados pela polícia federal veja regras mais abaixo\\n\\ncumpridos os requisitos o cidadão poderá ter até quatro armas limite que pode ser ultrapassado em casos específicos\\n\\no decreto também prevê que o prazo de validade do registro da arma hoje de cinco anos passará para dez anos\\n\\ntodo e qualquer cidadão e cidadã em qualquer lugar do país por conta desse dispositivo tem o direito de ir até uma delegacia de polícia federal levar os seus documentos pedir autorização adquirir a arma e poder ter a respectiva posse declarou o ministro da casa civil onyx lorenzoni']"
      ]
     },
     "execution_count": 129,
     "metadata": {},
     "output_type": "execute_result"
    }
   ],
   "source": [
    "lista_t = []\n",
    "lista_t.append(sentence_t)\n",
    "lista_t"
   ]
  },
  {
   "cell_type": "code",
   "execution_count": 98,
   "id": "f06eb3ff",
   "metadata": {
    "scrolled": false
   },
   "outputs": [],
   "source": [
    "maxlen = 2000\n",
    "sequences_t = tokenizer.texts_to_sequences(lista_t)\n",
    "padded_t = pad_sequences(sequences_t, maxlen=maxlen)"
   ]
  },
  {
   "cell_type": "code",
   "execution_count": 134,
   "id": "9912ed30",
   "metadata": {
    "scrolled": true
   },
   "outputs": [
    {
     "data": {
      "text/plain": [
       "array([[0.03727934]], dtype=float32)"
      ]
     },
     "execution_count": 134,
     "metadata": {},
     "output_type": "execute_result"
    }
   ],
   "source": [
    "model.predict(padded_t)"
   ]
  },
  {
   "cell_type": "code",
   "execution_count": 100,
   "id": "219e9eb5",
   "metadata": {},
   "outputs": [
    {
     "data": {
      "text/plain": [
       "array([[0]])"
      ]
     },
     "execution_count": 100,
     "metadata": {},
     "output_type": "execute_result"
    }
   ],
   "source": [
    "(model.predict(padded_t) >=0.5).astype(int)"
   ]
  },
  {
   "cell_type": "markdown",
   "id": "41053826",
   "metadata": {},
   "source": [
    "### Classificação Fakes"
   ]
  },
  {
   "cell_type": "code",
   "execution_count": 130,
   "id": "f5f0d579",
   "metadata": {},
   "outputs": [
    {
     "data": {
      "text/plain": [
       "['teste']"
      ]
     },
     "execution_count": 130,
     "metadata": {},
     "output_type": "execute_result"
    }
   ],
   "source": [
    "lista_f = []\n",
    "lista_f.append(sentence_f)\n",
    "lista_f"
   ]
  },
  {
   "cell_type": "code",
   "execution_count": 136,
   "id": "6f930e51",
   "metadata": {},
   "outputs": [],
   "source": [
    "maxlen = 2000\n",
    "sequences_f = tokenizer.texts_to_sequences(lista_f)\n",
    "padded_f = pad_sequences(sequences_f, maxlen=maxlen)"
   ]
  },
  {
   "cell_type": "code",
   "execution_count": 137,
   "id": "a50a1266",
   "metadata": {},
   "outputs": [
    {
     "data": {
      "text/plain": [
       "array([[0.00948888]], dtype=float32)"
      ]
     },
     "execution_count": 137,
     "metadata": {},
     "output_type": "execute_result"
    }
   ],
   "source": [
    "model.predict(padded_f)"
   ]
  },
  {
   "cell_type": "code",
   "execution_count": 138,
   "id": "bbbaeaee",
   "metadata": {},
   "outputs": [
    {
     "data": {
      "text/plain": [
       "array([[0]])"
      ]
     },
     "execution_count": 138,
     "metadata": {},
     "output_type": "execute_result"
    }
   ],
   "source": [
    "(model.predict(padded_f) >=0.5).astype(int)"
   ]
  },
  {
   "cell_type": "code",
   "execution_count": null,
   "id": "8355115e",
   "metadata": {},
   "outputs": [],
   "source": []
  }
 ],
 "metadata": {
  "kernelspec": {
   "display_name": "Python 3 (ipykernel)",
   "language": "python",
   "name": "python3"
  },
  "language_info": {
   "codemirror_mode": {
    "name": "ipython",
    "version": 3
   },
   "file_extension": ".py",
   "mimetype": "text/x-python",
   "name": "python",
   "nbconvert_exporter": "python",
   "pygments_lexer": "ipython3",
   "version": "3.9.7"
  }
 },
 "nbformat": 4,
 "nbformat_minor": 5
}
