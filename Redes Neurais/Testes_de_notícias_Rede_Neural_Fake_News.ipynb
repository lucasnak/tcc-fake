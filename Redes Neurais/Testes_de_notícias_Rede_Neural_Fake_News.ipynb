{
 "cells": [
  {
   "cell_type": "code",
   "execution_count": 33,
   "metadata": {
    "id": "k-U3LqJiH1nX"
   },
   "outputs": [],
   "source": [
    "import numpy as np\n",
    "import pandas as pd\n",
    "import matplotlib.pyplot as plt\n",
    "import seaborn as sns\n",
    "import nltk\n",
    "import re\n",
    "import string"
   ]
  },
  {
   "cell_type": "code",
   "execution_count": 4,
   "metadata": {
    "id": "6gCkMwI_Liok"
   },
   "outputs": [],
   "source": [
    "from tensorflow.keras.preprocessing.text import Tokenizer\n",
    "from tensorflow.keras.preprocessing.sequence import pad_sequences\n",
    "from tensorflow.keras.models import Sequential\n",
    "from tensorflow.keras.layers import Dense, Embedding, LSTM, Conv1D, MaxPool1D\n",
    "from sklearn.model_selection import train_test_split\n",
    "from sklearn.metrics import classification_report, accuracy_score"
   ]
  },
  {
   "cell_type": "code",
   "execution_count": 29,
   "metadata": {
    "scrolled": true
   },
   "outputs": [
    {
     "name": "stdout",
     "output_type": "stream",
     "text": [
      "Collecting spacy\n",
      "  Downloading spacy-3.2.4-cp39-cp39-win_amd64.whl (11.3 MB)\n",
      "Requirement already satisfied: requests<3.0.0,>=2.13.0 in c:\\users\\vitor\\anaconda3\\lib\\site-packages (from spacy) (2.26.0)\n",
      "Requirement already satisfied: tqdm<5.0.0,>=4.38.0 in c:\\users\\vitor\\anaconda3\\lib\\site-packages (from spacy) (4.62.3)\n",
      "Requirement already satisfied: click<8.1.0 in c:\\users\\vitor\\anaconda3\\lib\\site-packages (from spacy) (8.0.3)\n",
      "Collecting srsly<3.0.0,>=2.4.1\n",
      "  Downloading srsly-2.4.3-cp39-cp39-win_amd64.whl (448 kB)\n",
      "Collecting thinc<8.1.0,>=8.0.12\n",
      "  Downloading thinc-8.0.15-cp39-cp39-win_amd64.whl (1.0 MB)\n",
      "Requirement already satisfied: jinja2 in c:\\users\\vitor\\anaconda3\\lib\\site-packages (from spacy) (2.11.3)\n",
      "Collecting wasabi<1.1.0,>=0.8.1\n",
      "  Using cached wasabi-0.9.1-py3-none-any.whl (26 kB)\n",
      "Collecting murmurhash<1.1.0,>=0.28.0\n",
      "  Using cached murmurhash-1.0.7-cp39-cp39-win_amd64.whl (18 kB)\n",
      "Collecting spacy-legacy<3.1.0,>=3.0.8\n",
      "  Downloading spacy_legacy-3.0.9-py2.py3-none-any.whl (20 kB)\n",
      "Collecting pathy>=0.3.5\n",
      "  Using cached pathy-0.6.1-py3-none-any.whl (42 kB)\n",
      "Collecting spacy-loggers<2.0.0,>=1.0.0\n",
      "  Downloading spacy_loggers-1.0.2-py3-none-any.whl (7.2 kB)\n",
      "Collecting cymem<2.1.0,>=2.0.2\n",
      "  Using cached cymem-2.0.6-cp39-cp39-win_amd64.whl (36 kB)\n",
      "Requirement already satisfied: setuptools in c:\\users\\vitor\\anaconda3\\lib\\site-packages (from spacy) (58.0.4)\n",
      "Requirement already satisfied: packaging>=20.0 in c:\\users\\vitor\\anaconda3\\lib\\site-packages (from spacy) (21.0)\n",
      "Collecting langcodes<4.0.0,>=3.2.0\n",
      "  Using cached langcodes-3.3.0-py3-none-any.whl (181 kB)\n",
      "Requirement already satisfied: numpy>=1.15.0 in c:\\users\\vitor\\anaconda3\\lib\\site-packages (from spacy) (1.20.3)\n",
      "Collecting preshed<3.1.0,>=3.0.2\n",
      "  Using cached preshed-3.0.6-cp39-cp39-win_amd64.whl (112 kB)\n",
      "Collecting catalogue<2.1.0,>=2.0.6\n",
      "  Downloading catalogue-2.0.7-py3-none-any.whl (17 kB)\n",
      "Collecting blis<0.8.0,>=0.4.0\n",
      "  Downloading blis-0.7.7-cp39-cp39-win_amd64.whl (6.6 MB)\n",
      "Collecting pydantic!=1.8,!=1.8.1,<1.9.0,>=1.7.4\n",
      "  Downloading pydantic-1.8.2-cp39-cp39-win_amd64.whl (1.9 MB)\n",
      "Collecting typer<0.5.0,>=0.3.0\n",
      "  Downloading typer-0.4.1-py3-none-any.whl (27 kB)\n",
      "Requirement already satisfied: colorama in c:\\users\\vitor\\anaconda3\\lib\\site-packages (from click<8.1.0->spacy) (0.4.4)\n",
      "Requirement already satisfied: pyparsing>=2.0.2 in c:\\users\\vitor\\anaconda3\\lib\\site-packages (from packaging>=20.0->spacy) (3.0.4)\n",
      "Collecting smart-open<6.0.0,>=5.0.0\n",
      "  Using cached smart_open-5.2.1-py3-none-any.whl (58 kB)\n",
      "Requirement already satisfied: typing-extensions>=3.7.4.3 in c:\\users\\vitor\\anaconda3\\lib\\site-packages (from pydantic!=1.8,!=1.8.1,<1.9.0,>=1.7.4->spacy) (3.10.0.2)\n",
      "Requirement already satisfied: charset-normalizer~=2.0.0 in c:\\users\\vitor\\anaconda3\\lib\\site-packages (from requests<3.0.0,>=2.13.0->spacy) (2.0.4)\n",
      "Requirement already satisfied: urllib3<1.27,>=1.21.1 in c:\\users\\vitor\\anaconda3\\lib\\site-packages (from requests<3.0.0,>=2.13.0->spacy) (1.26.7)\n",
      "Requirement already satisfied: certifi>=2017.4.17 in c:\\users\\vitor\\anaconda3\\lib\\site-packages (from requests<3.0.0,>=2.13.0->spacy) (2021.10.8)\n",
      "Requirement already satisfied: idna<4,>=2.5 in c:\\users\\vitor\\anaconda3\\lib\\site-packages (from requests<3.0.0,>=2.13.0->spacy) (3.2)\n",
      "Requirement already satisfied: MarkupSafe>=0.23 in c:\\users\\vitor\\anaconda3\\lib\\site-packages (from jinja2->spacy) (1.1.1)\n",
      "Installing collected packages: murmurhash, cymem, catalogue, wasabi, typer, srsly, smart-open, pydantic, preshed, blis, thinc, spacy-loggers, spacy-legacy, pathy, langcodes, spacy\n",
      "Successfully installed blis-0.7.7 catalogue-2.0.7 cymem-2.0.6 langcodes-3.3.0 murmurhash-1.0.7 pathy-0.6.1 preshed-3.0.6 pydantic-1.8.2 smart-open-5.2.1 spacy-3.2.4 spacy-legacy-3.0.9 spacy-loggers-1.0.2 srsly-2.4.3 thinc-8.0.15 typer-0.4.1 wasabi-0.9.1\n",
      "Collecting en-core-web-sm==3.2.0\n",
      "  Downloading https://github.com/explosion/spacy-models/releases/download/en_core_web_sm-3.2.0/en_core_web_sm-3.2.0-py3-none-any.whl (13.9 MB)\n",
      "Requirement already satisfied: spacy<3.3.0,>=3.2.0 in c:\\users\\vitor\\anaconda3\\lib\\site-packages (from en-core-web-sm==3.2.0) (3.2.4)\n",
      "Requirement already satisfied: cymem<2.1.0,>=2.0.2 in c:\\users\\vitor\\anaconda3\\lib\\site-packages (from spacy<3.3.0,>=3.2.0->en-core-web-sm==3.2.0) (2.0.6)\n"
     ]
    },
    {
     "name": "stderr",
     "output_type": "stream",
     "text": [
      "2022-04-28 08:51:42.446449: W tensorflow/stream_executor/platform/default/dso_loader.cc:64] Could not load dynamic library 'cudart64_110.dll'; dlerror: cudart64_110.dll not found\n",
      "2022-04-28 08:51:42.447435: I tensorflow/stream_executor/cuda/cudart_stub.cc:29] Ignore above cudart dlerror if you do not have a GPU set up on your machine.\n"
     ]
    },
    {
     "name": "stdout",
     "output_type": "stream",
     "text": [
      "Requirement already satisfied: srsly<3.0.0,>=2.4.1 in c:\\users\\vitor\\anaconda3\\lib\\site-packages (from spacy<3.3.0,>=3.2.0->en-core-web-sm==3.2.0) (2.4.3)\n",
      "Requirement already satisfied: preshed<3.1.0,>=3.0.2 in c:\\users\\vitor\\anaconda3\\lib\\site-packages (from spacy<3.3.0,>=3.2.0->en-core-web-sm==3.2.0) (3.0.6)\n",
      "Requirement already satisfied: murmurhash<1.1.0,>=0.28.0 in c:\\users\\vitor\\anaconda3\\lib\\site-packages (from spacy<3.3.0,>=3.2.0->en-core-web-sm==3.2.0) (1.0.7)\n",
      "Requirement already satisfied: requests<3.0.0,>=2.13.0 in c:\\users\\vitor\\anaconda3\\lib\\site-packages (from spacy<3.3.0,>=3.2.0->en-core-web-sm==3.2.0) (2.26.0)\n",
      "Requirement already satisfied: packaging>=20.0 in c:\\users\\vitor\\anaconda3\\lib\\site-packages (from spacy<3.3.0,>=3.2.0->en-core-web-sm==3.2.0) (21.0)\n",
      "Requirement already satisfied: jinja2 in c:\\users\\vitor\\anaconda3\\lib\\site-packages (from spacy<3.3.0,>=3.2.0->en-core-web-sm==3.2.0) (2.11.3)\n",
      "Requirement already satisfied: wasabi<1.1.0,>=0.8.1 in c:\\users\\vitor\\anaconda3\\lib\\site-packages (from spacy<3.3.0,>=3.2.0->en-core-web-sm==3.2.0) (0.9.1)\n",
      "Requirement already satisfied: thinc<8.1.0,>=8.0.12 in c:\\users\\vitor\\anaconda3\\lib\\site-packages (from spacy<3.3.0,>=3.2.0->en-core-web-sm==3.2.0) (8.0.15)\n",
      "Requirement already satisfied: langcodes<4.0.0,>=3.2.0 in c:\\users\\vitor\\anaconda3\\lib\\site-packages (from spacy<3.3.0,>=3.2.0->en-core-web-sm==3.2.0) (3.3.0)\n",
      "Requirement already satisfied: numpy>=1.15.0 in c:\\users\\vitor\\anaconda3\\lib\\site-packages (from spacy<3.3.0,>=3.2.0->en-core-web-sm==3.2.0) (1.20.3)\n",
      "Requirement already satisfied: catalogue<2.1.0,>=2.0.6 in c:\\users\\vitor\\anaconda3\\lib\\site-packages (from spacy<3.3.0,>=3.2.0->en-core-web-sm==3.2.0) (2.0.7)\n",
      "Requirement already satisfied: blis<0.8.0,>=0.4.0 in c:\\users\\vitor\\anaconda3\\lib\\site-packages (from spacy<3.3.0,>=3.2.0->en-core-web-sm==3.2.0) (0.7.7)\n",
      "Requirement already satisfied: setuptools in c:\\users\\vitor\\anaconda3\\lib\\site-packages (from spacy<3.3.0,>=3.2.0->en-core-web-sm==3.2.0) (58.0.4)\n",
      "Requirement already satisfied: tqdm<5.0.0,>=4.38.0 in c:\\users\\vitor\\anaconda3\\lib\\site-packages (from spacy<3.3.0,>=3.2.0->en-core-web-sm==3.2.0) (4.62.3)\n",
      "Requirement already satisfied: spacy-legacy<3.1.0,>=3.0.8 in c:\\users\\vitor\\anaconda3\\lib\\site-packages (from spacy<3.3.0,>=3.2.0->en-core-web-sm==3.2.0) (3.0.9)\n",
      "Requirement already satisfied: typer<0.5.0,>=0.3.0 in c:\\users\\vitor\\anaconda3\\lib\\site-packages (from spacy<3.3.0,>=3.2.0->en-core-web-sm==3.2.0) (0.4.1)\n",
      "Requirement already satisfied: click<8.1.0 in c:\\users\\vitor\\anaconda3\\lib\\site-packages (from spacy<3.3.0,>=3.2.0->en-core-web-sm==3.2.0) (8.0.3)\n",
      "Requirement already satisfied: pydantic!=1.8,!=1.8.1,<1.9.0,>=1.7.4 in c:\\users\\vitor\\anaconda3\\lib\\site-packages (from spacy<3.3.0,>=3.2.0->en-core-web-sm==3.2.0) (1.8.2)\n",
      "Requirement already satisfied: spacy-loggers<2.0.0,>=1.0.0 in c:\\users\\vitor\\anaconda3\\lib\\site-packages (from spacy<3.3.0,>=3.2.0->en-core-web-sm==3.2.0) (1.0.2)\n",
      "Requirement already satisfied: pathy>=0.3.5 in c:\\users\\vitor\\anaconda3\\lib\\site-packages (from spacy<3.3.0,>=3.2.0->en-core-web-sm==3.2.0) (0.6.1)\n",
      "Requirement already satisfied: colorama in c:\\users\\vitor\\anaconda3\\lib\\site-packages (from click<8.1.0->spacy<3.3.0,>=3.2.0->en-core-web-sm==3.2.0) (0.4.4)\n",
      "Requirement already satisfied: pyparsing>=2.0.2 in c:\\users\\vitor\\anaconda3\\lib\\site-packages (from packaging>=20.0->spacy<3.3.0,>=3.2.0->en-core-web-sm==3.2.0) (3.0.4)\n",
      "Requirement already satisfied: smart-open<6.0.0,>=5.0.0 in c:\\users\\vitor\\anaconda3\\lib\\site-packages (from pathy>=0.3.5->spacy<3.3.0,>=3.2.0->en-core-web-sm==3.2.0) (5.2.1)\n",
      "Requirement already satisfied: typing-extensions>=3.7.4.3 in c:\\users\\vitor\\anaconda3\\lib\\site-packages (from pydantic!=1.8,!=1.8.1,<1.9.0,>=1.7.4->spacy<3.3.0,>=3.2.0->en-core-web-sm==3.2.0) (3.10.0.2)\n",
      "Requirement already satisfied: charset-normalizer~=2.0.0 in c:\\users\\vitor\\anaconda3\\lib\\site-packages (from requests<3.0.0,>=2.13.0->spacy<3.3.0,>=3.2.0->en-core-web-sm==3.2.0) (2.0.4)\n",
      "Requirement already satisfied: urllib3<1.27,>=1.21.1 in c:\\users\\vitor\\anaconda3\\lib\\site-packages (from requests<3.0.0,>=2.13.0->spacy<3.3.0,>=3.2.0->en-core-web-sm==3.2.0) (1.26.7)\n",
      "Requirement already satisfied: idna<4,>=2.5 in c:\\users\\vitor\\anaconda3\\lib\\site-packages (from requests<3.0.0,>=2.13.0->spacy<3.3.0,>=3.2.0->en-core-web-sm==3.2.0) (3.2)\n",
      "Requirement already satisfied: certifi>=2017.4.17 in c:\\users\\vitor\\anaconda3\\lib\\site-packages (from requests<3.0.0,>=2.13.0->spacy<3.3.0,>=3.2.0->en-core-web-sm==3.2.0) (2021.10.8)\n",
      "Requirement already satisfied: MarkupSafe>=0.23 in c:\\users\\vitor\\anaconda3\\lib\\site-packages (from jinja2->spacy<3.3.0,>=3.2.0->en-core-web-sm==3.2.0) (1.1.1)\n",
      "Installing collected packages: en-core-web-sm\n",
      "Successfully installed en-core-web-sm-3.2.0\n",
      "[+] Download and installation successful\n",
      "You can now load the package via spacy.load('en_core_web_sm')\n"
     ]
    }
   ],
   "source": [
    "!pip install spacy\n",
    "!python -m spacy download en_core_web_sm"
   ]
  },
  {
   "cell_type": "code",
   "execution_count": 25,
   "metadata": {
    "id": "E3whxbt8sYOB",
    "scrolled": false
   },
   "outputs": [
    {
     "name": "stdout",
     "output_type": "stream",
     "text": [
      "Requirement already satisfied: beautifulsoup4==4.9.1 in c:\\users\\vitor\\anaconda3\\lib\\site-packages (4.9.1)\n",
      "Requirement already satisfied: soupsieve>1.2 in c:\\users\\vitor\\anaconda3\\lib\\site-packages (from beautifulsoup4==4.9.1) (2.2.1)\n",
      "Requirement already satisfied: textblob==0.15.3 in c:\\users\\vitor\\anaconda3\\lib\\site-packages (0.15.3)\n",
      "Requirement already satisfied: nltk>=3.1 in c:\\users\\vitor\\anaconda3\\lib\\site-packages (from textblob==0.15.3) (3.6.5)\n",
      "Requirement already satisfied: click in c:\\users\\vitor\\anaconda3\\lib\\site-packages (from nltk>=3.1->textblob==0.15.3) (8.0.3)\n",
      "Requirement already satisfied: joblib in c:\\users\\vitor\\anaconda3\\lib\\site-packages (from nltk>=3.1->textblob==0.15.3) (1.1.0)\n",
      "Requirement already satisfied: regex>=2021.8.3 in c:\\users\\vitor\\anaconda3\\lib\\site-packages (from nltk>=3.1->textblob==0.15.3) (2021.8.3)\n",
      "Requirement already satisfied: tqdm in c:\\users\\vitor\\anaconda3\\lib\\site-packages (from nltk>=3.1->textblob==0.15.3) (4.62.3)\n",
      "Requirement already satisfied: colorama in c:\\users\\vitor\\anaconda3\\lib\\site-packages (from click->nltk>=3.1->textblob==0.15.3) (0.4.4)\n",
      "Collecting git+https://github.com/laxmimerit/preprocess_kgptalkie.git\n",
      "  Cloning https://github.com/laxmimerit/preprocess_kgptalkie.git to c:\\users\\vitor\\appdata\\local\\temp\\pip-req-build-3k42lydj\n",
      "  Resolved https://github.com/laxmimerit/preprocess_kgptalkie.git to commit 9ca68d37027af9f6a30d54640347ce3b2e2694b3\n",
      "Building wheels for collected packages: preprocess-kgptalkie\n",
      "  Building wheel for preprocess-kgptalkie (setup.py): started\n",
      "  Building wheel for preprocess-kgptalkie (setup.py): finished with status 'done'\n",
      "  Created wheel for preprocess-kgptalkie: filename=preprocess_kgptalkie-0.1.3-py3-none-any.whl size=7692 sha256=9e2d64a7d4a3138641ca882ac1c3769074d540e131d46e5df23efb50fd57ae66\n",
      "  Stored in directory: C:\\Users\\vitor\\AppData\\Local\\Temp\\pip-ephem-wheel-cache-o2i7ihew\\wheels\\d1\\c3\\bb\\559fe93e652b51cbc532f17e9693f3b70055f8560cf06c1fb3\n",
      "Successfully built preprocess-kgptalkie\n",
      "Installing collected packages: preprocess-kgptalkie\n",
      "  Attempting uninstall: preprocess-kgptalkie\n",
      "    Found existing installation: preprocess-kgptalkie 0.1.3\n",
      "    Uninstalling preprocess-kgptalkie-0.1.3:\n",
      "      Successfully uninstalled preprocess-kgptalkie-0.1.3\n",
      "Successfully installed preprocess-kgptalkie-0.1.3\n"
     ]
    },
    {
     "name": "stderr",
     "output_type": "stream",
     "text": [
      "  Running command git clone -q https://github.com/laxmimerit/preprocess_kgptalkie.git 'C:\\Users\\vitor\\AppData\\Local\\Temp\\pip-req-build-3k42lydj'\n"
     ]
    }
   ],
   "source": [
    "!pip install beautifulsoup4==4.9.1\n",
    "!pip install textblob==0.15.3\n",
    "!pip install git+https://github.com/laxmimerit/preprocess_kgptalkie.git --upgrade --force-reinstall"
   ]
  },
  {
   "cell_type": "code",
   "execution_count": 37,
   "metadata": {},
   "outputs": [
    {
     "name": "stdout",
     "output_type": "stream",
     "text": [
      "Note: you may need to restart the kernel to use updated packages.Collecting gensim\n",
      "  Downloading gensim-4.1.2-cp39-cp39-win_amd64.whl (24.0 MB)\n",
      "Collecting Cython==0.29.23\n",
      "  Downloading Cython-0.29.23-cp39-cp39-win_amd64.whl (1.7 MB)\n",
      "Requirement already satisfied: smart-open>=1.8.1 in c:\\users\\vitor\\anaconda3\\lib\\site-packages (from gensim) (5.2.1)\n",
      "Requirement already satisfied: scipy>=0.18.1 in c:\\users\\vitor\\anaconda3\\lib\\site-packages (from gensim) (1.7.1)\n",
      "Requirement already satisfied: numpy>=1.17.0 in c:\\users\\vitor\\anaconda3\\lib\\site-packages (from gensim) (1.20.3)\n",
      "Installing collected packages: Cython, gensim\n",
      "  Attempting uninstall: Cython\n",
      "    Found existing installation: Cython 0.29.24\n",
      "    Uninstalling Cython-0.29.24:\n",
      "      Successfully uninstalled Cython-0.29.24\n",
      "Successfully installed Cython-0.29.23 gensim-4.1.2\n",
      "\n"
     ]
    }
   ],
   "source": [
    "pip install gensim"
   ]
  },
  {
   "cell_type": "markdown",
   "metadata": {
    "id": "_PvwirXAzcd3"
   },
   "source": [
    "Importação do Corpus Português-Br"
   ]
  },
  {
   "cell_type": "code",
   "execution_count": 13,
   "metadata": {
    "id": "ATvrGFHtRDit",
    "scrolled": true
   },
   "outputs": [],
   "source": [
    "true=[]\n",
    "for i in range(1,3601):\n",
    "  with open(r'C:\\Users\\vitor\\Documents\\TCC.v3\\Software\\Fake.br-Corpus\\full_texts\\true\\\\'+str(i)+'.txt', encoding =\"utf8\") as t:\n",
    "    true.append(t.read())"
   ]
  },
  {
   "cell_type": "code",
   "execution_count": 14,
   "metadata": {
    "id": "tzWaRn3xcxZt"
   },
   "outputs": [],
   "source": [
    "df_true = pd.DataFrame(true, columns = ['texto'])"
   ]
  },
  {
   "cell_type": "code",
   "execution_count": 15,
   "metadata": {
    "colab": {
     "base_uri": "https://localhost:8080/"
    },
    "id": "sPO8FHKJdXi2",
    "outputId": "4934b14a-d9b2-4e59-a09f-c396955a49fd"
   },
   "outputs": [
    {
     "name": "stdout",
     "output_type": "stream",
     "text": [
      "                                                  texto\n",
      "0     ﻿O Podemos decidiu  expulsar o deputado federa...\n",
      "1     Em evento realizado nesta terça-feira para div...\n",
      "2     ﻿Após o prefeito de Manaus Arthur Virgílio (PS...\n",
      "3     ﻿Doria vai receber Zé Celso após reunião com r...\n",
      "4     Gustavo Pedreira Ferraz, que admitiu buscar ma...\n",
      "...                                                 ...\n",
      "3595  Ficou longe das notícias no fim de ano? Veja o...\n",
      "3596   A nova denúncia contra o ex-presidente Luiz I...\n",
      "3597  Como a Bahia virou uma potência mundial do mar...\n",
      "3598  Alvo da Lava Jato, Bendine tinha passagem comp...\n",
      "3599  Chefs convidados do Encontro Mundial das Cidad...\n",
      "\n",
      "[3600 rows x 1 columns]\n"
     ]
    }
   ],
   "source": [
    "print(df_true)"
   ]
  },
  {
   "cell_type": "code",
   "execution_count": 16,
   "metadata": {
    "id": "l0dKrhbYWXox"
   },
   "outputs": [],
   "source": [
    "fake=[]\n",
    "for i in range(1,3601):\n",
    "  with open(r'C:\\Users\\vitor\\Documents\\TCC.v3\\Software\\Fake.br-Corpus\\full_texts\\fake\\\\'+str(i)+'.txt', encoding =\"utf8\") as t:\n",
    "    fake.append(t.read())"
   ]
  },
  {
   "cell_type": "code",
   "execution_count": 17,
   "metadata": {
    "id": "t7zUZYNMijn3"
   },
   "outputs": [],
   "source": [
    "df_fake = pd.DataFrame(fake, columns = ['texto'])"
   ]
  },
  {
   "cell_type": "code",
   "execution_count": 18,
   "metadata": {
    "colab": {
     "base_uri": "https://localhost:8080/"
    },
    "id": "ayAIq2lwijoL",
    "outputId": "ed9d79d9-d082-4794-e2f1-26495cc08e8f"
   },
   "outputs": [
    {
     "name": "stdout",
     "output_type": "stream",
     "text": [
      "                                                  texto\n",
      "0     Kátia Abreu diz que vai colocar sua expulsão e...\n",
      "1     Blog esquerdista dá a entender que reclamar de...\n",
      "2     Alckmin diz que por ele PSDB desembarca, mas...\n",
      "3     Cara de pau não tem limites: Zé Celso aciona M...\n",
      "4     Temer resolve o problema de Luislinda: liberd...\n",
      "...                                                 ...\n",
      "3595  Grupo de 100 mil pessoas quer criar novo país ...\n",
      "3596  Montadoras pagaram R$ 36 milhões para aprovar ...\n",
      "3597  Deputado do PT não sabia que estava sendo film...\n",
      "3598  Cunha cancelou a viagem à Itália porque poderi...\n",
      "3599  Mulher bêbada invade Planalto e diz que é \"mar...\n",
      "\n",
      "[3600 rows x 1 columns]\n"
     ]
    }
   ],
   "source": [
    "print(df_fake)"
   ]
  },
  {
   "cell_type": "markdown",
   "metadata": {
    "id": "yTzmQyyIh4D7"
   },
   "source": [
    "Preprocessing"
   ]
  },
  {
   "cell_type": "code",
   "execution_count": 19,
   "metadata": {
    "id": "5Z5i_s86h6wZ"
   },
   "outputs": [],
   "source": [
    "df_true['texto'] = df_true['texto'].apply(lambda x: str(x).lower())\n",
    "df_fake['texto'] = df_fake['texto'].apply(lambda x: str(x).lower())"
   ]
  },
  {
   "cell_type": "code",
   "execution_count": 20,
   "metadata": {
    "id": "KUR0M0onkFCW"
   },
   "outputs": [],
   "source": [
    "df_true['class'] = 1\n",
    "df_fake['class'] = 0"
   ]
  },
  {
   "cell_type": "code",
   "execution_count": 21,
   "metadata": {
    "colab": {
     "base_uri": "https://localhost:8080/"
    },
    "id": "9dSB0igzrW-E",
    "outputId": "7b95a581-0400-40a6-c70a-3e17826132fa"
   },
   "outputs": [
    {
     "data": {
      "text/plain": [
       "Index(['texto', 'class'], dtype='object')"
      ]
     },
     "execution_count": 21,
     "metadata": {},
     "output_type": "execute_result"
    }
   ],
   "source": [
    "df_true.columns"
   ]
  },
  {
   "cell_type": "code",
   "execution_count": 22,
   "metadata": {
    "id": "m1f2beigr97S"
   },
   "outputs": [],
   "source": [
    "data = df_true.append(df_fake, ignore_index=True)"
   ]
  },
  {
   "cell_type": "code",
   "execution_count": 30,
   "metadata": {
    "id": "jHQMEUKmtQ5g",
    "scrolled": false
   },
   "outputs": [],
   "source": [
    "import preprocess_kgptalkie as ps"
   ]
  },
  {
   "cell_type": "code",
   "execution_count": 31,
   "metadata": {
    "colab": {
     "base_uri": "https://localhost:8080/"
    },
    "id": "8SD5uX_WtUB0",
    "outputId": "81ba4caf-a32c-4992-ad6f-4a64aea43a4a",
    "scrolled": true
   },
   "outputs": [],
   "source": [
    "#Método antido de remover caracteres especiais\n",
    "#data['texto'].apply(lambda x: ps.remove_special_chars(x))"
   ]
  },
  {
   "cell_type": "code",
   "execution_count": 34,
   "metadata": {
    "id": "1M36sCpJyQCX"
   },
   "outputs": [],
   "source": [
    "#Removes punctuation from every text within the DataFrame\n",
    "\n",
    "def remove_punct(raw_string):\n",
    "  '''Eliminates punctuations and numbers from raw_string.'''\n",
    "  translator = raw_string.maketrans({key:'' for key in string.punctuation.replace(\"-\", '') + \"“”‘’0123456789\"})\n",
    "\n",
    "  return raw_string.translate(translator)\n",
    "\n",
    "data['texto'] = data['texto'].apply(func=remove_punct)"
   ]
  },
  {
   "cell_type": "code",
   "execution_count": 35,
   "metadata": {
    "id": "2qjmsz5ByfWK"
   },
   "outputs": [
    {
     "name": "stdout",
     "output_type": "stream",
     "text": [
      "﻿o podemos decidiu  expulsar o deputado federal carlos gaguim do partido após a polícia federal fazer buscas a apreensões no gabinete dele na câmara com isso a legenda abre espaço para receber a senadora expulsa pelo pmdb katia abreu por meio de nota a legenda informou que o afastamento do parlamentar já era algo acordado entre os filiados da sigla  ainda que o parlamentar tenha comunicado a conclusão de sua desfiliação para esta semana diante dos fatos noticiados hoje a executiva nacional do podemos solicita o imediato cancelamento de sua filiação dos quadros do partido\n",
      "\n",
      "o partido que no passado chegou a cogitar lançar o parlamentar como candidato ao senado diz que apoia a investigação com a ampla apuração dos eventuais crimes cometidos e a consequente responsabilização dos envolvidos para que todos sejam punidos com o máximo rigor da lei independentemente de posição ou cargo ocupado \n"
     ]
    }
   ],
   "source": [
    "print(data['texto'][0])"
   ]
  },
  {
   "cell_type": "markdown",
   "metadata": {
    "id": "Vwr633Kltygi"
   },
   "source": [
    "Vectorization - Word2Vec"
   ]
  },
  {
   "cell_type": "code",
   "execution_count": 38,
   "metadata": {
    "id": "Jfh5p46bt3dY",
    "scrolled": true
   },
   "outputs": [],
   "source": [
    "import gensim"
   ]
  },
  {
   "cell_type": "code",
   "execution_count": 39,
   "metadata": {
    "id": "Xq5gpMoXw6QU"
   },
   "outputs": [],
   "source": [
    "y = data['class'].values"
   ]
  },
  {
   "cell_type": "code",
   "execution_count": 40,
   "metadata": {
    "id": "U8FFFqPCxALP"
   },
   "outputs": [],
   "source": [
    "X = [d.split() for d in data['texto'].tolist()]"
   ]
  },
  {
   "cell_type": "code",
   "execution_count": 47,
   "metadata": {
    "id": "TK_uWAwEx0DW"
   },
   "outputs": [],
   "source": [
    "DIM = 100\n",
    "w2v_model = gensim.models.Word2Vec(sentences=X, vector_size=DIM, window=10, min_count=1)"
   ]
  },
  {
   "cell_type": "code",
   "execution_count": 48,
   "metadata": {
    "colab": {
     "base_uri": "https://localhost:8080/"
    },
    "id": "4Z76l9x_yUe4",
    "outputId": "0c3ce357-6e1b-4351-eebb-b9ab8c183b69"
   },
   "outputs": [
    {
     "data": {
      "text/plain": [
       "[('jair', 0.8567922711372375),\n",
       " ('ciro', 0.785841166973114),\n",
       " ('alckmin', 0.758470356464386),\n",
       " ('presidenciável', 0.7401278614997864),\n",
       " ('psc-rj', 0.7190741300582886),\n",
       " ('boulos', 0.6930719614028931),\n",
       " ('pré-candidato', 0.6814339756965637),\n",
       " ('psl', 0.678733229637146),\n",
       " ('eleitorado', 0.6628262400627136),\n",
       " ('marina', 0.6536750793457031)]"
      ]
     },
     "execution_count": 48,
     "metadata": {},
     "output_type": "execute_result"
    }
   ],
   "source": [
    "w2v_model.wv.most_similar('bolsonaro')"
   ]
  },
  {
   "cell_type": "code",
   "execution_count": 49,
   "metadata": {
    "id": "ip2o-hhPyUql"
   },
   "outputs": [],
   "source": [
    "tokenizer = Tokenizer()\n",
    "tokenizer.fit_on_texts(X)"
   ]
  },
  {
   "cell_type": "code",
   "execution_count": 50,
   "metadata": {
    "id": "Ld4qAE9JyUxs"
   },
   "outputs": [],
   "source": [
    "X = tokenizer.texts_to_sequences(X)"
   ]
  },
  {
   "cell_type": "code",
   "execution_count": 51,
   "metadata": {
    "id": "FJLF3ajEx9Nl"
   },
   "outputs": [],
   "source": [
    "#tokenizer.word_index - coloca as palavras em ordem de aparecimento"
   ]
  },
  {
   "cell_type": "code",
   "execution_count": null,
   "metadata": {
    "id": "zSdj0OAb0l8m"
   },
   "outputs": [],
   "source": []
  },
  {
   "cell_type": "markdown",
   "metadata": {
    "id": "btaS96Ms0vgC"
   },
   "source": [
    "Analisando tamanho dos textos"
   ]
  },
  {
   "cell_type": "code",
   "execution_count": 52,
   "metadata": {
    "colab": {
     "base_uri": "https://localhost:8080/",
     "height": 265
    },
    "id": "ROYPvwrc0l_N",
    "outputId": "f839185b-cc0a-49ac-8d5e-a7d89cd5cd05"
   },
   "outputs": [
    {
     "data": {
      "image/png": "[encoded data removed]",
      "text/plain": [
       "<Figure size 432x288 with 1 Axes>"
      ]
     },
     "metadata": {
      "needs_background": "light"
     },
     "output_type": "display_data"
    }
   ],
   "source": [
    "plt.hist([len(x) for x in X], bins = 700)\n",
    "plt.show()"
   ]
  },
  {
   "cell_type": "code",
   "execution_count": 53,
   "metadata": {
    "colab": {
     "base_uri": "https://localhost:8080/"
    },
    "id": "gtbMY6sl0mCW",
    "outputId": "578de231-373c-4ed9-8fb8-ff1b76618214"
   },
   "outputs": [
    {
     "data": {
      "text/plain": [
       "311"
      ]
     },
     "execution_count": 53,
     "metadata": {},
     "output_type": "execute_result"
    }
   ],
   "source": [
    "#verificando quantas notícias tem mais do que o número de palavras especificado\n",
    "nos = np.array([len(x) for x in X])\n",
    "len(nos[nos>2000])"
   ]
  },
  {
   "cell_type": "code",
   "execution_count": 54,
   "metadata": {
    "id": "cHO1Xv0S0mF9"
   },
   "outputs": [],
   "source": [
    "maxlen = 2000\n",
    "X = pad_sequences(X, maxlen=maxlen)"
   ]
  },
  {
   "cell_type": "code",
   "execution_count": 55,
   "metadata": {
    "id": "SO8KXzbh1-ih"
   },
   "outputs": [],
   "source": [
    "vocab_size = len(tokenizer.word_index) + 1 #verificar novamente em 1h09 o pq do \"+1\"\n",
    "vocab = tokenizer.word_index"
   ]
  },
  {
   "cell_type": "code",
   "execution_count": 56,
   "metadata": {
    "id": "mdeGgpVS1-lY"
   },
   "outputs": [],
   "source": [
    "def get_weight_matrix(model):\n",
    "  weight_matrix = np.zeros((vocab_size, DIM))\n",
    "\n",
    "  for word, i in vocab.items():\n",
    "    weight_matrix[i] = model.wv[word]\n",
    "\n",
    "  return weight_matrix"
   ]
  },
  {
   "cell_type": "code",
   "execution_count": 57,
   "metadata": {
    "id": "5oHrKxa-1-op"
   },
   "outputs": [],
   "source": [
    "embedding_vectors = get_weight_matrix(w2v_model)"
   ]
  },
  {
   "cell_type": "code",
   "execution_count": null,
   "metadata": {
    "id": "JAQ_dJ2w4G6b"
   },
   "outputs": [],
   "source": []
  },
  {
   "cell_type": "markdown",
   "metadata": {
    "id": "Yo32seFa4TiA"
   },
   "source": [
    "Criando o modelo de rede neural"
   ]
  },
  {
   "cell_type": "code",
   "execution_count": 58,
   "metadata": {
    "id": "bXM2EBQ-4G9O"
   },
   "outputs": [],
   "source": [
    "#colocar trainable = True pra ver se melhora o resultado se a ML ficar retrinando\n",
    "model = Sequential()\n",
    "model.add(Embedding(vocab_size, output_dim=DIM, weights = [embedding_vectors], input_length=maxlen, trainable=False))\n",
    "model.add(LSTM(units=128))\n",
    "model.add(Dense(1, activation='sigmoid'))\n",
    "model.compile(optimizer='adam', loss='binary_crossentropy', metrics=['acc'])"
   ]
  },
  {
   "cell_type": "code",
   "execution_count": 59,
   "metadata": {
    "colab": {
     "base_uri": "https://localhost:8080/"
    },
    "id": "aCkCNT5i4HAp",
    "outputId": "2a17abb9-b27f-4162-e1c4-be6e97282819"
   },
   "outputs": [
    {
     "name": "stdout",
     "output_type": "stream",
     "text": [
      "Model: \"sequential\"\n",
      "_________________________________________________________________\n",
      " Layer (type)                Output Shape              Param #   \n",
      "=================================================================\n",
      " embedding (Embedding)       (None, 2000, 100)         8998800   \n",
      "                                                                 \n",
      " lstm (LSTM)                 (None, 128)               117248    \n",
      "                                                                 \n",
      " dense (Dense)               (None, 1)                 129       \n",
      "                                                                 \n",
      "=================================================================\n",
      "Total params: 9,116,177\n",
      "Trainable params: 117,377\n",
      "Non-trainable params: 8,998,800\n",
      "_________________________________________________________________\n"
     ]
    }
   ],
   "source": [
    "model.summary()"
   ]
  },
  {
   "cell_type": "markdown",
   "metadata": {
    "id": "Qmxxbkd35_gH"
   },
   "source": [
    "Treinando o modelo"
   ]
  },
  {
   "cell_type": "code",
   "execution_count": 60,
   "metadata": {
    "id": "j9VOEsSa3ldv"
   },
   "outputs": [],
   "source": [
    "X_train, X_test, y_train, y_test = train_test_split(X,y)"
   ]
  },
  {
   "cell_type": "code",
   "execution_count": 61,
   "metadata": {
    "colab": {
     "base_uri": "https://localhost:8080/"
    },
    "id": "O24NC1HG6D-J",
    "outputId": "864e6dbd-999f-443d-d111-110a404d730e"
   },
   "outputs": [
    {
     "name": "stdout",
     "output_type": "stream",
     "text": [
      "Epoch 1/6\n",
      "152/152 [==============================] - 436s 3s/step - loss: 0.6141 - acc: 0.6636 - val_loss: 0.6215 - val_acc: 0.6167\n",
      "Epoch 2/6\n",
      "152/152 [==============================] - 416s 3s/step - loss: 0.5332 - acc: 0.7247 - val_loss: 0.5506 - val_acc: 0.6926\n",
      "Epoch 3/6\n",
      "152/152 [==============================] - 410s 3s/step - loss: 0.5100 - acc: 0.7496 - val_loss: 0.5005 - val_acc: 0.7352\n",
      "Epoch 4/6\n",
      "152/152 [==============================] - 411s 3s/step - loss: 0.5020 - acc: 0.7558 - val_loss: 0.5537 - val_acc: 0.7111\n",
      "Epoch 5/6\n",
      "152/152 [==============================] - 565s 4s/step - loss: 0.4787 - acc: 0.7687 - val_loss: 0.4535 - val_acc: 0.8185\n",
      "Epoch 6/6\n",
      "152/152 [==============================] - 438s 3s/step - loss: 0.2286 - acc: 0.9272 - val_loss: 0.2688 - val_acc: 0.8981\n"
     ]
    },
    {
     "data": {
      "text/plain": [
       "<keras.callbacks.History at 0x1e71de6ac40>"
      ]
     },
     "execution_count": 61,
     "metadata": {},
     "output_type": "execute_result"
    }
   ],
   "source": [
    "model.fit(X_train, y_train, validation_split=0.1, epochs=6)"
   ]
  },
  {
   "cell_type": "code",
   "execution_count": 62,
   "metadata": {
    "id": "TJgFUize6ELP"
   },
   "outputs": [],
   "source": [
    "y_pred = (model.predict(X_test) >=0.5).astype(int)"
   ]
  },
  {
   "cell_type": "code",
   "execution_count": 63,
   "metadata": {
    "colab": {
     "base_uri": "https://localhost:8080/"
    },
    "id": "5b7Tc-ZZ1-sE",
    "outputId": "1b5a9938-a878-4feb-8a37-821878731655"
   },
   "outputs": [
    {
     "data": {
      "text/plain": [
       "0.8988888888888888"
      ]
     },
     "execution_count": 63,
     "metadata": {},
     "output_type": "execute_result"
    }
   ],
   "source": [
    "accuracy_score(y_test, y_pred)"
   ]
  },
  {
   "cell_type": "markdown",
   "metadata": {
    "id": "ueec0DsfdLR8"
   },
   "source": [
    "Testando o modelo com novas notícias"
   ]
  },
  {
   "cell_type": "code",
   "execution_count": 114,
   "metadata": {
    "colab": {
     "base_uri": "https://localhost:8080/",
     "height": 244
    },
    "id": "foWm9clCfn9C",
    "outputId": "a97f4174-0dc1-419f-b6d8-a0d7af10be4b"
   },
   "outputs": [
    {
     "data": {
      "application/vnd.google.colaboratory.intrinsic+json": {
       "type": "string"
      },
      "text/plain": [
       "'gustavo pedreira ferraz, que admitiu buscar malas de dinheiro para geddel vieira lima, afirmou à pf ter trabalhado na campanha presidencial de 2014 para o então candidato aécio neves (psdb). ex-diretor da defesa civil de salvador, bahia, ele resolveu colaborar com investigações sobre o bunker dos r$ 51 milhões. as digitais de ferraz foram encontradas nas cédulas de r$ 50 e r$ 100 que rechearam as malas e caixas de dinheiro encontradas na maior apreensão da história da pf. por meio de sua assessoria, o senador nega que gustavo tenha trabalhado em sua campanha.\\nconselheiro de ética do pmdb na bahia, ferraz admitiu que, em 2012, buscou uma mala de dinheiro para em um hotel em são paulo para o ex-ministro. ele afirma que ainda voltou a salvador em voo fretado e foi levado por um motorista do pmdb até a casa de geddel, aonde o dinheiro da mala foi contado. ferraz se diz traído já que esperava que o ex-ministro repassasse o montante para as campanhas de candidatos baianos às prefeituras e, na verdade, foram parar no bunker.\\nele afirma à pf que também colaborou para a campanha de geddel ao governo estadual, em 2010. à época das eleições de 2012, ele alega ter sido assessor de bancada do pmdb na assembleia legislativa do estado da bahia.\\nferraz assumiu em 2013, a superintendência da indústria e comércio de salvador, função que exerceu até o fim de 2014.\\nnaquele ano, ele diz ter feito campanha política para geddel, então candidato ao senado, paulo souto, candidato ao governo do estado da bahia, e aécio neves, candidato a presidente.\\nferraz foi preso na operação tesouro perdido, após serem encontradas suas digitais nas notas do bunker dos r$ 51 milhões. ele pagou fiança para deixar a cadeia. o valor, estipulado pelo supremo, foi de 50 salários mínimos.\\ncom a palavra, aécio neves\\n“o sr gustavo ferraz não trabalhou na campanha presidencial do psdb em 2014”.\\ncom a palavra, souto\\na reportagem não localizou paulo souto. o espaço está aberto para manifestação.'"
      ]
     },
     "execution_count": 114,
     "metadata": {},
     "output_type": "execute_result"
    }
   ],
   "source": [
    "df_true['texto'][4]"
   ]
  },
  {
   "cell_type": "markdown",
   "metadata": {
    "id": "YE5qSAJwve4d"
   },
   "source": [
    "Testando notícia True dentro do Corpus"
   ]
  },
  {
   "cell_type": "code",
   "execution_count": 38,
   "metadata": {
    "id": "OdYoQAylfVza"
   },
   "outputs": [],
   "source": [
    "#sentence_t = df_true['texto'][0]"
   ]
  },
  {
   "cell_type": "code",
   "execution_count": 64,
   "metadata": {
    "id": "quXxYd1X7gvV"
   },
   "outputs": [],
   "source": [
    "sentence_t = [\"em evento realizado nesta terça-feira para divulgar o jogo das estrelasum amistoso beneficente que será realizado nesta quarta, no estádio do maracanã, no rio de janeiro, zico foi questionado sobre o ano do flamengo. e o ídolo do clube não poupou críticas à montagem do elenco.\\n\\n minha visão é que alguns investimentos que foram feito não surtiram efeito dentro do campo. acho que é uma equipe supervalorizada, falei isso muito tempo antes, reclamou. não é fácil você trazer muita gente, ainda mais no meio de competição, com mudanças constantes, lesões. a coisa não funcionou.\\n\\nna avaliação de zico, faltou um trabalho melhor de avaliação dos jogadores contratados, especialmente os que vieram do futebol exterior. o futebol é isso mesmo, precisa seguir em frente e analisar quando vocês faz os investimentos, principalmente quando você vai atrás de jogadores que estão no exterior. é preciso saber como eles estão, o rendimento, questões de saúde, alertou. e infelizmente não foi isso que aconteceu com alguns jogadores que o flamengo investiu.\\n\\nzico avaliou também que a diretoria precisa se preocupar em trazer jogadores identificados com o clube. na reta final da temporada, muito se criticou a suposta falta de garra de alguns atletas. precisa saber também o que representa a camisa do flamengo, a história do clube, disse. é preciso ser bem entendido que o flamengo é um clube muito diferente dos outros.\\n\\no resultado, assim, segundo ele, é que o ano termina de maneira frustrante ao torcedor. é lógico que o objetivo principal era ter uma boa atuação na libertadores, o que não aconteceu. consequentemente conseguiu chegar na sul-americana, chegou a duas finais. mas ficou um gostinho amargo de não ter conquistado uma competição internacional\"]"
   ]
  },
  {
   "cell_type": "code",
   "execution_count": 144,
   "metadata": {
    "id": "6UBNaMfI7x8T"
   },
   "outputs": [],
   "source": [
    "sentence_t = [\"lógico que pelo investimento era esperado que isto acontecesse\"]"
   ]
  },
  {
   "cell_type": "code",
   "execution_count": 154,
   "metadata": {
    "colab": {
     "base_uri": "https://localhost:8080/"
    },
    "id": "8_xCyYkj2wSr",
    "outputId": "48eb5d2b-77f2-4703-9d46-1dbf1f4285cc"
   },
   "outputs": [
    {
     "data": {
      "text/plain": [
       "['as digitais de ferraz foram encontradas nas cédulas de r$ 50 e r$ 100 que rechearam as malas e caixas de dinheiro encontradas na maior apreensão da história da pf. por meio de sua assessoria, o senador nega que gustavo tenha trabalhado em sua campanha.\\nconselheiro de ética do pmdb na bahia, ferraz admitiu que, em 2012, buscou uma mala de dinheiro para em um hotel em são paulo para o ex-ministro. ele afirma que ainda voltou a salvador em voo fretado e foi levado por um motorista do pmdb até a casa de geddel, aonde o dinheiro da mala foi contado. ferraz se diz traído já que esperava que o ex-ministro repassasse o montante para as campanhas de candidatos baianos às prefeituras e, na verdade, foram parar no bunker.\\nele afirma à pf que também colaborou para a campanha de geddel ao governo estadual, em 2010. à época das eleições de 2012, ele alega ter sido assessor de bancada do pmdb na assembleia legislativa do estado da bahia.\\nferraz assumiu em 2013, a superintendência da indústria e comércio de salvador, função que exerceu até o fim de 2014.\\nnaquele ano, ele diz ter feito campanha política para geddel, então candidato ao senado, paulo souto, candidato ao governo do estado da bahia, e aécio neves, candidato a presidente.\\nferraz foi preso na operação tesouro perdido, após serem encontradas suas digitais nas notas do bunker dos r$ 51 milhões. ele pagou fiança para deixar a cadeia. o valor, estipulado pelo supremo, foi de 50 salários mínimos.\\ncom a palavra, aécio neves\\n“o sr gustavo ferraz não trabalhou na campanha presidencial do psdb em 2014”.\\ncom a palavra, souto\\na reportagem não localizou paulo souto. o espaço está aberto para manifestação. gustavo pedreira ferraz, que admitiu buscar malas de dinheiro para geddel vieira lima, afirmou à pf ter trabalhado na campanha presidencial de 2014 para o então candidato aécio neves (psdb). ex-diretor da defesa civil de salvador, bahia, ele resolveu colaborar com investigações sobre o bunker dos r$ 51 milhões. ']"
      ]
     },
     "execution_count": 154,
     "metadata": {},
     "output_type": "execute_result"
    }
   ],
   "source": [
    "sentence_t = [\"as digitais de ferraz foram encontradas nas cédulas de r$ 50 e r$ 100 que rechearam as malas e caixas de dinheiro encontradas na maior apreensão da história da pf. por meio de sua assessoria, o senador nega que gustavo tenha trabalhado em sua campanha.\\nconselheiro de ética do pmdb na bahia, ferraz admitiu que, em 2012, buscou uma mala de dinheiro para em um hotel em são paulo para o ex-ministro. ele afirma que ainda voltou a salvador em voo fretado e foi levado por um motorista do pmdb até a casa de geddel, aonde o dinheiro da mala foi contado. ferraz se diz traído já que esperava que o ex-ministro repassasse o montante para as campanhas de candidatos baianos às prefeituras e, na verdade, foram parar no bunker.\\nele afirma à pf que também colaborou para a campanha de geddel ao governo estadual, em 2010. à época das eleições de 2012, ele alega ter sido assessor de bancada do pmdb na assembleia legislativa do estado da bahia.\\nferraz assumiu em 2013, a superintendência da indústria e comércio de salvador, função que exerceu até o fim de 2014.\\nnaquele ano, ele diz ter feito campanha política para geddel, então candidato ao senado, paulo souto, candidato ao governo do estado da bahia, e aécio neves, candidato a presidente.\\nferraz foi preso na operação tesouro perdido, após serem encontradas suas digitais nas notas do bunker dos r$ 51 milhões. ele pagou fiança para deixar a cadeia. o valor, estipulado pelo supremo, foi de 50 salários mínimos.\\ncom a palavra, aécio neves\\n“o sr gustavo ferraz não trabalhou na campanha presidencial do psdb em 2014”.\\ncom a palavra, souto\\na reportagem não localizou paulo souto. o espaço está aberto para manifestação. gustavo pedreira ferraz, que admitiu buscar malas de dinheiro para geddel vieira lima, afirmou à pf ter trabalhado na campanha presidencial de 2014 para o então candidato aécio neves (psdb). ex-diretor da defesa civil de salvador, bahia, ele resolveu colaborar com investigações sobre o bunker dos r$ 51 milhões. \"]"
   ]
  },
  {
   "cell_type": "code",
   "execution_count": 65,
   "metadata": {
    "id": "e9KDpHD1XJ4J"
   },
   "outputs": [],
   "source": [
    "sequences_t = tokenizer.texts_to_sequences(sentence_t)\n",
    "padded_t = pad_sequences(sequences_t, maxlen=maxlen)"
   ]
  },
  {
   "cell_type": "code",
   "execution_count": 66,
   "metadata": {
    "colab": {
     "base_uri": "https://localhost:8080/"
    },
    "id": "0dDKGPQCu3PV",
    "outputId": "a0175020-e303-4e7b-82b1-4f1fcd11c817"
   },
   "outputs": [
    {
     "data": {
      "text/plain": [
       "array([[0.906942]], dtype=float32)"
      ]
     },
     "execution_count": 66,
     "metadata": {},
     "output_type": "execute_result"
    }
   ],
   "source": [
    "model.predict(padded_t)"
   ]
  },
  {
   "cell_type": "code",
   "execution_count": 67,
   "metadata": {
    "colab": {
     "base_uri": "https://localhost:8080/"
    },
    "id": "6t4pDfwWX0Yg",
    "outputId": "05296761-2c62-4ff2-f03b-f43add097288"
   },
   "outputs": [
    {
     "data": {
      "text/plain": [
       "array([[1]])"
      ]
     },
     "execution_count": 67,
     "metadata": {},
     "output_type": "execute_result"
    }
   ],
   "source": [
    "(model.predict(padded_t) >=0.5).astype(int)"
   ]
  },
  {
   "cell_type": "markdown",
   "metadata": {
    "id": "hi1PWQZUwyam"
   },
   "source": [
    "Testando notícia True fora do Corpus"
   ]
  },
  {
   "cell_type": "code",
   "execution_count": 72,
   "metadata": {
    "id": "n-tPNwyRxGUR"
   },
   "outputs": [],
   "source": [
    "sentence_t = [\"a vantagem de lula sobre o presidente caiu pontos na última pesquisa de intenção de voto mesmo com toda a mídia negativa de quem é vidraça bolsonaro consegue se manter em crescimento o ex-presidente lula ainda não conseguiu organizar sua campanha nem fazer coligações que o garanta nos estados bolsonaro foi beneficiado pela janela partidária onde o pl seu partido saiu como o maior do país e o centrão que o apoia como a grande base do congresso\"]"
   ]
  },
  {
   "cell_type": "code",
   "execution_count": 71,
   "metadata": {
    "id": "m4U0jINq0fsE"
   },
   "outputs": [],
   "source": [
    "sentence_t = [\"O médico Glauto Tuquarre Melo que morreu aos 49 anos por suspeita de infarto durante um voo que o levaria para a lua de mel nas Maldivas na madrugada de ontem era querido pelos colegas de trabalho cursava o primeiro ano do doutorado na UFPI e era pesquisador da depressão em pacientes com câncer Familiares seguem aguardando o traslado do corpo do profissional de saúde de Doha no Catar para o Brasil que deve levar ao menos três dias para ser liberado antes de seguir para o território brasileiro e ainda não divulgou informações sobre o velório\"]"
   ]
  },
  {
   "cell_type": "code",
   "execution_count": 109,
   "metadata": {
    "id": "zH2jfYQz1TAW"
   },
   "outputs": [],
   "source": [
    "sentence_t = [\"Já se passaram quase dias desde a substituição do Cartão Nutrir Emergencial que beneficia mil famílias carentes de Campinas com por mês e mil delas ainda não retiraram o dispositivo O balanço contabilizado até esta segunda-feira pela prefeitura representa uma quantia de de créditos de abril represados O programa Nutrir Emergencial foi criado no início da pandemia em para ajudar as famílias mais vulneráveis da metrópole a comprar itens básicos durante o período de crise financeira A Secretaria Municipal de Assistência Social Pessoa com Deficiência e Direitos Humanos alertou que o benefício tem um prazo máximo de três meses para ser utilizado pelos moradores sob risco do valor voltar para a prefeitura Neste caso o valor é usado em créditos futuros e a família que não manifestou interesse pelo benefício pode ser desligada do programa O crédito é bloqueado até darmos baixa no cartão disse a Pasta Em nota a prefeitura informou que está mantendo esforços para localizar as famílias com contatos por SMS nos telefones celulares do cadastro A maior parte dos cartões foi entregue na Estação Cultura no fim de março e o restante foi direcionado para pontos descentralizados da metrópole\"]"
   ]
  },
  {
   "cell_type": "code",
   "execution_count": 73,
   "metadata": {
    "id": "agummplzxGUS"
   },
   "outputs": [],
   "source": [
    "sequences_t = tokenizer.texts_to_sequences(sentence_t)\n",
    "padded_t = pad_sequences(sequences_t, maxlen=maxlen)"
   ]
  },
  {
   "cell_type": "code",
   "execution_count": 74,
   "metadata": {
    "colab": {
     "base_uri": "https://localhost:8080/"
    },
    "id": "ywBHCKDMxGUS",
    "outputId": "ce33be51-2920-434a-9fb2-eee307934f78"
   },
   "outputs": [
    {
     "data": {
      "text/plain": [
       "array([[0.12879694]], dtype=float32)"
      ]
     },
     "execution_count": 74,
     "metadata": {},
     "output_type": "execute_result"
    }
   ],
   "source": [
    "model.predict(padded_t)"
   ]
  },
  {
   "cell_type": "code",
   "execution_count": 75,
   "metadata": {
    "colab": {
     "base_uri": "https://localhost:8080/"
    },
    "id": "6oDd-PXTxGUT",
    "outputId": "7a13ce17-88b5-47c4-c845-8852f02fa8ed"
   },
   "outputs": [
    {
     "data": {
      "text/plain": [
       "array([[0]])"
      ]
     },
     "execution_count": 75,
     "metadata": {},
     "output_type": "execute_result"
    }
   ],
   "source": [
    "(model.predict(padded_t) >=0.5).astype(int)"
   ]
  },
  {
   "cell_type": "markdown",
   "metadata": {
    "id": "yGTVzEDuvrnT"
   },
   "source": [
    "Testando notícias falsas"
   ]
  },
  {
   "cell_type": "code",
   "execution_count": 54,
   "metadata": {
    "colab": {
     "base_uri": "https://localhost:8080/"
    },
    "id": "nNCvLBdMtTXd",
    "outputId": "c6e89520-c1cf-4e20-aafd-1a9d7935cb4c"
   },
   "outputs": [
    {
     "data": {
      "text/plain": [
       "array([[   0,    0,    0, ...,   17,  731, 3431]], dtype=int32)"
      ]
     },
     "execution_count": 54,
     "metadata": {},
     "output_type": "execute_result"
    }
   ],
   "source": [
    "from pandas._libs.algos import pad\n",
    "x = [\"Bolsonaro mostra quem manda e sanciona lei que todos os brasileiros queriam\"]\n",
    "x = tokenizer.texts_to_sequences(x)\n",
    "pad_sequences(x, maxlen=maxlen)"
   ]
  },
  {
   "cell_type": "code",
   "execution_count": 59,
   "metadata": {
    "id": "mUx0HJkVTbSy"
   },
   "outputs": [],
   "source": [
    "sentence_f = [\"Bolsonaro mostra quem manda e sanciona lei que todos os brasileiros queriam. Agora todo cidadão de bem pode comprar sua arma favorita e ter em casa pistolas, metralhadoras e fuzis. O projeto de lei já foi aprovado pela câmara e pelo senado e foi sem maiores problemas\"]"
   ]
  },
  {
   "cell_type": "code",
   "execution_count": 60,
   "metadata": {
    "id": "M-u6mm6Hv6xj"
   },
   "outputs": [],
   "source": [
    "sequences_f = tokenizer.texts_to_sequences(sentence_f)\n",
    "padded_f = pad_sequences(sequences_f, maxlen=maxlen)"
   ]
  },
  {
   "cell_type": "code",
   "execution_count": 62,
   "metadata": {
    "colab": {
     "base_uri": "https://localhost:8080/"
    },
    "id": "29w-ik1VwW3m",
    "outputId": "9933f3f6-0f5b-49c3-eed4-160d2fb5d5b2"
   },
   "outputs": [
    {
     "data": {
      "text/plain": [
       "array([[0.0307194]], dtype=float32)"
      ]
     },
     "execution_count": 62,
     "metadata": {},
     "output_type": "execute_result"
    }
   ],
   "source": [
    "model.predict(padded_f)"
   ]
  },
  {
   "cell_type": "code",
   "execution_count": 63,
   "metadata": {
    "colab": {
     "base_uri": "https://localhost:8080/"
    },
    "id": "jsmEG-TIwsMz",
    "outputId": "2fe90dac-ca23-4b56-af9c-dd12b2124a42"
   },
   "outputs": [
    {
     "data": {
      "text/plain": [
       "array([[0]])"
      ]
     },
     "execution_count": 63,
     "metadata": {},
     "output_type": "execute_result"
    }
   ],
   "source": [
    "(model.predict(padded_f) >=0.5).astype(int)"
   ]
  }
 ],
 "metadata": {
  "colab": {
   "name": "Testes de notícias - Rede Neural - Fake News.ipynb",
   "provenance": []
  },
  "kernelspec": {
   "display_name": "Python 3 (ipykernel)",
   "language": "python",
   "name": "python3"
  },
  "language_info": {
   "codemirror_mode": {
    "name": "ipython",
    "version": 3
   },
   "file_extension": ".py",
   "mimetype": "text/x-python",
   "name": "python",
   "nbconvert_exporter": "python",
   "pygments_lexer": "ipython3",
   "version": "3.9.7"
  }
 },
 "nbformat": 4,
 "nbformat_minor": 1
}
