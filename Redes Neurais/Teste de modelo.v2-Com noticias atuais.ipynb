{
 "cells": [
  {
   "cell_type": "markdown",
   "id": "8ab852b7",
   "metadata": {},
   "source": [
    "### Carregando o modelo"
   ]
  },
  {
   "cell_type": "code",
   "execution_count": 1,
   "id": "5f0730ae",
   "metadata": {},
   "outputs": [],
   "source": [
    "import numpy as np\n",
    "import pandas as pd\n",
    "import matplotlib.pyplot as plt\n",
    "import seaborn as sns\n",
    "import nltk\n",
    "import re\n",
    "import json\n",
    "import string\n",
    "import spacy\n",
    "import tensorflow as tf\n",
    "from tensorflow.keras.preprocessing.text import Tokenizer\n",
    "from tensorflow.keras.preprocessing.sequence import pad_sequences\n",
    "from tensorflow.keras.models import Sequential\n",
    "from tensorflow.keras.layers import Dense, Embedding, LSTM, Conv1D, MaxPool1D\n",
    "from sklearn.model_selection import train_test_split\n",
    "from sklearn.metrics import classification_report, accuracy_score, precision_score, recall_score, f1_score"
   ]
  },
  {
   "cell_type": "code",
   "execution_count": 2,
   "id": "9f187c1e",
   "metadata": {},
   "outputs": [],
   "source": [
    "from keras.models import load_model"
   ]
  },
  {
   "cell_type": "code",
   "execution_count": 68,
   "id": "ef9fb402",
   "metadata": {},
   "outputs": [],
   "source": [
    "def loadModel():\n",
    "    name = input('escreva o nome do modelo a ser carregado:')\n",
    "    savedModel = load_model(name+'.h5')\n",
    "    with open('wordIndex.json') as f:\n",
    "        dicto = json.load(f)\n",
    "    savedModel.summary()\n",
    "    return savedModel, dicto"
   ]
  },
  {
   "cell_type": "code",
   "execution_count": 69,
   "id": "7899ce69",
   "metadata": {},
   "outputs": [
    {
     "name": "stdout",
     "output_type": "stream",
     "text": [
      "escreva o nome do modelo a ser carregado:normal-trunc-150e500-1dense-100-1-acc96\n",
      "Model: \"sequential_1\"\n",
      "_________________________________________________________________\n",
      " Layer (type)                Output Shape              Param #   \n",
      "=================================================================\n",
      " embedding_1 (Embedding)     (None, 500, 100)          9235900   \n",
      "                                                                 \n",
      " lstm_1 (LSTM)               (None, 100)               80400     \n",
      "                                                                 \n",
      " dense_1 (Dense)             (None, 1)                 101       \n",
      "                                                                 \n",
      "=================================================================\n",
      "Total params: 9,316,401\n",
      "Trainable params: 80,501\n",
      "Non-trainable params: 9,235,900\n",
      "_________________________________________________________________\n"
     ]
    }
   ],
   "source": [
    "tokenizer = Tokenizer()\n",
    "model, tokenizer.word_index = loadModel()"
   ]
  },
  {
   "cell_type": "markdown",
   "id": "7f05c66c",
   "metadata": {},
   "source": [
    "### Notícias analisadas - True"
   ]
  },
  {
   "cell_type": "code",
   "execution_count": 70,
   "id": "a1bde219",
   "metadata": {},
   "outputs": [],
   "source": [
    "true=[]\n",
    "for i in range(1,54):\n",
    "    try:\n",
    "        with open(r'C:\\Users\\vitor\\Documents\\TCC.v3\\3.noticias_true_maio22\\\\'+str(i)+'.txt', encoding =\"utf8\") as t:\n",
    "            true.append(t.read())\n",
    "    except:\n",
    "        pass"
   ]
  },
  {
   "cell_type": "code",
   "execution_count": 71,
   "id": "7a42402a",
   "metadata": {
    "scrolled": true
   },
   "outputs": [
    {
     "data": {
      "text/plain": [
       "53"
      ]
     },
     "execution_count": 71,
     "metadata": {},
     "output_type": "execute_result"
    }
   ],
   "source": [
    "labels = [0,0,0,0,0,0,0,0,0,0,0,0,0,0,0,0,0,0,0,0,0,0,0,0,0,0,0,0,0,0,0,0,0,0,0,0,0,0,0,0,0,0,0,0,0,0,0,0,0,0,1,1,1]\n",
    "len(labels)"
   ]
  },
  {
   "cell_type": "code",
   "execution_count": 72,
   "id": "7b0698fe",
   "metadata": {
    "scrolled": true
   },
   "outputs": [],
   "source": [
    " df = pd.DataFrame(list(zip(true,labels)),columns=['true','labels'])"
   ]
  },
  {
   "cell_type": "markdown",
   "id": "3969ce4a",
   "metadata": {},
   "source": [
    "### Preprocessing"
   ]
  },
  {
   "cell_type": "code",
   "execution_count": 73,
   "id": "6f864bb0",
   "metadata": {},
   "outputs": [],
   "source": [
    "# Carregando o pacote de língua portuguesa para o processador Spacy\n",
    "nlp = spacy.load('pt_core_news_sm')"
   ]
  },
  {
   "cell_type": "code",
   "execution_count": 74,
   "id": "0c6567ea",
   "metadata": {},
   "outputs": [],
   "source": [
    "# Defininido funções de preprocessamento\n",
    "\n",
    "def removePunct(text):\n",
    "    '''\n",
    "    Removes any punctuation included in string.punctuation.\n",
    "    '''\n",
    "    translator = text.maketrans({key:'' for key in string.punctuation+'“”'}) # Translates any punctuation into ''\n",
    "    return text.translate(translator)\n",
    "\n",
    "def removeNumbers(text):\n",
    "    '''\n",
    "    Removes any number character in text.\n",
    "    '''\n",
    "    return re.sub('[0-9]', '' , text) # Translates any number into ''\n",
    "\n",
    "def removeStopWords(string):\n",
    "    '''\n",
    "    Removes any portuguese stopwords, using Spacy's standard package.\n",
    "    '''\n",
    "    doc = nlp(string)\n",
    "    return ' '.join([token.text for token in doc if token.is_stop is False])\n",
    "\n",
    "def lemmatize(string):\n",
    "    '''\n",
    "    Lemmatizes text word-by-word. Notice that lemmatizing is not as harsh as stemming, which makes the final text easier to read and understand in common language.\n",
    "    '''\n",
    "    doc = nlp(string)\n",
    "    return ' '.join([token.lemma_ for token in doc])\n",
    "\n",
    "def prep(string, useStopWords = False, lemma = False):\n",
    "    '''\n",
    "    Executes previously defined preprocessing in text.\n",
    "    '''\n",
    "\n",
    "    result = removeNumbers(removePunct(string)).lower()\n",
    "    \n",
    "    if useStopWords and lemma:\n",
    "        doc = nlp(result)\n",
    "        result = ' '.join([token.lemma_ for token in doc if token.is_stop is False])\n",
    "    elif useStopWords:\n",
    "        doc = nlp(result)\n",
    "        result = ' '.join([token.text for token in doc if token.is_stop is False])\n",
    "    elif lemma:\n",
    "        doc = nlp(result)\n",
    "        result = ' '.join([token.lemma_ for token in doc])\n",
    "\n",
    "    result = result.replace('\\n',\"\")\n",
    "    \n",
    "    return result"
   ]
  },
  {
   "cell_type": "code",
   "execution_count": 75,
   "id": "70f23fe7",
   "metadata": {},
   "outputs": [],
   "source": [
    "sentence_t = df['true'].apply(prep)"
   ]
  },
  {
   "cell_type": "code",
   "execution_count": 76,
   "id": "026975d8",
   "metadata": {},
   "outputs": [
    {
     "data": {
      "text/plain": [
       "'o presidente jair bolsonaro disse que caso avance na disputa irá participar de debates somente no segundo turno das eleições deste ano em entrevista ao apresentador carlos massa o ratinho em seu programa de rádio e televisão que foi ao ar nesta terçafeira bolsonaro falou ainda sobre terceira via desistência de joão doria e alianças— no segundo turno eu vou participar no primeiro turno a gente pensa porque se eu for os  candidatos vão querer dar pancada em mim e eu não vou ter tempo para responder eu acho que o debate deveria ser perguntas préacertadas antes para não baixar o nível — disse bolsonaro ao apresentadora última pesquisa do datafolha apontou que o expresidente luiz inácio lula da silva pt segue na liderança da corrida pela presidência com bolsonaro pl na segunda colocação lula aparece com  das intenções de voto enquanto bolsonaro tem  a margem de erro é de dois pontos para mais ou para menosquestionado pelo apresentador acerca de sua opinião em relação à saída de joão doria psdb da disputa eleitoral bolsonaro respondeu— não fazia diferença sobre saída de doria ele tava na casa do  eu acho que o eleitor que decide está polarizado dificilmente teremos terceira via — disse o presidente'"
      ]
     },
     "execution_count": 76,
     "metadata": {},
     "output_type": "execute_result"
    }
   ],
   "source": [
    "sentence_t[0]"
   ]
  },
  {
   "cell_type": "markdown",
   "id": "5b0a997a",
   "metadata": {},
   "source": [
    "### Classificação Trues"
   ]
  },
  {
   "cell_type": "code",
   "execution_count": 77,
   "id": "e2275c69",
   "metadata": {
    "scrolled": true
   },
   "outputs": [
    {
     "data": {
      "text/plain": [
       "[0     o presidente jair bolsonaro disse que caso ava...\n",
       " 1     a comissão de constituição e justiça da câmara...\n",
       " 2     os deputados anunciaram na mesma sessão um aco...\n",
       " 3     a comissão da constituição e justiça ccj do se...\n",
       " 4     o centro de contingência do coronavírus no est...\n",
       " 5     o expresidente luiz inácio lula da silva pt pr...\n",
       " 6     o presidente do banco central roberto campos n...\n",
       " 7     o expresidente luiz inácio lula da silva pt af...\n",
       " 8     o ministro dias toffoli do supremo tribunal fe...\n",
       " 9     o ministério público de contas de minas gerais...\n",
       " 10    a câmara dos deputados aprovou nesta quartafei...\n",
       " 11    o précandidato ao governo de são paulo tarcísi...\n",
       " 12    a câmara dos deputados aprovou nesta quartafei...\n",
       " 13    o plenário do senado aprovou nesta quartafeira...\n",
       " 14    o partido rede sustentabilidade apresentou nes...\n",
       " 15    o jornalista ribamar oliveira que morreu no an...\n",
       " 16    o primogênito do presidente jair bolsonaro pl ...\n",
       " 17    a comissão de direitos humanos da câmara aprov...\n",
       " 18    o tribunal de contas da união tcu deu aval nes...\n",
       " 19    o ministro alexandre de moraes do supremo trib...\n",
       " 20    bolsonaro põe fim ao seu casamento e isolada e...\n",
       " 21    integrantes da equipe econômica disseram à cnn...\n",
       " 22    a rússia está sofrendo com contraataques siste...\n",
       " 23    no laboratório do biólogo molecular david sinc...\n",
       " 24    o presidente jair bolsonaro pl voltou a critic...\n",
       " 25    os casos de varíola dos macacos em humanos têm...\n",
       " 26    o presidente jair bolsonaro vetou dez disposit...\n",
       " 27    o número de mortos em desastres causados por e...\n",
       " 28    as mulheres são maioria entre eleitores de tod...\n",
       " 29    os colombianos vão decidir quem será o próximo...\n",
       " 30    em  o poeta ferreira gullar  conheceu o trabal...\n",
       " 31    um projeto de emenda à constituição federal pe...\n",
       " 32    o exgovernador de são paulo joão doria psdb an...\n",
       " 33    o presidente do senado rodrigo pacheco psdmg d...\n",
       " 34    parlamentares e pesquisadores já admitem poste...\n",
       " 35    o norte e nordeste têm em comum o fato de sere...\n",
       " 36    no momento em que o presidente brasileiro jair...\n",
       " 37    o ministro do supremo tribunal federal stf lui...\n",
       " 38    o pt recorreu nesta sextafeira  da decisão do ...\n",
       " 39    o psol protocolou nesta sextafeira  uma repres...\n",
       " 40    o governo bolsonaro endureceu nas negociações ...\n",
       " 41    a lei aprovada na quintafeira  pelo congresso ...\n",
       " 42    o ministro luiz edson fachin presidente do tri...\n",
       " 43    integrantes da campanha lulaalckmin para a pre...\n",
       " 44    o senado aprovou nesta quintafeira  em primeir...\n",
       " 45    o ministro andré mendonça do supremo tribunal ...\n",
       " 46    o governo do presidente jair bolsonaro está pr...\n",
       " 47    membros da ala política do governo de jair bol...\n",
       " 48    a secretaria de política econômica do ministér...\n",
       " 49    o presidente jair bolsonaro vetou integalmente...\n",
       " 50    bolsonaro aprova lei de ajuste fiscal lula ex ...\n",
       " 51    jogar deputado quando querem de ontem preso li...\n",
       " 52    bolsonaro põe fim ao seu casamento e isolada e...\n",
       " Name: true, dtype: object]"
      ]
     },
     "execution_count": 77,
     "metadata": {},
     "output_type": "execute_result"
    }
   ],
   "source": [
    "lista_t = []\n",
    "lista_t.append(sentence_t)\n",
    "lista_t"
   ]
  },
  {
   "cell_type": "code",
   "execution_count": 81,
   "id": "f06eb3ff",
   "metadata": {
    "scrolled": false
   },
   "outputs": [],
   "source": [
    "maxlen = 500\n",
    "sequences_t = tokenizer.texts_to_sequences(sentence_t)\n",
    "padded_t = pad_sequences(sequences_t, maxlen=maxlen, padding='post',truncating='pre')"
   ]
  },
  {
   "cell_type": "code",
   "execution_count": 82,
   "id": "368700e7",
   "metadata": {
    "collapsed": true
   },
   "outputs": [
    {
     "name": "stdout",
     "output_type": "stream",
     "text": [
      "200\n",
      "372\n",
      "318\n",
      "599\n",
      "177\n",
      "194\n",
      "317\n",
      "432\n",
      "258\n",
      "520\n",
      "181\n",
      "223\n",
      "346\n",
      "538\n",
      "268\n",
      "358\n",
      "247\n",
      "473\n",
      "358\n",
      "189\n",
      "403\n",
      "178\n",
      "235\n",
      "903\n",
      "283\n",
      "321\n",
      "310\n",
      "159\n",
      "450\n",
      "442\n",
      "294\n",
      "1482\n",
      "573\n",
      "797\n",
      "1351\n",
      "1194\n",
      "1711\n",
      "354\n",
      "445\n",
      "380\n",
      "251\n",
      "270\n",
      "368\n",
      "210\n",
      "434\n",
      "365\n",
      "454\n",
      "218\n",
      "546\n",
      "454\n"
     ]
    }
   ],
   "source": [
    "for i in range(0,50):\n",
    "    print(len(sequences_t[i]))"
   ]
  },
  {
   "cell_type": "code",
   "execution_count": 83,
   "id": "9912ed30",
   "metadata": {
    "scrolled": true
   },
   "outputs": [],
   "source": [
    "y_pred = (model.predict(padded_t) >=0.5).astype(int)"
   ]
  },
  {
   "cell_type": "code",
   "execution_count": 85,
   "id": "63f39118",
   "metadata": {
    "collapsed": true
   },
   "outputs": [
    {
     "name": "stdout",
     "output_type": "stream",
     "text": [
      "[1]\n",
      "[0]\n",
      "[1]\n",
      "[0]\n",
      "[1]\n",
      "[1]\n",
      "[0]\n",
      "[0]\n",
      "[1]\n",
      "[0]\n",
      "[1]\n",
      "[1]\n",
      "[0]\n",
      "[0]\n",
      "[1]\n",
      "[0]\n",
      "[1]\n",
      "[0]\n",
      "[0]\n",
      "[1]\n",
      "[0]\n",
      "[1]\n",
      "[1]\n",
      "[0]\n",
      "[1]\n",
      "[1]\n",
      "[1]\n",
      "[1]\n",
      "[0]\n",
      "[0]\n",
      "[1]\n",
      "[0]\n",
      "[0]\n",
      "[0]\n",
      "[0]\n",
      "[0]\n",
      "[0]\n",
      "[0]\n",
      "[0]\n",
      "[0]\n",
      "[1]\n",
      "[1]\n",
      "[1]\n",
      "[1]\n",
      "[0]\n",
      "[0]\n",
      "[0]\n",
      "[1]\n",
      "[0]\n",
      "[0]\n"
     ]
    }
   ],
   "source": [
    "for i in range(0,50):\n",
    "    print(y_pred[i])"
   ]
  },
  {
   "cell_type": "code",
   "execution_count": 86,
   "id": "90826581",
   "metadata": {
    "scrolled": true
   },
   "outputs": [
    {
     "name": "stdout",
     "output_type": "stream",
     "text": [
      "0.5283018867924528\n",
      "0.0\n",
      "0.0\n",
      "0.0\n"
     ]
    }
   ],
   "source": [
    "print(accuracy_score(labels, y_pred))\n",
    "print(precision_score(labels, y_pred))\n",
    "print(recall_score(labels, y_pred))\n",
    "print(f1_score(labels, y_pred))"
   ]
  },
  {
   "cell_type": "code",
   "execution_count": 87,
   "id": "71b42dc0",
   "metadata": {
    "scrolled": true
   },
   "outputs": [],
   "source": [
    "cm = tf.math.confusion_matrix(labels=labels,predictions=y_pred)"
   ]
  },
  {
   "cell_type": "code",
   "execution_count": 88,
   "id": "7b339b82",
   "metadata": {},
   "outputs": [
    {
     "data": {
      "text/plain": [
       "Text(69.0, 0.5, 'Truth')"
      ]
     },
     "execution_count": 88,
     "metadata": {},
     "output_type": "execute_result"
    },
    {
     "data": {
      "image/png": "[encoded data removed]",
      "text/plain": [
       "<Figure size 720x504 with 2 Axes>"
      ]
     },
     "metadata": {
      "needs_background": "light"
     },
     "output_type": "display_data"
    }
   ],
   "source": [
    "plt.figure(figsize= (10,7))\n",
    "sns.heatmap(data=cm, annot=True)\n",
    "plt.xlabel('Predicted')\n",
    "plt.ylabel('Truth')"
   ]
  },
  {
   "cell_type": "markdown",
   "id": "41053826",
   "metadata": {},
   "source": [
    "### Classificação Fakes"
   ]
  },
  {
   "cell_type": "code",
   "execution_count": 82,
   "id": "f5f0d579",
   "metadata": {},
   "outputs": [
    {
     "data": {
      "text/plain": [
       "['quatro expresidentes presos até é o que a lava jato está preparando a força tarefa da operação lava jato está com farto material acusatório para levar para a cadeia simultaneamente expresidentes do brasil lula dilma temer e collor podem terminar sua vida política atrás das gradesa condenação de lula acendeu o alerta vermelho em políticos que se achavam intocáveis a operação lava jato ao condenar o maior líder político da esquerda no brasil demonstrou que nenhuma pessoa está acima da leia condenação a nove anos e seis meses de prisão pelo juiz federal sergio moro nesta quartafeira não mandará o petista automaticamente para a cadeia isso porque moro é um juiz de primeira instância e assim sua decisão não basta para que a pena seja cumprida imediatamentetoda decisão que o \\x93juiz da lava jato\\x94 toma em primeira instância é depois revisada em segunda instância pelos desembargadores do tribunal regional da a região trf joão pedro gebran neto relator da operação leandro paulsen e victor luiz dos santos laus membros da a turma da corte sediada em porto alegreo trio da segunda instância é muito mais duro que o juiz sergio moro a pena de lula provavelmente será confirmada e ampliada ele ficará fora das eleições de e com ele levará mais três expresidentes que lhe foram muito próximos durante os anos em que o petismo conduziu os rumos políticos do brasilpesa sobre michel temer fortíssimos indícios de corrupção passiva organização criminosa e obstrução de justiça somente com as provas levantadas até agora ele pode pegar até anos de cadeiacontra dilma vana rousseff pesa mais fortemente a acusação de tentativa de obstrução da justiça tal acusação fundamenta pela policia federal do brasil aponta tentativa de blindar o expresidente lula e barrar os processos em que ele está envolvido na operação lava jato ao nomeálo como ministroembora contra dilma ainda existam investigações sobre o caixa dois em suas campanhas eleitorais ela é a que possui mais chances de se livrar das garras da justiça caso seja condenada por obstrução da justiça sua pena será de até anos de reclusão como as penas inferiores a anos de reclusão são substituídas por penas são substituídas por prestação de serviços a comunidade ela precisa de mais uma condenação para de fato se juntar ao time dos expresidentes presoso expresidente fernando collor de melo ptcal é acusado pela procuradoriageral da república de ter recebido ao menos r milhões em propinas entre e referentes a dois contratos da br distribuidora subsidiária da petrobrás que segundo revelaram as investigações da lava jato também teria sido palco de um esquema de corrupção e loteamento de cargos políticos de maneira similar ao que ocorreu na estatal petrolíferaagora collor tem um conjunto pesado de acusações de peculato e lavagem de dinheiro pode ser condenado a anos de cadeia em regime fechadocomo podemos notar a operação lava jato está passando a limpo a história do brasil se os políticos não abafarem a operação teremos uma depuração dos processos políticos e um novo brasil surgindo das cinzas']"
      ]
     },
     "execution_count": 82,
     "metadata": {},
     "output_type": "execute_result"
    }
   ],
   "source": [
    "lista_f = []\n",
    "lista_f.append(sentence_f)\n",
    "lista_f"
   ]
  },
  {
   "cell_type": "code",
   "execution_count": 103,
   "id": "6f930e51",
   "metadata": {},
   "outputs": [],
   "source": [
    "maxlen = 100\n",
    "sequences_f = tokenizer.texts_to_sequences(lista_f)\n",
    "padded_f = pad_sequences(sequences_f, maxlen=maxlen)"
   ]
  },
  {
   "cell_type": "code",
   "execution_count": 104,
   "id": "a50a1266",
   "metadata": {},
   "outputs": [
    {
     "data": {
      "text/plain": [
       "array([[0.9640597]], dtype=float32)"
      ]
     },
     "execution_count": 104,
     "metadata": {},
     "output_type": "execute_result"
    }
   ],
   "source": [
    "model.predict(padded_f)"
   ]
  },
  {
   "cell_type": "code",
   "execution_count": 85,
   "id": "bbbaeaee",
   "metadata": {},
   "outputs": [
    {
     "data": {
      "text/plain": [
       "array([[1]])"
      ]
     },
     "execution_count": 85,
     "metadata": {},
     "output_type": "execute_result"
    }
   ],
   "source": [
    "(model.predict(padded_f) >=0.5).astype(int)"
   ]
  },
  {
   "cell_type": "code",
   "execution_count": null,
   "id": "3bbd5bc5",
   "metadata": {},
   "outputs": [],
   "source": []
  }
 ],
 "metadata": {
  "kernelspec": {
   "display_name": "Python 3 (ipykernel)",
   "language": "python",
   "name": "python3"
  },
  "language_info": {
   "codemirror_mode": {
    "name": "ipython",
    "version": 3
   },
   "file_extension": ".py",
   "mimetype": "text/x-python",
   "name": "python",
   "nbconvert_exporter": "python",
   "pygments_lexer": "ipython3",
   "version": "3.9.7"
  }
 },
 "nbformat": 4,
 "nbformat_minor": 5
}
