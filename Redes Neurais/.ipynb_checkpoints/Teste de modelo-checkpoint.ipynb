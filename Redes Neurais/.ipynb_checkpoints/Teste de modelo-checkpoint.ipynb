{
 "cells": [
  {
   "cell_type": "markdown",
   "id": "8ab852b7",
   "metadata": {},
   "source": [
    "### Carregando o modelo"
   ]
  },
  {
   "cell_type": "code",
   "execution_count": 1,
   "id": "5f0730ae",
   "metadata": {},
   "outputs": [],
   "source": [
    "import numpy as np\n",
    "import pandas as pd\n",
    "import matplotlib.pyplot as plt\n",
    "import seaborn as sns\n",
    "import nltk\n",
    "import re\n",
    "import json\n",
    "import string\n",
    "from tensorflow.keras.preprocessing.text import Tokenizer\n",
    "from tensorflow.keras.preprocessing.sequence import pad_sequences\n",
    "from tensorflow.keras.models import Sequential\n",
    "from tensorflow.keras.layers import Dense, Embedding, LSTM, Conv1D, MaxPool1D\n",
    "from sklearn.model_selection import train_test_split\n",
    "from sklearn.metrics import classification_report, accuracy_score"
   ]
  },
  {
   "cell_type": "code",
   "execution_count": 2,
   "id": "9f187c1e",
   "metadata": {},
   "outputs": [],
   "source": [
    "from keras.models import load_model"
   ]
  },
  {
   "cell_type": "code",
   "execution_count": 4,
   "id": "ef9fb402",
   "metadata": {},
   "outputs": [],
   "source": [
    "def loadModel():\n",
    "    name = input('escreva o nome do modelo a ser carregado:')\n",
    "    savedModel = load_model(name+'.h5')\n",
    "    with open('wordIndex.json') as f:\n",
    "        dicto = json.load(f)\n",
    "    savedModel.summary()\n",
    "    return savedModel, dicto"
   ]
  },
  {
   "cell_type": "code",
   "execution_count": 5,
   "id": "7899ce69",
   "metadata": {},
   "outputs": [
    {
     "name": "stdout",
     "output_type": "stream",
     "text": [
      "escreva o nome do modelo a ser carregado:modelo_truncado500\n",
      "Model: \"sequential\"\n",
      "_________________________________________________________________\n",
      " Layer (type)                Output Shape              Param #   \n",
      "=================================================================\n",
      " embedding (Embedding)       (None, 500, 100)          8998800   \n",
      "                                                                 \n",
      " lstm (LSTM)                 (None, 128)               117248    \n",
      "                                                                 \n",
      " dense (Dense)               (None, 1)                 129       \n",
      "                                                                 \n",
      "=================================================================\n",
      "Total params: 9,116,177\n",
      "Trainable params: 117,377\n",
      "Non-trainable params: 8,998,800\n",
      "_________________________________________________________________\n"
     ]
    }
   ],
   "source": [
    "tokenizer = Tokenizer()\n",
    "model, tokenizer.word_index = loadModel()"
   ]
  },
  {
   "cell_type": "markdown",
   "id": "7f05c66c",
   "metadata": {},
   "source": [
    "### Notícias analisadas"
   ]
  },
  {
   "cell_type": "code",
   "execution_count": 6,
   "id": "a19f8fea",
   "metadata": {},
   "outputs": [],
   "source": [
    "sentence_t = '''A defensora pública aposentada Cláudia Alvarim Barrozo, 59, gravada agredindo verbalmente entregadores negros, no último sábado (30), em vídeo em que chama um deles de 'macaco', em um condomínio de luxo de Niterói (RJ), tem cinco passagens anteriores pela polícia por injúria racial. Além disso, a reportagem do UOL apurou que as investigações tiveram início em 2014 e que há ainda uma sexta anotação policial antes do caso deste final de semana, mas por lesão corporal e constrangimento.\n",
    "\n",
    "Claudia Barrozo foi intimada a prestar esclarecimentos na tarde desta quinta-feira (5) na 81ª DP (Itaipu), porém alegou que já tinha \"compromissos\" e pediu para que a oitiva fosse adiada para a semana que vem.\n",
    "\n",
    "Hoje pela manhã, Eduardo Pessanha Marques e Jonathas de Souza Mendonça estiveram na delegacia para serem ouvidos novamente. \"A sensação que eu tive era de que eu estava em um filme, em uma novela e que aquilo não poderia estar acontecendo\", disse Eduardo, que gravou o vídeo flagrando o crime.\n",
    "\n",
    "De acordo com o delegado Carlos César Santos, atualmente \"as pessoas denunciam, não se calam, por isso a incidência [do crime de injúria racial] é maior hoje em dia\". Os agentes irão analisar imagens de câmeras de segurança.'''"
   ]
  },
  {
   "cell_type": "code",
   "execution_count": 7,
   "id": "bcf9537e",
   "metadata": {},
   "outputs": [],
   "source": [
    "sentence_f = '''Bolsonaro põe fim ao seu casamento e isolada ex-mulher O casamento de Michelle e Jair Bolsonaro chegou ao fim. O casal passa por uma crise complexa desde novembro de 2018, depois que Jair foi eleito Presidente do Brasil.\n",
    " \n",
    "O site de cobertura e fatos de celebridades e famosos, [site] foi o primeiro site a revelar a separação do casal no dia 13 de outubro de 2020. Na terça-feira o mesmo site revelou que a ex-primeira dama e esposa de Bolsonaro – Michelle Bolsonaro tem sofrido com o fim do casamento e se sentido isolada.\n",
    "\n",
    "O Custo da vila Olímpica do Japão: 29 milhões de dólares. O custo da vila Olímpica na olimpíada do Brasil: 900 milhões de dólares. e pra variar quem governava o Brasil na época: PT e Lula, quem ganhou muito dinheiro: políticos envolvidos na corrupção, e a globolixo\n",
    "\n",
    "NO RIO GRANDE DO SUL PRODUTORES DE UVA TOMAM MEDIDAS PARA EVITAR A GEADA NO RIO GRANDE DO SUL PRODUTORES DE UVA TOMAM MEDIDAS PARA EVITAR A GEADA Conforme informações do diário da informação em Bento Gonçalves para não congelar as uvas os produtores estão utilizando o fogo em tonéis, a técnica já é usada há alguns anos no Brasil e em outros países. Além da proteção é mais um espetáculo na Serra Gaúcha.\n",
    "\n",
    "Lula admite DERROTA em discurso de 1º de Maio. O discurso de Lula que era para ser às 12:00hs foi mudado para às 13:00 e só começou às 15:30. Tudo porque não tinha gente o suficiente. No discurso Lula diz que ainda não é candidato. Ele disse: “só dia 7 eu vou ser pré-candidato”. Será que já arregou?\n",
    "\n",
    "Bolsonaro põe fim ao seu casamento e isolada ex-mulher O casamento de Michelle e Jair Bolsonaro chegou ao fim. O casal passa por uma crise complexa desde novembro de 2018, depois que Jair foi eleito Presidente do Brasil.\n",
    " \n",
    "O site de cobertura e fatos de celebridades e famosos, [site] foi o primeiro site a revelar a separação do casal no dia 13 de outubro de 2020. Na terça-feira o mesmo site revelou que a ex-primeira dama e esposa de Bolsonaro – Michelle Bolsonaro tem sofrido com o fim do casamento e se sentido isolada.\n",
    "\n",
    "O Custo da vila Olímpica do Japão: 29 milhões de dólares. O custo da vila Olímpica na olimpíada do Brasil: 900 milhões de dólares. e pra variar quem governava o Brasil na época: PT e Lula, quem ganhou muito dinheiro: políticos envolvidos na corrupção, e a globolixo\n",
    "\n",
    "NO RIO GRANDE DO SUL PRODUTORES DE UVA TOMAM MEDIDAS PARA EVITAR A GEADA NO RIO GRANDE DO SUL PRODUTORES DE UVA TOMAM MEDIDAS PARA EVITAR A GEADA Conforme informações do diário da informação em Bento Gonçalves para não congelar as uvas os produtores estão utilizando o fogo em tonéis, a técnica já é usada há alguns anos no Brasil e em outros países. Além da proteção é mais um espetáculo na Serra Gaúcha.\n",
    "\n",
    "Lula admite DERROTA em discurso de 1º de Maio. O discurso de Lula que era para ser às 12:00hs foi mudado para às 13:00 e só começou às 15:30. Tudo porque não tinha gente o suficiente. No discurso Lula diz que ainda não é candidato. Ele disse: “só dia 7 eu vou ser pré-candidato”. Será que já arregou?'''"
   ]
  },
  {
   "cell_type": "markdown",
   "id": "3969ce4a",
   "metadata": {},
   "source": [
    "### Preprocessing"
   ]
  },
  {
   "cell_type": "code",
   "execution_count": 8,
   "id": "8b49bbd2",
   "metadata": {},
   "outputs": [],
   "source": [
    "sentence_t = sentence_t.lower()\n",
    "\n",
    "def remove_punct(raw_string):\n",
    "    '''Eliminates punctuations and numbers from raw_string.'''\n",
    "    translator = raw_string.maketrans({key:'' for key in string.punctuation.replace(\"-\", '') + \"“”‘’0123456789\"})\n",
    "    \n",
    "    return raw_string.translate(translator)\n",
    "\n",
    "sentence_t = remove_punct(sentence_t)"
   ]
  },
  {
   "cell_type": "code",
   "execution_count": 9,
   "id": "62d10aa2",
   "metadata": {},
   "outputs": [
    {
     "data": {
      "text/plain": [
       "'a defensora pública aposentada cláudia alvarim barrozo  gravada agredindo verbalmente entregadores negros no último sábado  em vídeo em que chama um deles de macaco em um condomínio de luxo de niterói rj tem cinco passagens anteriores pela polícia por injúria racial além disso a reportagem do uol apurou que as investigações tiveram início em  e que há ainda uma sexta anotação policial antes do caso deste final de semana mas por lesão corporal e constrangimento\\n\\nclaudia barrozo foi intimada a prestar esclarecimentos na tarde desta quinta-feira  na ª dp itaipu porém alegou que já tinha compromissos e pediu para que a oitiva fosse adiada para a semana que vem\\n\\nhoje pela manhã eduardo pessanha marques e jonathas de souza mendonça estiveram na delegacia para serem ouvidos novamente a sensação que eu tive era de que eu estava em um filme em uma novela e que aquilo não poderia estar acontecendo disse eduardo que gravou o vídeo flagrando o crime\\n\\nde acordo com o delegado carlos césar santos atualmente as pessoas denunciam não se calam por isso a incidência do crime de injúria racial é maior hoje em dia os agentes irão analisar imagens de câmeras de segurança'"
      ]
     },
     "execution_count": 9,
     "metadata": {},
     "output_type": "execute_result"
    }
   ],
   "source": [
    "sentence_t"
   ]
  },
  {
   "cell_type": "code",
   "execution_count": 10,
   "id": "e6ac5b67",
   "metadata": {},
   "outputs": [],
   "source": [
    "sentence_f = sentence_f.lower()\n",
    "\n",
    "def remove_punct(raw_string):\n",
    "    '''Eliminates punctuations and numbers from raw_string.'''\n",
    "    translator = raw_string.maketrans({key:'' for key in string.punctuation.replace(\"-\", '') + \"“”‘’0123456789\"})  \n",
    "\n",
    "    return raw_string.translate(translator)\n",
    "\n",
    "sentence_f = remove_punct(sentence_f)"
   ]
  },
  {
   "cell_type": "code",
   "execution_count": 11,
   "id": "baed6bb5",
   "metadata": {},
   "outputs": [
    {
     "data": {
      "text/plain": [
       "'bolsonaro põe fim ao seu casamento e isolada ex-mulher o casamento de michelle e jair bolsonaro chegou ao fim o casal passa por uma crise complexa desde novembro de  depois que jair foi eleito presidente do brasil\\n \\no site de cobertura e fatos de celebridades e famosos site foi o primeiro site a revelar a separação do casal no dia  de outubro de  na terça-feira o mesmo site revelou que a ex-primeira dama e esposa de bolsonaro – michelle bolsonaro tem sofrido com o fim do casamento e se sentido isolada\\n\\no custo da vila olímpica do japão  milhões de dólares o custo da vila olímpica na olimpíada do brasil  milhões de dólares e pra variar quem governava o brasil na época pt e lula quem ganhou muito dinheiro políticos envolvidos na corrupção e a globolixo\\n\\nno rio grande do sul produtores de uva tomam medidas para evitar a geada no rio grande do sul produtores de uva tomam medidas para evitar a geada conforme informações do diário da informação em bento gonçalves para não congelar as uvas os produtores estão utilizando o fogo em tonéis a técnica já é usada há alguns anos no brasil e em outros países além da proteção é mais um espetáculo na serra gaúcha\\n\\nlula admite derrota em discurso de º de maio o discurso de lula que era para ser às hs foi mudado para às  e só começou às  tudo porque não tinha gente o suficiente no discurso lula diz que ainda não é candidato ele disse só dia  eu vou ser pré-candidato será que já arregou\\n\\nbolsonaro põe fim ao seu casamento e isolada ex-mulher o casamento de michelle e jair bolsonaro chegou ao fim o casal passa por uma crise complexa desde novembro de  depois que jair foi eleito presidente do brasil\\n \\no site de cobertura e fatos de celebridades e famosos site foi o primeiro site a revelar a separação do casal no dia  de outubro de  na terça-feira o mesmo site revelou que a ex-primeira dama e esposa de bolsonaro – michelle bolsonaro tem sofrido com o fim do casamento e se sentido isolada\\n\\no custo da vila olímpica do japão  milhões de dólares o custo da vila olímpica na olimpíada do brasil  milhões de dólares e pra variar quem governava o brasil na época pt e lula quem ganhou muito dinheiro políticos envolvidos na corrupção e a globolixo\\n\\nno rio grande do sul produtores de uva tomam medidas para evitar a geada no rio grande do sul produtores de uva tomam medidas para evitar a geada conforme informações do diário da informação em bento gonçalves para não congelar as uvas os produtores estão utilizando o fogo em tonéis a técnica já é usada há alguns anos no brasil e em outros países além da proteção é mais um espetáculo na serra gaúcha\\n\\nlula admite derrota em discurso de º de maio o discurso de lula que era para ser às hs foi mudado para às  e só começou às  tudo porque não tinha gente o suficiente no discurso lula diz que ainda não é candidato ele disse só dia  eu vou ser pré-candidato será que já arregou'"
      ]
     },
     "execution_count": 11,
     "metadata": {},
     "output_type": "execute_result"
    }
   ],
   "source": [
    "sentence_f"
   ]
  },
  {
   "cell_type": "markdown",
   "id": "5b0a997a",
   "metadata": {},
   "source": [
    "### Classificação Trues"
   ]
  },
  {
   "cell_type": "code",
   "execution_count": 12,
   "id": "e2275c69",
   "metadata": {},
   "outputs": [
    {
     "data": {
      "text/plain": [
       "['a defensora pública aposentada cláudia alvarim barrozo  gravada agredindo verbalmente entregadores negros no último sábado  em vídeo em que chama um deles de macaco em um condomínio de luxo de niterói rj tem cinco passagens anteriores pela polícia por injúria racial além disso a reportagem do uol apurou que as investigações tiveram início em  e que há ainda uma sexta anotação policial antes do caso deste final de semana mas por lesão corporal e constrangimento\\n\\nclaudia barrozo foi intimada a prestar esclarecimentos na tarde desta quinta-feira  na ª dp itaipu porém alegou que já tinha compromissos e pediu para que a oitiva fosse adiada para a semana que vem\\n\\nhoje pela manhã eduardo pessanha marques e jonathas de souza mendonça estiveram na delegacia para serem ouvidos novamente a sensação que eu tive era de que eu estava em um filme em uma novela e que aquilo não poderia estar acontecendo disse eduardo que gravou o vídeo flagrando o crime\\n\\nde acordo com o delegado carlos césar santos atualmente as pessoas denunciam não se calam por isso a incidência do crime de injúria racial é maior hoje em dia os agentes irão analisar imagens de câmeras de segurança']"
      ]
     },
     "execution_count": 12,
     "metadata": {},
     "output_type": "execute_result"
    }
   ],
   "source": [
    "lista_t = []\n",
    "lista_t.append(sentence_t)\n",
    "lista_t"
   ]
  },
  {
   "cell_type": "code",
   "execution_count": 15,
   "id": "f06eb3ff",
   "metadata": {
    "scrolled": false
   },
   "outputs": [],
   "source": [
    "maxlen = 500\n",
    "sequences_t = tokenizer.texts_to_sequences(lista_t)\n",
    "padded_t = pad_sequences(sequences_t, maxlen=maxlen)"
   ]
  },
  {
   "cell_type": "code",
   "execution_count": 16,
   "id": "9912ed30",
   "metadata": {
    "scrolled": true
   },
   "outputs": [
    {
     "data": {
      "text/plain": [
       "array([[0.1345292]], dtype=float32)"
      ]
     },
     "execution_count": 16,
     "metadata": {},
     "output_type": "execute_result"
    }
   ],
   "source": [
    "model.predict(padded_t)"
   ]
  },
  {
   "cell_type": "code",
   "execution_count": 17,
   "id": "219e9eb5",
   "metadata": {},
   "outputs": [
    {
     "data": {
      "text/plain": [
       "array([[0]])"
      ]
     },
     "execution_count": 17,
     "metadata": {},
     "output_type": "execute_result"
    }
   ],
   "source": [
    "(model.predict(padded_t) >=0.5).astype(int)"
   ]
  },
  {
   "cell_type": "markdown",
   "id": "41053826",
   "metadata": {},
   "source": [
    "### Classificação Fakes"
   ]
  },
  {
   "cell_type": "code",
   "execution_count": 18,
   "id": "f5f0d579",
   "metadata": {},
   "outputs": [
    {
     "data": {
      "text/plain": [
       "['bolsonaro põe fim ao seu casamento e isolada ex-mulher o casamento de michelle e jair bolsonaro chegou ao fim o casal passa por uma crise complexa desde novembro de  depois que jair foi eleito presidente do brasil\\n \\no site de cobertura e fatos de celebridades e famosos site foi o primeiro site a revelar a separação do casal no dia  de outubro de  na terça-feira o mesmo site revelou que a ex-primeira dama e esposa de bolsonaro – michelle bolsonaro tem sofrido com o fim do casamento e se sentido isolada\\n\\no custo da vila olímpica do japão  milhões de dólares o custo da vila olímpica na olimpíada do brasil  milhões de dólares e pra variar quem governava o brasil na época pt e lula quem ganhou muito dinheiro políticos envolvidos na corrupção e a globolixo\\n\\nno rio grande do sul produtores de uva tomam medidas para evitar a geada no rio grande do sul produtores de uva tomam medidas para evitar a geada conforme informações do diário da informação em bento gonçalves para não congelar as uvas os produtores estão utilizando o fogo em tonéis a técnica já é usada há alguns anos no brasil e em outros países além da proteção é mais um espetáculo na serra gaúcha\\n\\nlula admite derrota em discurso de º de maio o discurso de lula que era para ser às hs foi mudado para às  e só começou às  tudo porque não tinha gente o suficiente no discurso lula diz que ainda não é candidato ele disse só dia  eu vou ser pré-candidato será que já arregou\\n\\nbolsonaro põe fim ao seu casamento e isolada ex-mulher o casamento de michelle e jair bolsonaro chegou ao fim o casal passa por uma crise complexa desde novembro de  depois que jair foi eleito presidente do brasil\\n \\no site de cobertura e fatos de celebridades e famosos site foi o primeiro site a revelar a separação do casal no dia  de outubro de  na terça-feira o mesmo site revelou que a ex-primeira dama e esposa de bolsonaro – michelle bolsonaro tem sofrido com o fim do casamento e se sentido isolada\\n\\no custo da vila olímpica do japão  milhões de dólares o custo da vila olímpica na olimpíada do brasil  milhões de dólares e pra variar quem governava o brasil na época pt e lula quem ganhou muito dinheiro políticos envolvidos na corrupção e a globolixo\\n\\nno rio grande do sul produtores de uva tomam medidas para evitar a geada no rio grande do sul produtores de uva tomam medidas para evitar a geada conforme informações do diário da informação em bento gonçalves para não congelar as uvas os produtores estão utilizando o fogo em tonéis a técnica já é usada há alguns anos no brasil e em outros países além da proteção é mais um espetáculo na serra gaúcha\\n\\nlula admite derrota em discurso de º de maio o discurso de lula que era para ser às hs foi mudado para às  e só começou às  tudo porque não tinha gente o suficiente no discurso lula diz que ainda não é candidato ele disse só dia  eu vou ser pré-candidato será que já arregou']"
      ]
     },
     "execution_count": 18,
     "metadata": {},
     "output_type": "execute_result"
    }
   ],
   "source": [
    "lista_f = []\n",
    "lista_f.append(sentence_f)\n",
    "lista_f"
   ]
  },
  {
   "cell_type": "code",
   "execution_count": 99,
   "id": "6f930e51",
   "metadata": {},
   "outputs": [],
   "source": [
    "maxlen = 2000\n",
    "sequences_f = tokenizer.texts_to_sequences(lista_f)\n",
    "padded_f = pad_sequences(sequences_f, maxlen=maxlen)"
   ]
  },
  {
   "cell_type": "code",
   "execution_count": 100,
   "id": "a50a1266",
   "metadata": {},
   "outputs": [
    {
     "data": {
      "text/plain": [
       "array([[0.9751261]], dtype=float32)"
      ]
     },
     "execution_count": 100,
     "metadata": {},
     "output_type": "execute_result"
    }
   ],
   "source": [
    "model.predict(padded_f)"
   ]
  },
  {
   "cell_type": "code",
   "execution_count": 101,
   "id": "bbbaeaee",
   "metadata": {},
   "outputs": [
    {
     "data": {
      "text/plain": [
       "array([[1]])"
      ]
     },
     "execution_count": 101,
     "metadata": {},
     "output_type": "execute_result"
    }
   ],
   "source": [
    "(model.predict(padded_f) >=0.5).astype(int)"
   ]
  },
  {
   "cell_type": "code",
   "execution_count": null,
   "id": "3bbd5bc5",
   "metadata": {},
   "outputs": [],
   "source": []
  }
 ],
 "metadata": {
  "kernelspec": {
   "display_name": "Python 3 (ipykernel)",
   "language": "python",
   "name": "python3"
  },
  "language_info": {
   "codemirror_mode": {
    "name": "ipython",
    "version": 3
   },
   "file_extension": ".py",
   "mimetype": "text/x-python",
   "name": "python",
   "nbconvert_exporter": "python",
   "pygments_lexer": "ipython3",
   "version": "3.9.7"
  }
 },
 "nbformat": 4,
 "nbformat_minor": 5
}
