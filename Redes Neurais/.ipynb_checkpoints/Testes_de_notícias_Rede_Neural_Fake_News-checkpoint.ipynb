{
 "cells": [
  {
   "cell_type": "code",
   "execution_count": 1,
   "metadata": {
    "colab": {
     "base_uri": "https://localhost:8080/"
    },
    "id": "9ekZ9hngJc3W",
    "outputId": "69d7b895-912f-4c3a-b525-3049dc10beff"
   },
   "outputs": [
    {
     "name": "stdout",
     "output_type": "stream",
     "text": [
      "Mounted at /content/drive\n"
     ]
    }
   ],
   "source": [
    "from google.colab import drive\n",
    "drive.mount('/content/drive')"
   ]
  },
  {
   "cell_type": "code",
   "execution_count": 2,
   "metadata": {
    "id": "k-U3LqJiH1nX"
   },
   "outputs": [],
   "source": [
    "import numpy as np\n",
    "import pandas as pd\n",
    "import matplotlib.pyplot as plt\n",
    "import seaborn as sns\n",
    "import nltk\n",
    "import re\n",
    "from wordcloud import WordCloud\n"
   ]
  },
  {
   "cell_type": "code",
   "execution_count": 3,
   "metadata": {
    "id": "6gCkMwI_Liok"
   },
   "outputs": [],
   "source": [
    "from tensorflow.keras.preprocessing.text import Tokenizer\n",
    "from tensorflow.keras.preprocessing.sequence import pad_sequences\n",
    "from tensorflow.keras.models import Sequential\n",
    "from tensorflow.keras.layers import Dense, Embedding, LSTM, Conv1D, MaxPool1D\n",
    "from sklearn.model_selection import train_test_split\n",
    "from sklearn.metrics import classification_report, accuracy_score"
   ]
  },
  {
   "cell_type": "code",
   "execution_count": null,
   "metadata": {
    "id": "E3whxbt8sYOB"
   },
   "outputs": [],
   "source": [
    "!pip install spacy==2.2.3\n",
    "!python -m spacy download en_core_web_sm\n",
    "!pip install beautifulsoup4==4.9.1\n",
    "!pip install textblob==0.15.3\n",
    "!pip install git+https://github.com/laxmimerit/preprocess_kgptalkie.git --upgrade --force-reinstall"
   ]
  },
  {
   "cell_type": "markdown",
   "metadata": {
    "id": "_PvwirXAzcd3"
   },
   "source": [
    "Importação do Corpus Português-Br"
   ]
  },
  {
   "cell_type": "code",
   "execution_count": 4,
   "metadata": {
    "id": "ATvrGFHtRDit"
   },
   "outputs": [],
   "source": [
    "true=[]\n",
    "for i in range(1,3601):\n",
    "  with open('/content/drive/Shareddrives/TCC/Fake.br-Corpus/full_texts/true/'+str(i)+'.txt') as t:\n",
    "    true.append(t.read())"
   ]
  },
  {
   "cell_type": "code",
   "execution_count": 5,
   "metadata": {
    "id": "tzWaRn3xcxZt"
   },
   "outputs": [],
   "source": [
    "df_true = pd.DataFrame(true, columns = ['texto'])"
   ]
  },
  {
   "cell_type": "code",
   "execution_count": 6,
   "metadata": {
    "colab": {
     "base_uri": "https://localhost:8080/"
    },
    "id": "sPO8FHKJdXi2",
    "outputId": "4934b14a-d9b2-4e59-a09f-c396955a49fd"
   },
   "outputs": [
    {
     "name": "stdout",
     "output_type": "stream",
     "text": [
      "                                                  texto\n",
      "0     ﻿O Podemos decidiu  expulsar o deputado federa...\n",
      "1     Em evento realizado nesta terça-feira para div...\n",
      "2     ﻿Após o prefeito de Manaus Arthur Virgílio (PS...\n",
      "3     ﻿Doria vai receber Zé Celso após reunião com r...\n",
      "4     Gustavo Pedreira Ferraz, que admitiu buscar ma...\n",
      "...                                                 ...\n",
      "3595  Ficou longe das notícias no fim de ano? Veja o...\n",
      "3596   A nova denúncia contra o ex-presidente Luiz I...\n",
      "3597  Como a Bahia virou uma potência mundial do mar...\n",
      "3598  Alvo da Lava Jato, Bendine tinha passagem comp...\n",
      "3599  Chefs convidados do Encontro Mundial das Cidad...\n",
      "\n",
      "[3600 rows x 1 columns]\n"
     ]
    }
   ],
   "source": [
    "print(df_true)"
   ]
  },
  {
   "cell_type": "code",
   "execution_count": 7,
   "metadata": {
    "id": "l0dKrhbYWXox"
   },
   "outputs": [],
   "source": [
    "fake=[]\n",
    "for i in range(1,3601):\n",
    "  with open('/content/drive/Shareddrives/TCC/Fake.br-Corpus/full_texts/fake/'+str(i)+'.txt') as t:\n",
    "    fake.append(t.read())"
   ]
  },
  {
   "cell_type": "code",
   "execution_count": 8,
   "metadata": {
    "id": "t7zUZYNMijn3"
   },
   "outputs": [],
   "source": [
    "df_fake = pd.DataFrame(fake, columns = ['texto'])"
   ]
  },
  {
   "cell_type": "code",
   "execution_count": 9,
   "metadata": {
    "colab": {
     "base_uri": "https://localhost:8080/"
    },
    "id": "ayAIq2lwijoL",
    "outputId": "ed9d79d9-d082-4794-e2f1-26495cc08e8f"
   },
   "outputs": [
    {
     "name": "stdout",
     "output_type": "stream",
     "text": [
      "                                                  texto\n",
      "0     Kátia Abreu diz que vai colocar sua expulsão e...\n",
      "1     Blog esquerdista dá a entender que reclamar de...\n",
      "2     Alckmin diz que por ele PSDB desembarca, mas...\n",
      "3     Cara de pau não tem limites: Zé Celso aciona M...\n",
      "4     Temer resolve o problema de Luislinda: liberd...\n",
      "...                                                 ...\n",
      "3595  Grupo de 100 mil pessoas quer criar novo país ...\n",
      "3596  Montadoras pagaram R$ 36 milhões para aprovar ...\n",
      "3597  Deputado do PT não sabia que estava sendo film...\n",
      "3598  Cunha cancelou a viagem à Itália porque poderi...\n",
      "3599  Mulher bêbada invade Planalto e diz que é \"mar...\n",
      "\n",
      "[3600 rows x 1 columns]\n"
     ]
    }
   ],
   "source": [
    "print(df_fake)"
   ]
  },
  {
   "cell_type": "markdown",
   "metadata": {
    "id": "yTzmQyyIh4D7"
   },
   "source": [
    "Preprocessing"
   ]
  },
  {
   "cell_type": "code",
   "execution_count": 10,
   "metadata": {
    "id": "5Z5i_s86h6wZ"
   },
   "outputs": [],
   "source": [
    "df_true['texto'] = df_true['texto'].apply(lambda x: str(x).lower())\n",
    "df_fake['texto'] = df_fake['texto'].apply(lambda x: str(x).lower())"
   ]
  },
  {
   "cell_type": "code",
   "execution_count": 11,
   "metadata": {
    "id": "KUR0M0onkFCW"
   },
   "outputs": [],
   "source": [
    "df_true['class'] = 1\n",
    "df_fake['class'] = 0"
   ]
  },
  {
   "cell_type": "code",
   "execution_count": 12,
   "metadata": {
    "colab": {
     "base_uri": "https://localhost:8080/"
    },
    "id": "9dSB0igzrW-E",
    "outputId": "7b95a581-0400-40a6-c70a-3e17826132fa"
   },
   "outputs": [
    {
     "data": {
      "text/plain": [
       "Index(['texto', 'class'], dtype='object')"
      ]
     },
     "execution_count": 12,
     "metadata": {},
     "output_type": "execute_result"
    }
   ],
   "source": [
    "df_true.columns"
   ]
  },
  {
   "cell_type": "code",
   "execution_count": 13,
   "metadata": {
    "id": "m1f2beigr97S"
   },
   "outputs": [],
   "source": [
    "data = df_true.append(df_fake, ignore_index=True)"
   ]
  },
  {
   "cell_type": "code",
   "execution_count": 15,
   "metadata": {
    "id": "jHQMEUKmtQ5g"
   },
   "outputs": [],
   "source": [
    "import preprocess_kgptalkie as ps"
   ]
  },
  {
   "cell_type": "code",
   "execution_count": 16,
   "metadata": {
    "colab": {
     "base_uri": "https://localhost:8080/"
    },
    "id": "8SD5uX_WtUB0",
    "outputId": "81ba4caf-a32c-4992-ad6f-4a64aea43a4a"
   },
   "outputs": [
    {
     "data": {
      "text/plain": [
       "0       o podemos decidiu expulsar o deputado federal ...\n",
       "1       em evento realizado nesta terçafeira para divu...\n",
       "2       após o prefeito de manaus arthur virgílio psdb...\n",
       "3       doria vai receber zé celso após reunião com re...\n",
       "4       gustavo pedreira ferraz que admitiu buscar mal...\n",
       "                              ...                        \n",
       "7195    grupo de 100 mil pessoas quer criar novo país ...\n",
       "7196    montadoras pagaram r 36 milhões para aprovar m...\n",
       "7197    deputado do pt não sabia que estava sendo film...\n",
       "7198    cunha cancelou a viagem à itália porque poderi...\n",
       "7199    mulher bêbada invade planalto e diz que é mari...\n",
       "Name: texto, Length: 7200, dtype: object"
      ]
     },
     "execution_count": 16,
     "metadata": {},
     "output_type": "execute_result"
    }
   ],
   "source": [
    "#Método antido de remover caracteres especiais\n",
    "#data['texto'].apply(lambda x: ps.remove_special_chars(x))"
   ]
  },
  {
   "cell_type": "code",
   "execution_count": null,
   "metadata": {
    "id": "1M36sCpJyQCX"
   },
   "outputs": [],
   "source": [
    "#Removes punctuation from every text within the DataFrame\n",
    "\n",
    "def remove_punct(raw_string):\n",
    "  '''Eliminates punctuations and numbers from raw_string.'''\n",
    "  translator = raw_string.maketrans({key:'' for key in string.punctuation.replace(\"-\", '') + \"“”‘’0123456789\"})\n",
    "\n",
    "  return raw_string.translate(translator)\n",
    "\n",
    "data['texto'] = data['texto'].apply(func=remove_punct)"
   ]
  },
  {
   "cell_type": "code",
   "execution_count": null,
   "metadata": {
    "id": "2qjmsz5ByfWK"
   },
   "outputs": [],
   "source": [
    "print(data['texto'][0])"
   ]
  },
  {
   "cell_type": "markdown",
   "metadata": {
    "id": "Vwr633Kltygi"
   },
   "source": [
    "Vectorization - Word2Vec"
   ]
  },
  {
   "cell_type": "code",
   "execution_count": 17,
   "metadata": {
    "id": "Jfh5p46bt3dY"
   },
   "outputs": [],
   "source": [
    "import gensim"
   ]
  },
  {
   "cell_type": "code",
   "execution_count": 18,
   "metadata": {
    "id": "Xq5gpMoXw6QU"
   },
   "outputs": [],
   "source": [
    "y = data['class'].values"
   ]
  },
  {
   "cell_type": "code",
   "execution_count": 19,
   "metadata": {
    "id": "U8FFFqPCxALP"
   },
   "outputs": [],
   "source": [
    "X = [d.split() for d in data['texto'].tolist()]"
   ]
  },
  {
   "cell_type": "code",
   "execution_count": 20,
   "metadata": {
    "id": "TK_uWAwEx0DW"
   },
   "outputs": [],
   "source": [
    "DIM = 100\n",
    "w2v_model = gensim.models.Word2Vec(sentences=X, size=DIM, window=10, min_count=1)"
   ]
  },
  {
   "cell_type": "code",
   "execution_count": 21,
   "metadata": {
    "colab": {
     "base_uri": "https://localhost:8080/"
    },
    "id": "4Z76l9x_yUe4",
    "outputId": "0c3ce357-6e1b-4351-eebb-b9ab8c183b69"
   },
   "outputs": [
    {
     "data": {
      "text/plain": [
       "[('jair', 0.9167202711105347),\n",
       " ('bolsonaro,', 0.8975017666816711),\n",
       " ('bolsonaro.', 0.8694536685943604),\n",
       " ('alckmin', 0.8173060417175293),\n",
       " ('ciro', 0.8033913373947144),\n",
       " ('(psc-rj)', 0.7800970077514648),\n",
       " ('presidenciável', 0.779690146446228),\n",
       " ('alckmin,', 0.7559929490089417),\n",
       " ('pré-candidato', 0.7536791563034058),\n",
       " ('dem', 0.7506973147392273)]"
      ]
     },
     "execution_count": 21,
     "metadata": {},
     "output_type": "execute_result"
    }
   ],
   "source": [
    "w2v_model.wv.most_similar('bolsonaro')"
   ]
  },
  {
   "cell_type": "code",
   "execution_count": 22,
   "metadata": {
    "id": "ip2o-hhPyUql"
   },
   "outputs": [],
   "source": [
    "tokenizer = Tokenizer()\n",
    "tokenizer.fit_on_texts(X)"
   ]
  },
  {
   "cell_type": "code",
   "execution_count": 23,
   "metadata": {
    "id": "Ld4qAE9JyUxs"
   },
   "outputs": [],
   "source": [
    "X = tokenizer.texts_to_sequences(X)"
   ]
  },
  {
   "cell_type": "code",
   "execution_count": 24,
   "metadata": {
    "id": "FJLF3ajEx9Nl"
   },
   "outputs": [],
   "source": [
    "#tokenizer.word_index - coloca as palavras em ordem de aparecimento"
   ]
  },
  {
   "cell_type": "code",
   "execution_count": 24,
   "metadata": {
    "id": "zSdj0OAb0l8m"
   },
   "outputs": [],
   "source": []
  },
  {
   "cell_type": "markdown",
   "metadata": {
    "id": "btaS96Ms0vgC"
   },
   "source": [
    "Analisando tamanho dos textos"
   ]
  },
  {
   "cell_type": "code",
   "execution_count": 25,
   "metadata": {
    "colab": {
     "base_uri": "https://localhost:8080/",
     "height": 265
    },
    "id": "ROYPvwrc0l_N",
    "outputId": "f839185b-cc0a-49ac-8d5e-a7d89cd5cd05"
   },
   "outputs": [
    {
     "data": {
      "image/png": "[encoded data removed]",
      "text/plain": [
       "<Figure size 432x288 with 1 Axes>"
      ]
     },
     "metadata": {
      "needs_background": "light"
     },
     "output_type": "display_data"
    }
   ],
   "source": [
    "plt.hist([len(x) for x in X], bins = 700)\n",
    "plt.show()"
   ]
  },
  {
   "cell_type": "code",
   "execution_count": 26,
   "metadata": {
    "colab": {
     "base_uri": "https://localhost:8080/"
    },
    "id": "gtbMY6sl0mCW",
    "outputId": "578de231-373c-4ed9-8fb8-ff1b76618214"
   },
   "outputs": [
    {
     "data": {
      "text/plain": [
       "344"
      ]
     },
     "execution_count": 26,
     "metadata": {},
     "output_type": "execute_result"
    }
   ],
   "source": [
    "#verificando quantas notícias tem mais do que o número de palavras especificado\n",
    "nos = np.array([len(x) for x in X])\n",
    "len(nos[nos>2000])"
   ]
  },
  {
   "cell_type": "code",
   "execution_count": 27,
   "metadata": {
    "id": "cHO1Xv0S0mF9"
   },
   "outputs": [],
   "source": [
    "maxlen = 2000\n",
    "X = pad_sequences(X, maxlen=maxlen)"
   ]
  },
  {
   "cell_type": "code",
   "execution_count": 28,
   "metadata": {
    "id": "SO8KXzbh1-ih"
   },
   "outputs": [],
   "source": [
    "vocab_size = len(tokenizer.word_index) + 1 #verificar novamente em 1h09 o pq do \"+1\"\n",
    "vocab = tokenizer.word_index"
   ]
  },
  {
   "cell_type": "code",
   "execution_count": 29,
   "metadata": {
    "id": "mdeGgpVS1-lY"
   },
   "outputs": [],
   "source": [
    "def get_weight_matrix(model):\n",
    "  weight_matrix = np.zeros((vocab_size, DIM))\n",
    "\n",
    "  for word, i in vocab.items():\n",
    "    weight_matrix[i] = model.wv[word]\n",
    "\n",
    "  return weight_matrix"
   ]
  },
  {
   "cell_type": "code",
   "execution_count": 30,
   "metadata": {
    "id": "5oHrKxa-1-op"
   },
   "outputs": [],
   "source": [
    "embedding_vectors = get_weight_matrix(w2v_model)"
   ]
  },
  {
   "cell_type": "code",
   "execution_count": 30,
   "metadata": {
    "id": "JAQ_dJ2w4G6b"
   },
   "outputs": [],
   "source": []
  },
  {
   "cell_type": "markdown",
   "metadata": {
    "id": "Yo32seFa4TiA"
   },
   "source": [
    "Criando o modelo de rede neural"
   ]
  },
  {
   "cell_type": "code",
   "execution_count": 31,
   "metadata": {
    "id": "bXM2EBQ-4G9O"
   },
   "outputs": [],
   "source": [
    "#colocar trainable = True pra ver se melhora o resultado se a ML ficar retrinando\n",
    "model = Sequential()\n",
    "model.add(Embedding(vocab_size, output_dim=DIM, weights = [embedding_vectors], input_length=maxlen, trainable=False))\n",
    "model.add(LSTM(units=128))\n",
    "model.add(Dense(1, activation='sigmoid'))\n",
    "model.compile(optimizer='adam', loss='binary_crossentropy', metrics=['acc'])"
   ]
  },
  {
   "cell_type": "code",
   "execution_count": 32,
   "metadata": {
    "colab": {
     "base_uri": "https://localhost:8080/"
    },
    "id": "aCkCNT5i4HAp",
    "outputId": "2a17abb9-b27f-4162-e1c4-be6e97282819"
   },
   "outputs": [
    {
     "name": "stdout",
     "output_type": "stream",
     "text": [
      "Model: \"sequential\"\n",
      "_________________________________________________________________\n",
      " Layer (type)                Output Shape              Param #   \n",
      "=================================================================\n",
      " embedding (Embedding)       (None, 2000, 100)         20785600  \n",
      "                                                                 \n",
      " lstm (LSTM)                 (None, 128)               117248    \n",
      "                                                                 \n",
      " dense (Dense)               (None, 1)                 129       \n",
      "                                                                 \n",
      "=================================================================\n",
      "Total params: 20,902,977\n",
      "Trainable params: 117,377\n",
      "Non-trainable params: 20,785,600\n",
      "_________________________________________________________________\n"
     ]
    }
   ],
   "source": [
    "model.summary()"
   ]
  },
  {
   "cell_type": "markdown",
   "metadata": {
    "id": "Qmxxbkd35_gH"
   },
   "source": [
    "Treinando o modelo"
   ]
  },
  {
   "cell_type": "code",
   "execution_count": 33,
   "metadata": {
    "id": "j9VOEsSa3ldv"
   },
   "outputs": [],
   "source": [
    "X_train, X_test, y_train, y_test = train_test_split(X,y)"
   ]
  },
  {
   "cell_type": "code",
   "execution_count": 43,
   "metadata": {
    "colab": {
     "base_uri": "https://localhost:8080/"
    },
    "id": "O24NC1HG6D-J",
    "outputId": "864e6dbd-999f-443d-d111-110a404d730e"
   },
   "outputs": [
    {
     "name": "stdout",
     "output_type": "stream",
     "text": [
      "Epoch 1/6\n",
      "152/152 [==============================] - 311s 2s/step - loss: 0.5420 - acc: 0.7290 - val_loss: 0.3413 - val_acc: 0.8815\n",
      "Epoch 2/6\n",
      "152/152 [==============================] - 301s 2s/step - loss: 0.3362 - acc: 0.8521 - val_loss: 0.1256 - val_acc: 0.9630\n",
      "Epoch 3/6\n",
      "152/152 [==============================] - 308s 2s/step - loss: 0.1148 - acc: 0.9607 - val_loss: 0.1147 - val_acc: 0.9537\n",
      "Epoch 4/6\n",
      "152/152 [==============================] - 302s 2s/step - loss: 0.0925 - acc: 0.9693 - val_loss: 0.1130 - val_acc: 0.9630\n",
      "Epoch 5/6\n",
      "152/152 [==============================] - 301s 2s/step - loss: 0.0821 - acc: 0.9722 - val_loss: 0.1057 - val_acc: 0.9611\n",
      "Epoch 6/6\n",
      "152/152 [==============================] - 301s 2s/step - loss: 0.0746 - acc: 0.9733 - val_loss: 0.1069 - val_acc: 0.9611\n"
     ]
    },
    {
     "data": {
      "text/plain": [
       "<keras.callbacks.History at 0x7fb337d103d0>"
      ]
     },
     "execution_count": 43,
     "metadata": {},
     "output_type": "execute_result"
    }
   ],
   "source": [
    "model.fit(X_train, y_train, validation_split=0.1, epochs=6)"
   ]
  },
  {
   "cell_type": "code",
   "execution_count": 44,
   "metadata": {
    "id": "TJgFUize6ELP"
   },
   "outputs": [],
   "source": [
    "y_pred = (model.predict(X_test) >=0.5).astype(int)"
   ]
  },
  {
   "cell_type": "code",
   "execution_count": 45,
   "metadata": {
    "colab": {
     "base_uri": "https://localhost:8080/"
    },
    "id": "5b7Tc-ZZ1-sE",
    "outputId": "1b5a9938-a878-4feb-8a37-821878731655"
   },
   "outputs": [
    {
     "data": {
      "text/plain": [
       "0.9644444444444444"
      ]
     },
     "execution_count": 45,
     "metadata": {},
     "output_type": "execute_result"
    }
   ],
   "source": [
    "accuracy_score(y_test, y_pred)"
   ]
  },
  {
   "cell_type": "markdown",
   "metadata": {
    "id": "ueec0DsfdLR8"
   },
   "source": [
    "Testando o modelo com novas notícias"
   ]
  },
  {
   "cell_type": "code",
   "execution_count": 114,
   "metadata": {
    "colab": {
     "base_uri": "https://localhost:8080/",
     "height": 244
    },
    "id": "foWm9clCfn9C",
    "outputId": "a97f4174-0dc1-419f-b6d8-a0d7af10be4b"
   },
   "outputs": [
    {
     "data": {
      "application/vnd.google.colaboratory.intrinsic+json": {
       "type": "string"
      },
      "text/plain": [
       "'gustavo pedreira ferraz, que admitiu buscar malas de dinheiro para geddel vieira lima, afirmou à pf ter trabalhado na campanha presidencial de 2014 para o então candidato aécio neves (psdb). ex-diretor da defesa civil de salvador, bahia, ele resolveu colaborar com investigações sobre o bunker dos r$ 51 milhões. as digitais de ferraz foram encontradas nas cédulas de r$ 50 e r$ 100 que rechearam as malas e caixas de dinheiro encontradas na maior apreensão da história da pf. por meio de sua assessoria, o senador nega que gustavo tenha trabalhado em sua campanha.\\nconselheiro de ética do pmdb na bahia, ferraz admitiu que, em 2012, buscou uma mala de dinheiro para em um hotel em são paulo para o ex-ministro. ele afirma que ainda voltou a salvador em voo fretado e foi levado por um motorista do pmdb até a casa de geddel, aonde o dinheiro da mala foi contado. ferraz se diz traído já que esperava que o ex-ministro repassasse o montante para as campanhas de candidatos baianos às prefeituras e, na verdade, foram parar no bunker.\\nele afirma à pf que também colaborou para a campanha de geddel ao governo estadual, em 2010. à época das eleições de 2012, ele alega ter sido assessor de bancada do pmdb na assembleia legislativa do estado da bahia.\\nferraz assumiu em 2013, a superintendência da indústria e comércio de salvador, função que exerceu até o fim de 2014.\\nnaquele ano, ele diz ter feito campanha política para geddel, então candidato ao senado, paulo souto, candidato ao governo do estado da bahia, e aécio neves, candidato a presidente.\\nferraz foi preso na operação tesouro perdido, após serem encontradas suas digitais nas notas do bunker dos r$ 51 milhões. ele pagou fiança para deixar a cadeia. o valor, estipulado pelo supremo, foi de 50 salários mínimos.\\ncom a palavra, aécio neves\\n“o sr gustavo ferraz não trabalhou na campanha presidencial do psdb em 2014”.\\ncom a palavra, souto\\na reportagem não localizou paulo souto. o espaço está aberto para manifestação.'"
      ]
     },
     "execution_count": 114,
     "metadata": {},
     "output_type": "execute_result"
    }
   ],
   "source": [
    "df_true['texto'][4]"
   ]
  },
  {
   "cell_type": "markdown",
   "metadata": {
    "id": "YE5qSAJwve4d"
   },
   "source": [
    "Testando notícia True dentro do Corpus"
   ]
  },
  {
   "cell_type": "code",
   "execution_count": 38,
   "metadata": {
    "id": "OdYoQAylfVza"
   },
   "outputs": [],
   "source": [
    "#sentence_t = df_true['texto'][0]"
   ]
  },
  {
   "cell_type": "code",
   "execution_count": 140,
   "metadata": {
    "id": "quXxYd1X7gvV"
   },
   "outputs": [],
   "source": [
    "sentence_t = [\"em evento realizado nesta terça-feira para divulgar o jogo das estrelasum amistoso beneficente que será realizado nesta quarta, no estádio do maracanã, no rio de janeiro, zico foi questionado sobre o ano do flamengo. e o ídolo do clube não poupou críticas à montagem do elenco.\\n\\n minha visão é que alguns investimentos que foram feito não surtiram efeito dentro do campo. acho que é uma equipe supervalorizada, falei isso muito tempo antes, reclamou. não é fácil você trazer muita gente, ainda mais no meio de competição, com mudanças constantes, lesões. a coisa não funcionou.\\n\\nna avaliação de zico, faltou um trabalho melhor de avaliação dos jogadores contratados, especialmente os que vieram do futebol exterior. o futebol é isso mesmo, precisa seguir em frente e analisar quando vocês faz os investimentos, principalmente quando você vai atrás de jogadores que estão no exterior. é preciso saber como eles estão, o rendimento, questões de saúde, alertou. e infelizmente não foi isso que aconteceu com alguns jogadores que o flamengo investiu.\\n\\nzico avaliou também que a diretoria precisa se preocupar em trazer jogadores identificados com o clube. na reta final da temporada, muito se criticou a suposta falta de garra de alguns atletas. precisa saber também o que representa a camisa do flamengo, a história do clube, disse. é preciso ser bem entendido que o flamengo é um clube muito diferente dos outros.\\n\\no resultado, assim, segundo ele, é que o ano termina de maneira frustrante ao torcedor. é lógico que o objetivo principal era ter uma boa atuação na libertadores, o que não aconteceu. consequentemente conseguiu chegar na sul-americana, chegou a duas finais. mas ficou um gostinho amargo de não ter conquistado uma competição internacional\"]"
   ]
  },
  {
   "cell_type": "code",
   "execution_count": 144,
   "metadata": {
    "id": "6UBNaMfI7x8T"
   },
   "outputs": [],
   "source": [
    "sentence_t = [\"lógico que pelo investimento era esperado que isto acontecesse\"]"
   ]
  },
  {
   "cell_type": "code",
   "execution_count": 154,
   "metadata": {
    "colab": {
     "base_uri": "https://localhost:8080/"
    },
    "id": "8_xCyYkj2wSr",
    "outputId": "48eb5d2b-77f2-4703-9d46-1dbf1f4285cc"
   },
   "outputs": [
    {
     "data": {
      "text/plain": [
       "['as digitais de ferraz foram encontradas nas cédulas de r$ 50 e r$ 100 que rechearam as malas e caixas de dinheiro encontradas na maior apreensão da história da pf. por meio de sua assessoria, o senador nega que gustavo tenha trabalhado em sua campanha.\\nconselheiro de ética do pmdb na bahia, ferraz admitiu que, em 2012, buscou uma mala de dinheiro para em um hotel em são paulo para o ex-ministro. ele afirma que ainda voltou a salvador em voo fretado e foi levado por um motorista do pmdb até a casa de geddel, aonde o dinheiro da mala foi contado. ferraz se diz traído já que esperava que o ex-ministro repassasse o montante para as campanhas de candidatos baianos às prefeituras e, na verdade, foram parar no bunker.\\nele afirma à pf que também colaborou para a campanha de geddel ao governo estadual, em 2010. à época das eleições de 2012, ele alega ter sido assessor de bancada do pmdb na assembleia legislativa do estado da bahia.\\nferraz assumiu em 2013, a superintendência da indústria e comércio de salvador, função que exerceu até o fim de 2014.\\nnaquele ano, ele diz ter feito campanha política para geddel, então candidato ao senado, paulo souto, candidato ao governo do estado da bahia, e aécio neves, candidato a presidente.\\nferraz foi preso na operação tesouro perdido, após serem encontradas suas digitais nas notas do bunker dos r$ 51 milhões. ele pagou fiança para deixar a cadeia. o valor, estipulado pelo supremo, foi de 50 salários mínimos.\\ncom a palavra, aécio neves\\n“o sr gustavo ferraz não trabalhou na campanha presidencial do psdb em 2014”.\\ncom a palavra, souto\\na reportagem não localizou paulo souto. o espaço está aberto para manifestação. gustavo pedreira ferraz, que admitiu buscar malas de dinheiro para geddel vieira lima, afirmou à pf ter trabalhado na campanha presidencial de 2014 para o então candidato aécio neves (psdb). ex-diretor da defesa civil de salvador, bahia, ele resolveu colaborar com investigações sobre o bunker dos r$ 51 milhões. ']"
      ]
     },
     "execution_count": 154,
     "metadata": {},
     "output_type": "execute_result"
    }
   ],
   "source": [
    "sentence_t = [\"as digitais de ferraz foram encontradas nas cédulas de r$ 50 e r$ 100 que rechearam as malas e caixas de dinheiro encontradas na maior apreensão da história da pf. por meio de sua assessoria, o senador nega que gustavo tenha trabalhado em sua campanha.\\nconselheiro de ética do pmdb na bahia, ferraz admitiu que, em 2012, buscou uma mala de dinheiro para em um hotel em são paulo para o ex-ministro. ele afirma que ainda voltou a salvador em voo fretado e foi levado por um motorista do pmdb até a casa de geddel, aonde o dinheiro da mala foi contado. ferraz se diz traído já que esperava que o ex-ministro repassasse o montante para as campanhas de candidatos baianos às prefeituras e, na verdade, foram parar no bunker.\\nele afirma à pf que também colaborou para a campanha de geddel ao governo estadual, em 2010. à época das eleições de 2012, ele alega ter sido assessor de bancada do pmdb na assembleia legislativa do estado da bahia.\\nferraz assumiu em 2013, a superintendência da indústria e comércio de salvador, função que exerceu até o fim de 2014.\\nnaquele ano, ele diz ter feito campanha política para geddel, então candidato ao senado, paulo souto, candidato ao governo do estado da bahia, e aécio neves, candidato a presidente.\\nferraz foi preso na operação tesouro perdido, após serem encontradas suas digitais nas notas do bunker dos r$ 51 milhões. ele pagou fiança para deixar a cadeia. o valor, estipulado pelo supremo, foi de 50 salários mínimos.\\ncom a palavra, aécio neves\\n“o sr gustavo ferraz não trabalhou na campanha presidencial do psdb em 2014”.\\ncom a palavra, souto\\na reportagem não localizou paulo souto. o espaço está aberto para manifestação. gustavo pedreira ferraz, que admitiu buscar malas de dinheiro para geddel vieira lima, afirmou à pf ter trabalhado na campanha presidencial de 2014 para o então candidato aécio neves (psdb). ex-diretor da defesa civil de salvador, bahia, ele resolveu colaborar com investigações sobre o bunker dos r$ 51 milhões. \"]"
   ]
  },
  {
   "cell_type": "code",
   "execution_count": null,
   "metadata": {
    "id": "e9KDpHD1XJ4J"
   },
   "outputs": [],
   "source": [
    "sequences_t = tokenizer.texts_to_sequences(sentence_t)\n",
    "padded_t = pad_sequences(sequences_t, maxlen=maxlen)"
   ]
  },
  {
   "cell_type": "code",
   "execution_count": 153,
   "metadata": {
    "colab": {
     "base_uri": "https://localhost:8080/"
    },
    "id": "0dDKGPQCu3PV",
    "outputId": "a0175020-e303-4e7b-82b1-4f1fcd11c817"
   },
   "outputs": [
    {
     "data": {
      "text/plain": [
       "array([[0.3278787]], dtype=float32)"
      ]
     },
     "execution_count": 153,
     "metadata": {},
     "output_type": "execute_result"
    }
   ],
   "source": [
    "model.predict(padded_t)"
   ]
  },
  {
   "cell_type": "code",
   "execution_count": 147,
   "metadata": {
    "colab": {
     "base_uri": "https://localhost:8080/"
    },
    "id": "6t4pDfwWX0Yg",
    "outputId": "05296761-2c62-4ff2-f03b-f43add097288"
   },
   "outputs": [
    {
     "data": {
      "text/plain": [
       "array([[0]])"
      ]
     },
     "execution_count": 147,
     "metadata": {},
     "output_type": "execute_result"
    }
   ],
   "source": [
    "(model.predict(padded_t) >=0.5).astype(int)"
   ]
  },
  {
   "cell_type": "markdown",
   "metadata": {
    "id": "hi1PWQZUwyam"
   },
   "source": [
    "Testando notícia True fora do Corpus"
   ]
  },
  {
   "cell_type": "code",
   "execution_count": 103,
   "metadata": {
    "id": "n-tPNwyRxGUR"
   },
   "outputs": [],
   "source": [
    "sentence_t = [\"A vantagem de Lula sobre o presidente caiu pontos na última pesquisa de intenção de voto Mesmo com toda a mídia negativa de quem é vidraça Bolsonaro consegue se manter em crescimento O ex-presidente Lula ainda não conseguiu organizar sua campanha nem fazer coligações que o garanta nos estados Bolsonaro foi beneficiado pela janela partidária onde o PL seu partido saiu como o maior do país e o Centrão que o apóia como a grande base do Congresso\"]"
   ]
  },
  {
   "cell_type": "code",
   "execution_count": 106,
   "metadata": {
    "id": "m4U0jINq0fsE"
   },
   "outputs": [],
   "source": [
    "sentence_t = [\"O médico Glauto Tuquarre Melo que morreu aos 49 anos por suspeita de infarto durante um voo que o levaria para a lua de mel nas Maldivas na madrugada de ontem era querido pelos colegas de trabalho cursava o primeiro ano do doutorado na UFPI e era pesquisador da depressão em pacientes com câncer Familiares seguem aguardando o traslado do corpo do profissional de saúde de Doha no Catar para o Brasil que deve levar ao menos três dias para ser liberado antes de seguir para o território brasileiro e ainda não divulgou informações sobre o velório\"]"
   ]
  },
  {
   "cell_type": "code",
   "execution_count": 109,
   "metadata": {
    "id": "zH2jfYQz1TAW"
   },
   "outputs": [],
   "source": [
    "sentence_t = [\"Já se passaram quase dias desde a substituição do Cartão Nutrir Emergencial que beneficia mil famílias carentes de Campinas com por mês e mil delas ainda não retiraram o dispositivo O balanço contabilizado até esta segunda-feira pela prefeitura representa uma quantia de de créditos de abril represados O programa Nutrir Emergencial foi criado no início da pandemia em para ajudar as famílias mais vulneráveis da metrópole a comprar itens básicos durante o período de crise financeira A Secretaria Municipal de Assistência Social Pessoa com Deficiência e Direitos Humanos alertou que o benefício tem um prazo máximo de três meses para ser utilizado pelos moradores sob risco do valor voltar para a prefeitura Neste caso o valor é usado em créditos futuros e a família que não manifestou interesse pelo benefício pode ser desligada do programa O crédito é bloqueado até darmos baixa no cartão disse a Pasta Em nota a prefeitura informou que está mantendo esforços para localizar as famílias com contatos por SMS nos telefones celulares do cadastro A maior parte dos cartões foi entregue na Estação Cultura no fim de março e o restante foi direcionado para pontos descentralizados da metrópole\"]"
   ]
  },
  {
   "cell_type": "code",
   "execution_count": 110,
   "metadata": {
    "id": "agummplzxGUS"
   },
   "outputs": [],
   "source": [
    "sequences_t = tokenizer.texts_to_sequences(sentence_t)\n",
    "padded_t = pad_sequences(sequences_t, maxlen=maxlen)"
   ]
  },
  {
   "cell_type": "code",
   "execution_count": 111,
   "metadata": {
    "colab": {
     "base_uri": "https://localhost:8080/"
    },
    "id": "ywBHCKDMxGUS",
    "outputId": "ce33be51-2920-434a-9fb2-eee307934f78"
   },
   "outputs": [
    {
     "data": {
      "text/plain": [
       "array([[0.01120654]], dtype=float32)"
      ]
     },
     "execution_count": 111,
     "metadata": {},
     "output_type": "execute_result"
    }
   ],
   "source": [
    "model.predict(padded_t)"
   ]
  },
  {
   "cell_type": "code",
   "execution_count": 70,
   "metadata": {
    "colab": {
     "base_uri": "https://localhost:8080/"
    },
    "id": "6oDd-PXTxGUT",
    "outputId": "7a13ce17-88b5-47c4-c845-8852f02fa8ed"
   },
   "outputs": [
    {
     "data": {
      "text/plain": [
       "array([[0]])"
      ]
     },
     "execution_count": 70,
     "metadata": {},
     "output_type": "execute_result"
    }
   ],
   "source": [
    "(model.predict(padded_t) >=0.5).astype(int)"
   ]
  },
  {
   "cell_type": "markdown",
   "metadata": {
    "id": "yGTVzEDuvrnT"
   },
   "source": [
    "Testando notícias falsas"
   ]
  },
  {
   "cell_type": "code",
   "execution_count": 54,
   "metadata": {
    "colab": {
     "base_uri": "https://localhost:8080/"
    },
    "id": "nNCvLBdMtTXd",
    "outputId": "c6e89520-c1cf-4e20-aafd-1a9d7935cb4c"
   },
   "outputs": [
    {
     "data": {
      "text/plain": [
       "array([[   0,    0,    0, ...,   17,  731, 3431]], dtype=int32)"
      ]
     },
     "execution_count": 54,
     "metadata": {},
     "output_type": "execute_result"
    }
   ],
   "source": [
    "from pandas._libs.algos import pad\n",
    "x = [\"Bolsonaro mostra quem manda e sanciona lei que todos os brasileiros queriam\"]\n",
    "x = tokenizer.texts_to_sequences(x)\n",
    "pad_sequences(x, maxlen=maxlen)"
   ]
  },
  {
   "cell_type": "code",
   "execution_count": 59,
   "metadata": {
    "id": "mUx0HJkVTbSy"
   },
   "outputs": [],
   "source": [
    "sentence_f = [\"Bolsonaro mostra quem manda e sanciona lei que todos os brasileiros queriam. Agora todo cidadão de bem pode comprar sua arma favorita e ter em casa pistolas, metralhadoras e fuzis. O projeto de lei já foi aprovado pela câmara e pelo senado e foi sem maiores problemas\"]"
   ]
  },
  {
   "cell_type": "code",
   "execution_count": 60,
   "metadata": {
    "id": "M-u6mm6Hv6xj"
   },
   "outputs": [],
   "source": [
    "sequences_f = tokenizer.texts_to_sequences(sentence_f)\n",
    "padded_f = pad_sequences(sequences_f, maxlen=maxlen)"
   ]
  },
  {
   "cell_type": "code",
   "execution_count": 62,
   "metadata": {
    "colab": {
     "base_uri": "https://localhost:8080/"
    },
    "id": "29w-ik1VwW3m",
    "outputId": "9933f3f6-0f5b-49c3-eed4-160d2fb5d5b2"
   },
   "outputs": [
    {
     "data": {
      "text/plain": [
       "array([[0.0307194]], dtype=float32)"
      ]
     },
     "execution_count": 62,
     "metadata": {},
     "output_type": "execute_result"
    }
   ],
   "source": [
    "model.predict(padded_f)"
   ]
  },
  {
   "cell_type": "code",
   "execution_count": 63,
   "metadata": {
    "colab": {
     "base_uri": "https://localhost:8080/"
    },
    "id": "jsmEG-TIwsMz",
    "outputId": "2fe90dac-ca23-4b56-af9c-dd12b2124a42"
   },
   "outputs": [
    {
     "data": {
      "text/plain": [
       "array([[0]])"
      ]
     },
     "execution_count": 63,
     "metadata": {},
     "output_type": "execute_result"
    }
   ],
   "source": [
    "(model.predict(padded_f) >=0.5).astype(int)"
   ]
  }
 ],
 "metadata": {
  "colab": {
   "name": "Testes de notícias - Rede Neural - Fake News.ipynb",
   "provenance": []
  },
  "kernelspec": {
   "display_name": "Python 3 (ipykernel)",
   "language": "python",
   "name": "python3"
  },
  "language_info": {
   "codemirror_mode": {
    "name": "ipython",
    "version": 3
   },
   "file_extension": ".py",
   "mimetype": "text/x-python",
   "name": "python",
   "nbconvert_exporter": "python",
   "pygments_lexer": "ipython3",
   "version": "3.9.7"
  }
 },
 "nbformat": 4,
 "nbformat_minor": 1
}
