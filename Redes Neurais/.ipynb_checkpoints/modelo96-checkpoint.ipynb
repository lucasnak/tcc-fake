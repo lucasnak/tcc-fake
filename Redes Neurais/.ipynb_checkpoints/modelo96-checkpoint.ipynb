{
 "cells": [
  {
   "cell_type": "markdown",
   "metadata": {},
   "source": [
    "### Importação de bibliotecas"
   ]
  },
  {
   "cell_type": "code",
   "execution_count": 69,
   "metadata": {
    "id": "k-U3LqJiH1nX"
   },
   "outputs": [],
   "source": [
    "import numpy as np\n",
    "import pandas as pd\n",
    "import matplotlib.pyplot as plt\n",
    "import seaborn as sns\n",
    "import nltk\n",
    "import re\n",
    "import string\n",
    "import json"
   ]
  },
  {
   "cell_type": "code",
   "execution_count": 4,
   "metadata": {
    "id": "6gCkMwI_Liok"
   },
   "outputs": [],
   "source": [
    "from tensorflow.keras.preprocessing.text import Tokenizer\n",
    "from tensorflow.keras.preprocessing.sequence import pad_sequences\n",
    "from tensorflow.keras.models import Sequential\n",
    "from tensorflow.keras.layers import Dense, Embedding, LSTM, Conv1D, MaxPool1D\n",
    "from sklearn.model_selection import train_test_split\n",
    "from sklearn.metrics import classification_report, accuracy_score"
   ]
  },
  {
   "cell_type": "code",
   "execution_count": 5,
   "metadata": {
    "scrolled": true
   },
   "outputs": [
    {
     "name": "stdout",
     "output_type": "stream",
     "text": [
      "Requirement already satisfied: spacy in c:\\users\\vitor\\anaconda3\\lib\\site-packages (3.2.4)\n",
      "Requirement already satisfied: thinc<8.1.0,>=8.0.12 in c:\\users\\vitor\\anaconda3\\lib\\site-packages (from spacy) (8.0.15)\n",
      "Requirement already satisfied: preshed<3.1.0,>=3.0.2 in c:\\users\\vitor\\anaconda3\\lib\\site-packages (from spacy) (3.0.6)\n",
      "Requirement already satisfied: srsly<3.0.0,>=2.4.1 in c:\\users\\vitor\\anaconda3\\lib\\site-packages (from spacy) (2.4.3)\n",
      "Requirement already satisfied: catalogue<2.1.0,>=2.0.6 in c:\\users\\vitor\\anaconda3\\lib\\site-packages (from spacy) (2.0.7)\n",
      "Requirement already satisfied: jinja2 in c:\\users\\vitor\\anaconda3\\lib\\site-packages (from spacy) (2.11.3)\n",
      "Requirement already satisfied: typer<0.5.0,>=0.3.0 in c:\\users\\vitor\\anaconda3\\lib\\site-packages (from spacy) (0.4.1)\n",
      "Requirement already satisfied: wasabi<1.1.0,>=0.8.1 in c:\\users\\vitor\\anaconda3\\lib\\site-packages (from spacy) (0.9.1)\n",
      "Requirement already satisfied: numpy>=1.15.0 in c:\\users\\vitor\\anaconda3\\lib\\site-packages (from spacy) (1.20.3)\n",
      "Requirement already satisfied: blis<0.8.0,>=0.4.0 in c:\\users\\vitor\\anaconda3\\lib\\site-packages (from spacy) (0.7.7)\n",
      "Requirement already satisfied: murmurhash<1.1.0,>=0.28.0 in c:\\users\\vitor\\anaconda3\\lib\\site-packages (from spacy) (1.0.7)\n",
      "Requirement already satisfied: spacy-legacy<3.1.0,>=3.0.8 in c:\\users\\vitor\\anaconda3\\lib\\site-packages (from spacy) (3.0.9)\n",
      "Requirement already satisfied: langcodes<4.0.0,>=3.2.0 in c:\\users\\vitor\\anaconda3\\lib\\site-packages (from spacy) (3.3.0)\n",
      "Requirement already satisfied: cymem<2.1.0,>=2.0.2 in c:\\users\\vitor\\anaconda3\\lib\\site-packages (from spacy) (2.0.6)\n",
      "Requirement already satisfied: pydantic!=1.8,!=1.8.1,<1.9.0,>=1.7.4 in c:\\users\\vitor\\anaconda3\\lib\\site-packages (from spacy) (1.8.2)\n",
      "Requirement already satisfied: setuptools in c:\\users\\vitor\\anaconda3\\lib\\site-packages (from spacy) (58.0.4)\n",
      "Requirement already satisfied: tqdm<5.0.0,>=4.38.0 in c:\\users\\vitor\\anaconda3\\lib\\site-packages (from spacy) (4.62.3)\n",
      "Requirement already satisfied: packaging>=20.0 in c:\\users\\vitor\\anaconda3\\lib\\site-packages (from spacy) (21.0)\n",
      "Requirement already satisfied: requests<3.0.0,>=2.13.0 in c:\\users\\vitor\\anaconda3\\lib\\site-packages (from spacy) (2.26.0)\n",
      "Requirement already satisfied: spacy-loggers<2.0.0,>=1.0.0 in c:\\users\\vitor\\anaconda3\\lib\\site-packages (from spacy) (1.0.2)\n",
      "Requirement already satisfied: click<8.1.0 in c:\\users\\vitor\\anaconda3\\lib\\site-packages (from spacy) (8.0.3)\n",
      "Requirement already satisfied: pathy>=0.3.5 in c:\\users\\vitor\\anaconda3\\lib\\site-packages (from spacy) (0.6.1)\n",
      "Requirement already satisfied: colorama in c:\\users\\vitor\\anaconda3\\lib\\site-packages (from click<8.1.0->spacy) (0.4.4)\n",
      "Requirement already satisfied: pyparsing>=2.0.2 in c:\\users\\vitor\\anaconda3\\lib\\site-packages (from packaging>=20.0->spacy) (3.0.4)\n",
      "Requirement already satisfied: smart-open<6.0.0,>=5.0.0 in c:\\users\\vitor\\anaconda3\\lib\\site-packages (from pathy>=0.3.5->spacy) (5.2.1)\n",
      "Requirement already satisfied: typing-extensions>=3.7.4.3 in c:\\users\\vitor\\anaconda3\\lib\\site-packages (from pydantic!=1.8,!=1.8.1,<1.9.0,>=1.7.4->spacy) (3.10.0.2)\n",
      "Requirement already satisfied: certifi>=2017.4.17 in c:\\users\\vitor\\anaconda3\\lib\\site-packages (from requests<3.0.0,>=2.13.0->spacy) (2021.10.8)\n",
      "Requirement already satisfied: urllib3<1.27,>=1.21.1 in c:\\users\\vitor\\anaconda3\\lib\\site-packages (from requests<3.0.0,>=2.13.0->spacy) (1.26.7)\n",
      "Requirement already satisfied: charset-normalizer~=2.0.0 in c:\\users\\vitor\\anaconda3\\lib\\site-packages (from requests<3.0.0,>=2.13.0->spacy) (2.0.4)\n",
      "Requirement already satisfied: idna<4,>=2.5 in c:\\users\\vitor\\anaconda3\\lib\\site-packages (from requests<3.0.0,>=2.13.0->spacy) (3.2)\n",
      "Requirement already satisfied: MarkupSafe>=0.23 in c:\\users\\vitor\\anaconda3\\lib\\site-packages (from jinja2->spacy) (1.1.1)\n",
      "Collecting en-core-web-sm==3.2.0\n",
      "  Downloading https://github.com/explosion/spacy-models/releases/download/en_core_web_sm-3.2.0/en_core_web_sm-3.2.0-py3-none-any.whl (13.9 MB)\n",
      "Requirement already satisfied: spacy<3.3.0,>=3.2.0 in c:\\users\\vitor\\anaconda3\\lib\\site-packages (from en-core-web-sm==3.2.0) (3.2.4)\n",
      "Requirement already satisfied: thinc<8.1.0,>=8.0.12 in c:\\users\\vitor\\anaconda3\\lib\\site-packages (from spacy<3.3.0,>=3.2.0->en-core-web-sm==3.2.0) (8.0.15)\n",
      "Requirement already satisfied: wasabi<1.1.0,>=0.8.1 in c:\\users\\vitor\\anaconda3\\lib\\site-packages (from spacy<3.3.0,>=3.2.0->en-core-web-sm==3.2.0) (0.9.1)\n",
      "Requirement already satisfied: click<8.1.0 in c:\\users\\vitor\\anaconda3\\lib\\site-packages (from spacy<3.3.0,>=3.2.0->en-core-web-sm==3.2.0) (8.0.3)\n",
      "Requirement already satisfied: packaging>=20.0 in c:\\users\\vitor\\anaconda3\\lib\\site-packages (from spacy<3.3.0,>=3.2.0->en-core-web-sm==3.2.0) (21.0)\n",
      "Requirement already satisfied: cymem<2.1.0,>=2.0.2 in c:\\users\\vitor\\anaconda3\\lib\\site-packages (from spacy<3.3.0,>=3.2.0->en-core-web-sm==3.2.0) (2.0.6)\n",
      "Requirement already satisfied: srsly<3.0.0,>=2.4.1 in c:\\users\\vitor\\anaconda3\\lib\\site-packages (from spacy<3.3.0,>=3.2.0->en-core-web-sm==3.2.0) (2.4.3)"
     ]
    },
    {
     "name": "stderr",
     "output_type": "stream",
     "text": [
      "2022-04-28 12:42:53.194236: W tensorflow/stream_executor/platform/default/dso_loader.cc:64] Could not load dynamic library 'cudart64_110.dll'; dlerror: cudart64_110.dll not found\n",
      "2022-04-28 12:42:53.194297: I tensorflow/stream_executor/cuda/cudart_stub.cc:29] Ignore above cudart dlerror if you do not have a GPU set up on your machine.\n"
     ]
    },
    {
     "name": "stdout",
     "output_type": "stream",
     "text": [
      "\n",
      "Requirement already satisfied: tqdm<5.0.0,>=4.38.0 in c:\\users\\vitor\\anaconda3\\lib\\site-packages (from spacy<3.3.0,>=3.2.0->en-core-web-sm==3.2.0) (4.62.3)\n",
      "Requirement already satisfied: numpy>=1.15.0 in c:\\users\\vitor\\anaconda3\\lib\\site-packages (from spacy<3.3.0,>=3.2.0->en-core-web-sm==3.2.0) (1.20.3)\n",
      "Requirement already satisfied: pydantic!=1.8,!=1.8.1,<1.9.0,>=1.7.4 in c:\\users\\vitor\\anaconda3\\lib\\site-packages (from spacy<3.3.0,>=3.2.0->en-core-web-sm==3.2.0) (1.8.2)\n",
      "Requirement already satisfied: murmurhash<1.1.0,>=0.28.0 in c:\\users\\vitor\\anaconda3\\lib\\site-packages (from spacy<3.3.0,>=3.2.0->en-core-web-sm==3.2.0) (1.0.7)\n",
      "Requirement already satisfied: typer<0.5.0,>=0.3.0 in c:\\users\\vitor\\anaconda3\\lib\\site-packages (from spacy<3.3.0,>=3.2.0->en-core-web-sm==3.2.0) (0.4.1)\n",
      "Requirement already satisfied: catalogue<2.1.0,>=2.0.6 in c:\\users\\vitor\\anaconda3\\lib\\site-packages (from spacy<3.3.0,>=3.2.0->en-core-web-sm==3.2.0) (2.0.7)\n",
      "Requirement already satisfied: requests<3.0.0,>=2.13.0 in c:\\users\\vitor\\anaconda3\\lib\\site-packages (from spacy<3.3.0,>=3.2.0->en-core-web-sm==3.2.0) (2.26.0)\n",
      "Requirement already satisfied: jinja2 in c:\\users\\vitor\\anaconda3\\lib\\site-packages (from spacy<3.3.0,>=3.2.0->en-core-web-sm==3.2.0) (2.11.3)\n",
      "Requirement already satisfied: preshed<3.1.0,>=3.0.2 in c:\\users\\vitor\\anaconda3\\lib\\site-packages (from spacy<3.3.0,>=3.2.0->en-core-web-sm==3.2.0) (3.0.6)\n",
      "Requirement already satisfied: pathy>=0.3.5 in c:\\users\\vitor\\anaconda3\\lib\\site-packages (from spacy<3.3.0,>=3.2.0->en-core-web-sm==3.2.0) (0.6.1)\n",
      "Requirement already satisfied: blis<0.8.0,>=0.4.0 in c:\\users\\vitor\\anaconda3\\lib\\site-packages (from spacy<3.3.0,>=3.2.0->en-core-web-sm==3.2.0) (0.7.7)\n",
      "Requirement already satisfied: spacy-legacy<3.1.0,>=3.0.8 in c:\\users\\vitor\\anaconda3\\lib\\site-packages (from spacy<3.3.0,>=3.2.0->en-core-web-sm==3.2.0) (3.0.9)\n",
      "Requirement already satisfied: spacy-loggers<2.0.0,>=1.0.0 in c:\\users\\vitor\\anaconda3\\lib\\site-packages (from spacy<3.3.0,>=3.2.0->en-core-web-sm==3.2.0) (1.0.2)\n",
      "Requirement already satisfied: langcodes<4.0.0,>=3.2.0 in c:\\users\\vitor\\anaconda3\\lib\\site-packages (from spacy<3.3.0,>=3.2.0->en-core-web-sm==3.2.0) (3.3.0)\n",
      "Requirement already satisfied: setuptools in c:\\users\\vitor\\anaconda3\\lib\\site-packages (from spacy<3.3.0,>=3.2.0->en-core-web-sm==3.2.0) (58.0.4)\n",
      "Requirement already satisfied: colorama in c:\\users\\vitor\\anaconda3\\lib\\site-packages (from click<8.1.0->spacy<3.3.0,>=3.2.0->en-core-web-sm==3.2.0) (0.4.4)\n",
      "Requirement already satisfied: pyparsing>=2.0.2 in c:\\users\\vitor\\anaconda3\\lib\\site-packages (from packaging>=20.0->spacy<3.3.0,>=3.2.0->en-core-web-sm==3.2.0) (3.0.4)\n",
      "Requirement already satisfied: smart-open<6.0.0,>=5.0.0 in c:\\users\\vitor\\anaconda3\\lib\\site-packages (from pathy>=0.3.5->spacy<3.3.0,>=3.2.0->en-core-web-sm==3.2.0) (5.2.1)\n",
      "Requirement already satisfied: typing-extensions>=3.7.4.3 in c:\\users\\vitor\\anaconda3\\lib\\site-packages (from pydantic!=1.8,!=1.8.1,<1.9.0,>=1.7.4->spacy<3.3.0,>=3.2.0->en-core-web-sm==3.2.0) (3.10.0.2)\n",
      "Requirement already satisfied: charset-normalizer~=2.0.0 in c:\\users\\vitor\\anaconda3\\lib\\site-packages (from requests<3.0.0,>=2.13.0->spacy<3.3.0,>=3.2.0->en-core-web-sm==3.2.0) (2.0.4)\n",
      "Requirement already satisfied: certifi>=2017.4.17 in c:\\users\\vitor\\anaconda3\\lib\\site-packages (from requests<3.0.0,>=2.13.0->spacy<3.3.0,>=3.2.0->en-core-web-sm==3.2.0) (2021.10.8)\n",
      "Requirement already satisfied: urllib3<1.27,>=1.21.1 in c:\\users\\vitor\\anaconda3\\lib\\site-packages (from requests<3.0.0,>=2.13.0->spacy<3.3.0,>=3.2.0->en-core-web-sm==3.2.0) (1.26.7)\n",
      "Requirement already satisfied: idna<4,>=2.5 in c:\\users\\vitor\\anaconda3\\lib\\site-packages (from requests<3.0.0,>=2.13.0->spacy<3.3.0,>=3.2.0->en-core-web-sm==3.2.0) (3.2)\n",
      "Requirement already satisfied: MarkupSafe>=0.23 in c:\\users\\vitor\\anaconda3\\lib\\site-packages (from jinja2->spacy<3.3.0,>=3.2.0->en-core-web-sm==3.2.0) (1.1.1)\n",
      "[+] Download and installation successful\n",
      "You can now load the package via spacy.load('en_core_web_sm')\n"
     ]
    }
   ],
   "source": [
    "!pip install spacy\n",
    "!python -m spacy download en_core_web_sm"
   ]
  },
  {
   "cell_type": "code",
   "execution_count": 6,
   "metadata": {
    "id": "E3whxbt8sYOB",
    "scrolled": false
   },
   "outputs": [
    {
     "name": "stdout",
     "output_type": "stream",
     "text": [
      "Requirement already satisfied: beautifulsoup4==4.9.1 in c:\\users\\vitor\\anaconda3\\lib\\site-packages (4.9.1)\n",
      "Requirement already satisfied: soupsieve>1.2 in c:\\users\\vitor\\anaconda3\\lib\\site-packages (from beautifulsoup4==4.9.1) (2.2.1)\n",
      "Requirement already satisfied: textblob==0.15.3 in c:\\users\\vitor\\anaconda3\\lib\\site-packages (0.15.3)\n",
      "Requirement already satisfied: nltk>=3.1 in c:\\users\\vitor\\anaconda3\\lib\\site-packages (from textblob==0.15.3) (3.6.5)\n",
      "Requirement already satisfied: click in c:\\users\\vitor\\anaconda3\\lib\\site-packages (from nltk>=3.1->textblob==0.15.3) (8.0.3)\n",
      "Requirement already satisfied: joblib in c:\\users\\vitor\\anaconda3\\lib\\site-packages (from nltk>=3.1->textblob==0.15.3) (1.1.0)\n",
      "Requirement already satisfied: regex>=2021.8.3 in c:\\users\\vitor\\anaconda3\\lib\\site-packages (from nltk>=3.1->textblob==0.15.3) (2021.8.3)\n",
      "Requirement already satisfied: tqdm in c:\\users\\vitor\\anaconda3\\lib\\site-packages (from nltk>=3.1->textblob==0.15.3) (4.62.3)\n",
      "Requirement already satisfied: colorama in c:\\users\\vitor\\anaconda3\\lib\\site-packages (from click->nltk>=3.1->textblob==0.15.3) (0.4.4)\n",
      "Collecting git+https://github.com/laxmimerit/preprocess_kgptalkie.git\n",
      "  Cloning https://github.com/laxmimerit/preprocess_kgptalkie.git to c:\\users\\vitor\\appdata\\local\\temp\\pip-req-build-3i41vu70\n",
      "  Resolved https://github.com/laxmimerit/preprocess_kgptalkie.git to commit 9ca68d37027af9f6a30d54640347ce3b2e2694b3\n",
      "Building wheels for collected packages: preprocess-kgptalkie\n",
      "  Building wheel for preprocess-kgptalkie (setup.py): started\n",
      "  Building wheel for preprocess-kgptalkie (setup.py): finished with status 'done'\n",
      "  Created wheel for preprocess-kgptalkie: filename=preprocess_kgptalkie-0.1.3-py3-none-any.whl size=7692 sha256=eb988fbda44f6b2f29143d680ea2dbf234044fa60fb77548b6646a51e4c71da2\n",
      "  Stored in directory: C:\\Users\\vitor\\AppData\\Local\\Temp\\pip-ephem-wheel-cache-zhw02x18\\wheels\\d1\\c3\\bb\\559fe93e652b51cbc532f17e9693f3b70055f8560cf06c1fb3\n",
      "Successfully built preprocess-kgptalkie\n",
      "Installing collected packages: preprocess-kgptalkie\n",
      "  Attempting uninstall: preprocess-kgptalkie\n",
      "    Found existing installation: preprocess-kgptalkie 0.1.3\n",
      "    Uninstalling preprocess-kgptalkie-0.1.3:\n",
      "      Successfully uninstalled preprocess-kgptalkie-0.1.3\n",
      "Successfully installed preprocess-kgptalkie-0.1.3\n"
     ]
    },
    {
     "name": "stderr",
     "output_type": "stream",
     "text": [
      "  Running command git clone -q https://github.com/laxmimerit/preprocess_kgptalkie.git 'C:\\Users\\vitor\\AppData\\Local\\Temp\\pip-req-build-3i41vu70'\n"
     ]
    }
   ],
   "source": [
    "!pip install beautifulsoup4==4.9.1\n",
    "!pip install textblob==0.15.3\n",
    "!pip install git+https://github.com/laxmimerit/preprocess_kgptalkie.git --upgrade --force-reinstall"
   ]
  },
  {
   "cell_type": "code",
   "execution_count": 7,
   "metadata": {},
   "outputs": [
    {
     "name": "stdout",
     "output_type": "stream",
     "text": [
      "Requirement already satisfied: gensim in c:\\users\\vitor\\anaconda3\\lib\\site-packages (4.1.2)\n",
      "Requirement already satisfied: scipy>=0.18.1 in c:\\users\\vitor\\anaconda3\\lib\\site-packages (from gensim) (1.7.1)\n",
      "Requirement already satisfied: numpy>=1.17.0 in c:\\users\\vitor\\anaconda3\\lib\\site-packages (from gensim) (1.20.3)\n",
      "Requirement already satisfied: smart-open>=1.8.1 in c:\\users\\vitor\\anaconda3\\lib\\site-packages (from gensim) (5.2.1)\n",
      "Requirement already satisfied: Cython==0.29.23 in c:\\users\\vitor\\anaconda3\\lib\\site-packages (from gensim) (0.29.23)\n",
      "Note: you may need to restart the kernel to use updated packages.\n"
     ]
    }
   ],
   "source": [
    "pip install gensim"
   ]
  },
  {
   "cell_type": "markdown",
   "metadata": {
    "id": "_PvwirXAzcd3"
   },
   "source": [
    "### Importação do Corpus Português-Br"
   ]
  },
  {
   "cell_type": "code",
   "execution_count": 8,
   "metadata": {
    "id": "ATvrGFHtRDit",
    "scrolled": true
   },
   "outputs": [],
   "source": [
    "true=[]\n",
    "for i in range(1,3601):\n",
    "  with open(r'C:\\Users\\vitor\\Documents\\TCC.v3\\Software\\Fake.br-Corpus\\full_texts\\true\\\\'+str(i)+'.txt', encoding =\"utf8\") as t:\n",
    "    true.append(t.read())"
   ]
  },
  {
   "cell_type": "code",
   "execution_count": 9,
   "metadata": {
    "id": "tzWaRn3xcxZt"
   },
   "outputs": [],
   "source": [
    "df_true = pd.DataFrame(true, columns = ['texto'])"
   ]
  },
  {
   "cell_type": "code",
   "execution_count": 10,
   "metadata": {
    "colab": {
     "base_uri": "https://localhost:8080/"
    },
    "id": "sPO8FHKJdXi2",
    "outputId": "4934b14a-d9b2-4e59-a09f-c396955a49fd"
   },
   "outputs": [
    {
     "name": "stdout",
     "output_type": "stream",
     "text": [
      "                                                  texto\n",
      "0     ﻿O Podemos decidiu  expulsar o deputado federa...\n",
      "1     Em evento realizado nesta terça-feira para div...\n",
      "2     ﻿Após o prefeito de Manaus Arthur Virgílio (PS...\n",
      "3     ﻿Doria vai receber Zé Celso após reunião com r...\n",
      "4     Gustavo Pedreira Ferraz, que admitiu buscar ma...\n",
      "...                                                 ...\n",
      "3595  Ficou longe das notícias no fim de ano? Veja o...\n",
      "3596   A nova denúncia contra o ex-presidente Luiz I...\n",
      "3597  Como a Bahia virou uma potência mundial do mar...\n",
      "3598  Alvo da Lava Jato, Bendine tinha passagem comp...\n",
      "3599  Chefs convidados do Encontro Mundial das Cidad...\n",
      "\n",
      "[3600 rows x 1 columns]\n"
     ]
    }
   ],
   "source": [
    "print(df_true)"
   ]
  },
  {
   "cell_type": "code",
   "execution_count": 11,
   "metadata": {
    "id": "l0dKrhbYWXox"
   },
   "outputs": [],
   "source": [
    "fake=[]\n",
    "for i in range(1,3601):\n",
    "  with open(r'C:\\Users\\vitor\\Documents\\TCC.v3\\Software\\Fake.br-Corpus\\full_texts\\fake\\\\'+str(i)+'.txt', encoding =\"utf8\") as t:\n",
    "    fake.append(t.read())"
   ]
  },
  {
   "cell_type": "code",
   "execution_count": 12,
   "metadata": {
    "id": "t7zUZYNMijn3"
   },
   "outputs": [],
   "source": [
    "df_fake = pd.DataFrame(fake, columns = ['texto'])"
   ]
  },
  {
   "cell_type": "code",
   "execution_count": 13,
   "metadata": {
    "colab": {
     "base_uri": "https://localhost:8080/"
    },
    "id": "ayAIq2lwijoL",
    "outputId": "ed9d79d9-d082-4794-e2f1-26495cc08e8f"
   },
   "outputs": [
    {
     "name": "stdout",
     "output_type": "stream",
     "text": [
      "                                                  texto\n",
      "0     Kátia Abreu diz que vai colocar sua expulsão e...\n",
      "1     Blog esquerdista dá a entender que reclamar de...\n",
      "2     Alckmin diz que por ele PSDB desembarca, mas...\n",
      "3     Cara de pau não tem limites: Zé Celso aciona M...\n",
      "4     Temer resolve o problema de Luislinda: liberd...\n",
      "...                                                 ...\n",
      "3595  Grupo de 100 mil pessoas quer criar novo país ...\n",
      "3596  Montadoras pagaram R$ 36 milhões para aprovar ...\n",
      "3597  Deputado do PT não sabia que estava sendo film...\n",
      "3598  Cunha cancelou a viagem à Itália porque poderi...\n",
      "3599  Mulher bêbada invade Planalto e diz que é \"mar...\n",
      "\n",
      "[3600 rows x 1 columns]\n"
     ]
    }
   ],
   "source": [
    "print(df_fake)"
   ]
  },
  {
   "cell_type": "markdown",
   "metadata": {
    "id": "yTzmQyyIh4D7"
   },
   "source": [
    "### Preprocessing dos textos"
   ]
  },
  {
   "cell_type": "code",
   "execution_count": 14,
   "metadata": {
    "id": "5Z5i_s86h6wZ"
   },
   "outputs": [],
   "source": [
    "df_true['texto'] = df_true['texto'].apply(lambda x: str(x).lower())\n",
    "df_fake['texto'] = df_fake['texto'].apply(lambda x: str(x).lower())"
   ]
  },
  {
   "cell_type": "code",
   "execution_count": 15,
   "metadata": {
    "id": "KUR0M0onkFCW"
   },
   "outputs": [],
   "source": [
    "df_true['class'] = 1\n",
    "df_fake['class'] = 0"
   ]
  },
  {
   "cell_type": "code",
   "execution_count": 16,
   "metadata": {
    "colab": {
     "base_uri": "https://localhost:8080/"
    },
    "id": "9dSB0igzrW-E",
    "outputId": "7b95a581-0400-40a6-c70a-3e17826132fa"
   },
   "outputs": [
    {
     "data": {
      "text/plain": [
       "Index(['texto', 'class'], dtype='object')"
      ]
     },
     "execution_count": 16,
     "metadata": {},
     "output_type": "execute_result"
    }
   ],
   "source": [
    "df_true.columns"
   ]
  },
  {
   "cell_type": "code",
   "execution_count": 17,
   "metadata": {
    "id": "m1f2beigr97S"
   },
   "outputs": [],
   "source": [
    "data = df_true.append(df_fake, ignore_index=True)"
   ]
  },
  {
   "cell_type": "code",
   "execution_count": 18,
   "metadata": {
    "id": "jHQMEUKmtQ5g",
    "scrolled": false
   },
   "outputs": [],
   "source": [
    "import preprocess_kgptalkie as ps"
   ]
  },
  {
   "cell_type": "code",
   "execution_count": 19,
   "metadata": {
    "colab": {
     "base_uri": "https://localhost:8080/"
    },
    "id": "8SD5uX_WtUB0",
    "outputId": "81ba4caf-a32c-4992-ad6f-4a64aea43a4a",
    "scrolled": true
   },
   "outputs": [],
   "source": [
    "#Método antido de remover caracteres especiais\n",
    "#data['texto'].apply(lambda x: ps.remove_special_chars(x))"
   ]
  },
  {
   "cell_type": "code",
   "execution_count": 20,
   "metadata": {
    "id": "1M36sCpJyQCX"
   },
   "outputs": [],
   "source": [
    "#Removes punctuation from every text within the DataFrame\n",
    "\n",
    "def remove_punct(raw_string):\n",
    "  '''Eliminates punctuations and numbers from raw_string.'''\n",
    "  translator = raw_string.maketrans({key:'' for key in string.punctuation.replace(\"-\", '') + \"“”‘’0123456789\"})\n",
    "\n",
    "  return raw_string.translate(translator)\n",
    "\n",
    "data['texto'] = data['texto'].apply(func=remove_punct)"
   ]
  },
  {
   "cell_type": "code",
   "execution_count": 21,
   "metadata": {
    "id": "2qjmsz5ByfWK"
   },
   "outputs": [
    {
     "name": "stdout",
     "output_type": "stream",
     "text": [
      "﻿o podemos decidiu  expulsar o deputado federal carlos gaguim do partido após a polícia federal fazer buscas a apreensões no gabinete dele na câmara com isso a legenda abre espaço para receber a senadora expulsa pelo pmdb katia abreu por meio de nota a legenda informou que o afastamento do parlamentar já era algo acordado entre os filiados da sigla  ainda que o parlamentar tenha comunicado a conclusão de sua desfiliação para esta semana diante dos fatos noticiados hoje a executiva nacional do podemos solicita o imediato cancelamento de sua filiação dos quadros do partido\n",
      "\n",
      "o partido que no passado chegou a cogitar lançar o parlamentar como candidato ao senado diz que apoia a investigação com a ampla apuração dos eventuais crimes cometidos e a consequente responsabilização dos envolvidos para que todos sejam punidos com o máximo rigor da lei independentemente de posição ou cargo ocupado \n"
     ]
    }
   ],
   "source": [
    "print(data['texto'][0])"
   ]
  },
  {
   "cell_type": "markdown",
   "metadata": {
    "id": "Vwr633Kltygi"
   },
   "source": [
    "### Vectorization - Word2Vec"
   ]
  },
  {
   "cell_type": "code",
   "execution_count": 22,
   "metadata": {
    "id": "Jfh5p46bt3dY",
    "scrolled": true
   },
   "outputs": [],
   "source": [
    "import gensim"
   ]
  },
  {
   "cell_type": "code",
   "execution_count": 23,
   "metadata": {
    "id": "Xq5gpMoXw6QU"
   },
   "outputs": [],
   "source": [
    "y = data['class'].values"
   ]
  },
  {
   "cell_type": "code",
   "execution_count": 24,
   "metadata": {
    "id": "U8FFFqPCxALP"
   },
   "outputs": [],
   "source": [
    "X = [d.split() for d in data['texto'].tolist()]"
   ]
  },
  {
   "cell_type": "code",
   "execution_count": 25,
   "metadata": {
    "id": "TK_uWAwEx0DW"
   },
   "outputs": [],
   "source": [
    "DIM = 100\n",
    "w2v_model = gensim.models.Word2Vec(sentences=X, vector_size=DIM, window=10, min_count=1)"
   ]
  },
  {
   "cell_type": "code",
   "execution_count": 26,
   "metadata": {
    "colab": {
     "base_uri": "https://localhost:8080/"
    },
    "id": "4Z76l9x_yUe4",
    "outputId": "0c3ce357-6e1b-4351-eebb-b9ab8c183b69"
   },
   "outputs": [
    {
     "data": {
      "text/plain": [
       "[('jair', 0.8960974812507629),\n",
       " ('ciro', 0.7953669428825378),\n",
       " ('presidenciável', 0.7620323896408081),\n",
       " ('alckmin', 0.7595359086990356),\n",
       " ('psl', 0.7496324181556702),\n",
       " ('pré-candidato', 0.7180336117744446),\n",
       " ('candidato', 0.6947965025901794),\n",
       " ('psc-rj', 0.6840246319770813),\n",
       " ('huck', 0.6711270213127136),\n",
       " ('boulos', 0.6661845445632935)]"
      ]
     },
     "execution_count": 26,
     "metadata": {},
     "output_type": "execute_result"
    }
   ],
   "source": [
    "w2v_model.wv.most_similar('bolsonaro')"
   ]
  },
  {
   "cell_type": "code",
   "execution_count": 27,
   "metadata": {
    "id": "ip2o-hhPyUql"
   },
   "outputs": [],
   "source": [
    "tokenizer = Tokenizer()\n",
    "tokenizer.fit_on_texts(X)"
   ]
  },
  {
   "cell_type": "code",
   "execution_count": 28,
   "metadata": {
    "id": "Ld4qAE9JyUxs"
   },
   "outputs": [],
   "source": [
    "X = tokenizer.texts_to_sequences(X)"
   ]
  },
  {
   "cell_type": "code",
   "execution_count": 29,
   "metadata": {
    "id": "FJLF3ajEx9Nl"
   },
   "outputs": [],
   "source": [
    "#tokenizer.word_index - coloca as palavras em ordem de aparecimento"
   ]
  },
  {
   "cell_type": "code",
   "execution_count": null,
   "metadata": {
    "id": "zSdj0OAb0l8m"
   },
   "outputs": [],
   "source": []
  },
  {
   "cell_type": "markdown",
   "metadata": {
    "id": "btaS96Ms0vgC"
   },
   "source": [
    "### Analisando tamanho dos textos"
   ]
  },
  {
   "cell_type": "code",
   "execution_count": 30,
   "metadata": {
    "colab": {
     "base_uri": "https://localhost:8080/",
     "height": 265
    },
    "id": "ROYPvwrc0l_N",
    "outputId": "f839185b-cc0a-49ac-8d5e-a7d89cd5cd05"
   },
   "outputs": [
    {
     "data": {
      "image/png": "[encoded data removed]",
      "text/plain": [
       "<Figure size 432x288 with 1 Axes>"
      ]
     },
     "metadata": {
      "needs_background": "light"
     },
     "output_type": "display_data"
    }
   ],
   "source": [
    "plt.hist([len(x) for x in X], bins = 700)\n",
    "plt.show()"
   ]
  },
  {
   "cell_type": "code",
   "execution_count": 31,
   "metadata": {
    "colab": {
     "base_uri": "https://localhost:8080/"
    },
    "id": "gtbMY6sl0mCW",
    "outputId": "578de231-373c-4ed9-8fb8-ff1b76618214"
   },
   "outputs": [
    {
     "data": {
      "text/plain": [
       "311"
      ]
     },
     "execution_count": 31,
     "metadata": {},
     "output_type": "execute_result"
    }
   ],
   "source": [
    "#verificando quantas notícias tem mais do que o número de palavras especificado\n",
    "nos = np.array([len(x) for x in X])\n",
    "len(nos[nos>2000])"
   ]
  },
  {
   "cell_type": "code",
   "execution_count": 32,
   "metadata": {
    "id": "cHO1Xv0S0mF9"
   },
   "outputs": [],
   "source": [
    "maxlen = 2000\n",
    "X = pad_sequences(X, maxlen=maxlen)"
   ]
  },
  {
   "cell_type": "code",
   "execution_count": 33,
   "metadata": {
    "id": "SO8KXzbh1-ih"
   },
   "outputs": [],
   "source": [
    "vocab_size = len(tokenizer.word_index) + 1 #verificar novamente em 1h09 o pq do \"+1\"\n",
    "vocab = tokenizer.word_index"
   ]
  },
  {
   "cell_type": "code",
   "execution_count": 34,
   "metadata": {
    "id": "mdeGgpVS1-lY"
   },
   "outputs": [],
   "source": [
    "def get_weight_matrix(model):\n",
    "  weight_matrix = np.zeros((vocab_size, DIM))\n",
    "\n",
    "  for word, i in vocab.items():\n",
    "    weight_matrix[i] = model.wv[word]\n",
    "\n",
    "  return weight_matrix"
   ]
  },
  {
   "cell_type": "code",
   "execution_count": 35,
   "metadata": {
    "id": "5oHrKxa-1-op"
   },
   "outputs": [],
   "source": [
    "embedding_vectors = get_weight_matrix(w2v_model)"
   ]
  },
  {
   "cell_type": "code",
   "execution_count": null,
   "metadata": {
    "id": "JAQ_dJ2w4G6b"
   },
   "outputs": [],
   "source": []
  },
  {
   "cell_type": "markdown",
   "metadata": {
    "id": "Yo32seFa4TiA"
   },
   "source": [
    "### Criando o modelo de rede neural"
   ]
  },
  {
   "cell_type": "code",
   "execution_count": 36,
   "metadata": {
    "id": "bXM2EBQ-4G9O"
   },
   "outputs": [],
   "source": [
    "#colocar trainable = True pra ver se melhora o resultado se a ML ficar retrinando\n",
    "model = Sequential()\n",
    "model.add(Embedding(vocab_size, output_dim=DIM, weights = [embedding_vectors], input_length=maxlen, trainable=False))\n",
    "model.add(LSTM(units=128))\n",
    "model.add(Dense(1, activation='sigmoid'))\n",
    "model.compile(optimizer='adam', loss='binary_crossentropy', metrics=['acc'])"
   ]
  },
  {
   "cell_type": "code",
   "execution_count": 37,
   "metadata": {
    "colab": {
     "base_uri": "https://localhost:8080/"
    },
    "id": "aCkCNT5i4HAp",
    "outputId": "2a17abb9-b27f-4162-e1c4-be6e97282819"
   },
   "outputs": [
    {
     "name": "stdout",
     "output_type": "stream",
     "text": [
      "Model: \"sequential\"\n",
      "_________________________________________________________________\n",
      " Layer (type)                Output Shape              Param #   \n",
      "=================================================================\n",
      " embedding (Embedding)       (None, 2000, 100)         8998800   \n",
      "                                                                 \n",
      " lstm (LSTM)                 (None, 128)               117248    \n",
      "                                                                 \n",
      " dense (Dense)               (None, 1)                 129       \n",
      "                                                                 \n",
      "=================================================================\n",
      "Total params: 9,116,177\n",
      "Trainable params: 117,377\n",
      "Non-trainable params: 8,998,800\n",
      "_________________________________________________________________\n"
     ]
    }
   ],
   "source": [
    "model.summary()"
   ]
  },
  {
   "cell_type": "markdown",
   "metadata": {
    "id": "Qmxxbkd35_gH"
   },
   "source": [
    "### Treinando o modelo"
   ]
  },
  {
   "cell_type": "code",
   "execution_count": 38,
   "metadata": {
    "id": "j9VOEsSa3ldv"
   },
   "outputs": [],
   "source": [
    "X_train, X_test, y_train, y_test = train_test_split(X,y)"
   ]
  },
  {
   "cell_type": "code",
   "execution_count": 39,
   "metadata": {
    "colab": {
     "base_uri": "https://localhost:8080/"
    },
    "id": "O24NC1HG6D-J",
    "outputId": "864e6dbd-999f-443d-d111-110a404d730e",
    "scrolled": true
   },
   "outputs": [
    {
     "name": "stdout",
     "output_type": "stream",
     "text": [
      "Epoch 1/6\n",
      "152/152 [==============================] - 454s 3s/step - loss: 0.6380 - acc: 0.6389 - val_loss: 0.6212 - val_acc: 0.5981\n",
      "Epoch 2/6\n",
      "152/152 [==============================] - 414s 3s/step - loss: 0.5765 - acc: 0.6938 - val_loss: 0.7817 - val_acc: 0.6185\n",
      "Epoch 3/6\n",
      "152/152 [==============================] - 418s 3s/step - loss: 0.5464 - acc: 0.7261 - val_loss: 0.4815 - val_acc: 0.7722\n",
      "Epoch 4/6\n",
      "152/152 [==============================] - 414s 3s/step - loss: 0.3349 - acc: 0.8644 - val_loss: 0.6232 - val_acc: 0.6296\n",
      "Epoch 5/6\n",
      "152/152 [==============================] - 410s 3s/step - loss: 0.2913 - acc: 0.8759 - val_loss: 0.1351 - val_acc: 0.9685\n",
      "Epoch 6/6\n",
      "152/152 [==============================] - 412s 3s/step - loss: 0.1373 - acc: 0.9570 - val_loss: 0.1247 - val_acc: 0.9685\n"
     ]
    },
    {
     "data": {
      "text/plain": [
       "<keras.callbacks.History at 0x1c9eb8f9ca0>"
      ]
     },
     "execution_count": 39,
     "metadata": {},
     "output_type": "execute_result"
    }
   ],
   "source": [
    "model.fit(X_train, y_train, validation_split=0.1, epochs=6)"
   ]
  },
  {
   "cell_type": "code",
   "execution_count": 40,
   "metadata": {
    "id": "TJgFUize6ELP"
   },
   "outputs": [],
   "source": [
    "y_pred = (model.predict(X_test) >=0.5).astype(int)"
   ]
  },
  {
   "cell_type": "code",
   "execution_count": 41,
   "metadata": {
    "colab": {
     "base_uri": "https://localhost:8080/"
    },
    "id": "5b7Tc-ZZ1-sE",
    "outputId": "1b5a9938-a878-4feb-8a37-821878731655"
   },
   "outputs": [
    {
     "data": {
      "text/plain": [
       "0.9594444444444444"
      ]
     },
     "execution_count": 41,
     "metadata": {},
     "output_type": "execute_result"
    }
   ],
   "source": [
    "accuracy_score(y_test, y_pred)"
   ]
  },
  {
   "cell_type": "code",
   "execution_count": 71,
   "metadata": {},
   "outputs": [],
   "source": [
    "def saveModel(model,dicto):\n",
    "    name = input('nome do modelo:')\n",
    "    model.save(str(name)+'.h5')\n",
    "    with open('wordIndex.json','w') as f:\n",
    "        json.dump(dicto,f,indent = \"\")\n",
    "    print('Model saved!')\n",
    "    return"
   ]
  },
  {
   "cell_type": "code",
   "execution_count": 72,
   "metadata": {},
   "outputs": [
    {
     "name": "stdout",
     "output_type": "stream",
     "text": [
      "nome do modelo:modelo96\n",
      "Model saved!\n"
     ]
    }
   ],
   "source": [
    "saveModel(model, vocab)"
   ]
  },
  {
   "cell_type": "markdown",
   "metadata": {
    "id": "ueec0DsfdLR8"
   },
   "source": [
    "### Vasculhador de notícias para testes"
   ]
  },
  {
   "cell_type": "code",
   "execution_count": 116,
   "metadata": {
    "scrolled": true
   },
   "outputs": [],
   "source": [
    "noticia = X_train[0].tolist()  #notícia teste ou treino a ser analisada"
   ]
  },
  {
   "cell_type": "code",
   "execution_count": 117,
   "metadata": {},
   "outputs": [],
   "source": [
    "vocab = tokenizer.word_index\n",
    "vocab[\"\"] = 0\n",
    "inv_vocab = {v: k for k, v in vocab.items()}"
   ]
  },
  {
   "cell_type": "code",
   "execution_count": 118,
   "metadata": {
    "scrolled": true
   },
   "outputs": [],
   "source": [
    "news=[]\n",
    "for token in noticia:\n",
    "    news.append(inv_vocab[token])  #inv_vocab[token] é a palavra correspondente ao token."
   ]
  },
  {
   "cell_type": "code",
   "execution_count": 119,
   "metadata": {},
   "outputs": [
    {
     "name": "stdout",
     "output_type": "stream",
     "text": [
      "                                                                                                                                                                                                                                                                                                                                                                                                                                                                                                                                                                                                                                                                                                                                                                                                                                                                                                                                                                                                                                                                                                                                                                                                                                                                                                                                                                                                                                                                                                                                                                                                                                                                                                                                                                                                                                            independent rússia ordena que força aérea se prepare para tempos de guerra medidas preparativas para combates já começaram a força aérea russa recebeu ordens para se preparar para tempos de guerra o presidente ordenou que se faça um teste rápido nas forças armadas do país informou o ministro da defesa sergey shoigu além de verificar se as tropas estão aptas para batalhas a ordem irá aferir se todo o sistema de combate do país está pronto para lutar informou a agência estatal de notícias tass de acordo com a decisão do comandante supremo das forças armadas as forças aeroespaciais estão verificando a prontidão das agências de controle e das tropas para a realização de tarefas de combate uma atenção especial deve ser dada ao alerta de combate visando a implantação de sistemas de defesa aérea para uma época de guerra e a disposição dos grupos aéreos para repelir agressões disse o ministro da defesa a rússia mantém um relacionamento cada vez mais tenso com alguns países da otan com um orçamento militar anual avaliado em cerca de milhões de dólares putin só perde em termos de investimentos militares para a arábia saudita china e estados unidos que possuem o maior orçamento do mundo em dezembro putin revelou planos para expandir suas forças armadas em incluindo um grande aumento no número de tanques veículos blindados aeronaves e armas nucleares\n"
     ]
    }
   ],
   "source": [
    "noticia_ok = ' '.join([str(item) for item in news])\n",
    "print(noticia_ok)"
   ]
  },
  {
   "cell_type": "code",
   "execution_count": 111,
   "metadata": {
    "colab": {
     "base_uri": "https://localhost:8080/",
     "height": 244
    },
    "id": "foWm9clCfn9C",
    "outputId": "a97f4174-0dc1-419f-b6d8-a0d7af10be4b",
    "scrolled": false
   },
   "outputs": [
    {
     "data": {
      "text/plain": [
       "'gustavo pedreira ferraz, que admitiu buscar malas de dinheiro para geddel vieira lima, afirmou à pf ter trabalhado na campanha presidencial de 2014 para o então candidato aécio neves (psdb). ex-diretor da defesa civil de salvador, bahia, ele resolveu colaborar com investigações sobre o bunker dos r$ 51 milhões. as digitais de ferraz foram encontradas nas cédulas de r$ 50 e r$ 100 que rechearam as malas e caixas de dinheiro encontradas na maior apreensão da história da pf. por meio de sua assessoria, o senador nega que gustavo tenha trabalhado em sua campanha.\\nconselheiro de ética do pmdb na bahia, ferraz admitiu que, em 2012, buscou uma mala de dinheiro para em um hotel em são paulo para o ex-ministro. ele afirma que ainda voltou a salvador em voo fretado e foi levado por um motorista do pmdb até a casa de geddel, aonde o dinheiro da mala foi contado. ferraz se diz traído já que esperava que o ex-ministro repassasse o montante para as campanhas de candidatos baianos às prefeituras e, na verdade, foram parar no bunker.\\nele afirma à pf que também colaborou para a campanha de geddel ao governo estadual, em 2010. à época das eleições de 2012, ele alega ter sido assessor de bancada do pmdb na assembleia legislativa do estado da bahia.\\nferraz assumiu em 2013, a superintendência da indústria e comércio de salvador, função que exerceu até o fim de 2014.\\nnaquele ano, ele diz ter feito campanha política para geddel, então candidato ao senado, paulo souto, candidato ao governo do estado da bahia, e aécio neves, candidato a presidente.\\nferraz foi preso na operação tesouro perdido, após serem encontradas suas digitais nas notas do bunker dos r$ 51 milhões. ele pagou fiança para deixar a cadeia. o valor, estipulado pelo supremo, foi de 50 salários mínimos.\\ncom a palavra, aécio neves\\n“o sr gustavo ferraz não trabalhou na campanha presidencial do psdb em 2014”.\\ncom a palavra, souto\\na reportagem não localizou paulo souto. o espaço está aberto para manifestação.'"
      ]
     },
     "execution_count": 111,
     "metadata": {},
     "output_type": "execute_result"
    }
   ],
   "source": [
    "df_true['texto'][4]"
   ]
  }
 ],
 "metadata": {
  "colab": {
   "name": "Testes de notícias - Rede Neural - Fake News.ipynb",
   "provenance": []
  },
  "kernelspec": {
   "display_name": "Python 3 (ipykernel)",
   "language": "python",
   "name": "python3"
  },
  "language_info": {
   "codemirror_mode": {
    "name": "ipython",
    "version": 3
   },
   "file_extension": ".py",
   "mimetype": "text/x-python",
   "name": "python",
   "nbconvert_exporter": "python",
   "pygments_lexer": "ipython3",
   "version": "3.9.7"
  }
 },
 "nbformat": 4,
 "nbformat_minor": 1
}
