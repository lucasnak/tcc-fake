{
 "cells": [
  {
   "cell_type": "markdown",
   "id": "8ab852b7",
   "metadata": {},
   "source": [
    "### Carregando o modelo"
   ]
  },
  {
   "cell_type": "code",
   "execution_count": 2,
   "id": "5f0730ae",
   "metadata": {},
   "outputs": [],
   "source": [
    "import numpy as np\n",
    "import pandas as pd\n",
    "import matplotlib.pyplot as plt\n",
    "import seaborn as sns\n",
    "import nltk\n",
    "import re\n",
    "import json\n",
    "import string\n",
    "import spacy\n",
    "from tensorflow.keras.preprocessing.text import Tokenizer\n",
    "from tensorflow.keras.preprocessing.sequence import pad_sequences\n",
    "from tensorflow.keras.models import Sequential\n",
    "from tensorflow.keras.layers import Dense, Embedding, LSTM, Conv1D, MaxPool1D\n",
    "from sklearn.model_selection import train_test_split\n",
    "from sklearn.metrics import classification_report, accuracy_score"
   ]
  },
  {
   "cell_type": "code",
   "execution_count": 7,
   "id": "9f187c1e",
   "metadata": {},
   "outputs": [],
   "source": [
    "from keras.models import load_model"
   ]
  },
  {
   "cell_type": "code",
   "execution_count": 8,
   "id": "ef9fb402",
   "metadata": {},
   "outputs": [],
   "source": [
    "def loadModel():\n",
    "    name = input('escreva o nome do modelo a ser carregado:')\n",
    "    savedModel = load_model(name+'.h5')\n",
    "    with open('wordIndex.json') as f:\n",
    "        dicto = json.load(f)\n",
    "    savedModel.summary()\n",
    "    return savedModel, dicto"
   ]
  },
  {
   "cell_type": "code",
   "execution_count": 9,
   "id": "7899ce69",
   "metadata": {},
   "outputs": [
    {
     "name": "stdout",
     "output_type": "stream",
     "text": [
      "escreva o nome do modelo a ser carregado:0526_rnn_truncado100_acc81\n",
      "Model: \"sequential\"\n",
      "_________________________________________________________________\n",
      " Layer (type)                Output Shape              Param #   \n",
      "=================================================================\n",
      " embedding (Embedding)       (None, 100, 100)          9235900   \n",
      "                                                                 \n",
      " lstm (LSTM)                 (None, 128)               117248    \n",
      "                                                                 \n",
      " dense (Dense)               (None, 1)                 129       \n",
      "                                                                 \n",
      "=================================================================\n",
      "Total params: 9,353,277\n",
      "Trainable params: 117,377\n",
      "Non-trainable params: 9,235,900\n",
      "_________________________________________________________________\n"
     ]
    }
   ],
   "source": [
    "tokenizer = Tokenizer()\n",
    "model, tokenizer.word_index = loadModel()"
   ]
  },
  {
   "cell_type": "markdown",
   "id": "7f05c66c",
   "metadata": {},
   "source": [
    "### Notícias analisadas"
   ]
  },
  {
   "cell_type": "code",
   "execution_count": 57,
   "id": "a19f8fea",
   "metadata": {},
   "outputs": [],
   "source": [
    "sentence_t = '''A defensora pública aposentada Cláudia Alvarim Barrozo, 59, gravada agredindo verbalmente entregadores negros, no último sábado (30), em vídeo em que chama um deles de 'macaco', em um condomínio de luxo de Niterói (RJ), tem cinco passagens anteriores pela polícia por injúria racial. Além disso, a reportagem do UOL apurou que as investigações tiveram início em 2014 e que há ainda uma sexta anotação policial antes do caso deste final de semana, mas por lesão corporal e constrangimento.\n",
    "\n",
    "Claudia Barrozo foi intimada a prestar esclarecimentos na tarde desta quinta-feira (5) na 81ª DP (Itaipu), porém alegou que já tinha \"compromissos\" e pediu para que a oitiva fosse adiada para a semana que vem.\n",
    "\n",
    "Hoje pela manhã, Eduardo Pessanha Marques e Jonathas de Souza Mendonça estiveram na delegacia para serem ouvidos novamente. \"A sensação que eu tive era de que eu estava em um filme, em uma novela e que aquilo não poderia estar acontecendo\", disse Eduardo, que gravou o vídeo flagrando o crime.\n",
    "\n",
    "De acordo com o delegado Carlos César Santos, atualmente \"as pessoas denunciam, não se calam, por isso a incidência [do crime de injúria racial] é maior hoje em dia\". Os agentes irão analisar imagens de câmeras de segurança.'''"
   ]
  },
  {
   "cell_type": "code",
   "execution_count": 86,
   "id": "7ed4f751",
   "metadata": {},
   "outputs": [],
   "source": [
    "sentence_t = '''O ex-juiz e ex-ministro Sergio Moro (União Brasil) defendeu nesta 5ª feira (26.mai.2022) a PRF (Polícia Rodoviária Federal) e disse que a atuação dos 2 agentes da corporação no caso do homem asfixiado em Sergipe é uma “exceção”. Genivaldo de Jesus Santos morreu depois de ser colocado, por policiais rodoviários federais, dentro do porta-malas de uma viatura com fumaça dentro.\n",
    "\n",
    "“Lamentável ação em Sergipe de 2 policiais da PRF. Mas que não se tome exceção como regra. Conheci de perto a PRF quando ministro. São profissionais valorosos e a violência policial é rara. Que tudo seja apurado e os culpados, punidos. Meus sentimentos à família do senhor Genivaldo”, escreveu no Twitter. \n",
    "\n",
    "Moro deixou o cargo de ministro da Justiça do governo Bolsonaro em abril de 2020 depois que o presidente demitiu o então diretor-geral da PF Maurício Valeixo, que havia sido escolhido pelo ex-juiz da Lava Jato. As declarações de Moro quando pediu demissão são a base de uma investigação sobre a suposta interferência política de Bolsonaro na PF.'''"
   ]
  },
  {
   "cell_type": "code",
   "execution_count": 94,
   "id": "654d9ed5",
   "metadata": {},
   "outputs": [],
   "source": [
    "sentence_t = '''Os Estados Unidos continuam em choque após a morte de 21 pessoas, entre elas 19 crianças, em um ataque em uma escola na cidade de Uvalde, no Texas. O presidente Joe Biden anunciou na quarta-feira (25) que iria ao estado nos próximos dias, onde políticos pró e contra armas se opõem.\n",
    "\n",
    "Eram 11h30 em Uvalde, no estado americano do Texas, quando Salvador Ramos começou a atirar em alunos e professores da escola de ensino fundamental Robb, matando 21 pessoas, entre elas 19 crianças, na terça-feira (24).\n",
    "\n",
    "Celeste estava no carro quando ouviu no rádio que um incidente estava acontecendo na escola de sua filha de 9 anos. A mãe de família, de 30 anos, correu para o local. Quando chegou, os policiais a impediram de entrar na escola e, na mesma hora, o atirador saiu do prédio e atirou na direção dos agentes.\n",
    "\"Ele saiu e começou a atirar em todo mundo. Eu fiquei com muito medo\", conta. Poucos minutos depois, tiros voltaram a ser ouvidos no interior do centro de ensino. A filha de Celeste ainda estava no prédio.\n",
    "\n",
    "\"Ela ficou escondida no banheiro o tempo todo. Ela tentou sair e ele atirou bem na frente dela. Então ela parou e se escondeu em outro lugar. Ela então viu o atirador correr e atirar e se escondeu durante 15 minutos e depois começou a correr para a primeira porta aberta\", conta Celeste, que conseguiu encontrar a filha viva.\n",
    "\n",
    "\"Nessa hora eu pulei, a agarrei e a coloquei dentro do meu carro. Então eu esperei que os filhos de duas amigas minhas saíssem, mas eles não saíram\", diz a mãe emocionada.\n",
    "\n",
    "Celeste acredita que o que aconteceu com ela e a filha foi um \"milagre\". Ela conhecia todas as crianças e não pode evitar se sentir culpada por sua filha ter sobrevivido. Por isso, ela decidiu depositar, diante do portão da escola, 19 bichos de pelúcia, um para cada vítima.\n",
    "\n",
    "\"Eu trago um bicho de pelúcia para cada um para que eles possam dormir com eles. Eles são tão pequenos. São bebês. Esta é para Eli\", diz mostrando um dos brinquedos. \"Era uma das filhas de uma amiga minha. Ela fazia sempre vídeos super fofos. A mãe dela é uma boa amiga\", contou ao enviado especial da RFI em Uvalde, David Thomson.\n",
    "\n",
    "\"Todas estas crianças eram conhecidas. Elas eram todas tão boas. Crianças inocentes. Bebês. Alguns vinham às festas da minha família. Outras eram filhos de amigos\", diz Celeste chocada com o que foi o pior ataque a um centro de ensino nos Estados Unidos, em 10 anos.\n",
    "\n",
    "\"Todo mundo se conhece aqui, é uma pequena comunidade. É simplesmente muito triste. Somos todos próximos. Minha vizinha perdeu a sobrinha e o sobrinho. Meu coração está partido porque minha filha também estava na escola, mas ela voltou para casa. As crianças de meus amigos não voltaram\", lamenta.\n",
    "\n",
    "No dia seguinte da matança, centenas de habitantes de Uvalde se reuniram para homenagear as vítimas. Orações, músicas e sofrimento marcaram a manifestação. Entre os presentes, um agente de polícia em uniforme, pai de uma vítima, arrasado, em lágrimas nos braços do senador Ted Cruz, que estava presente, assim como Greg Abott, governador do Texas.\n",
    "\n",
    "Uvalde é uma pequena comunidade rural de 16 mil habitantes, três quartos hispânicos. \"Estamos simplesmente chocados. Não conseguimos acreditar que uma coisa assim tenha acontecido em uma cidade tão pequena\", disse o pai de um aluno.\n",
    "\n",
    "\"Eu estou triste, simplesmente triste. Faltam palavras. Grotesco, desprezível. Eram crianças inocentes. Elas tinham a vida diante delas, um futuro. Tudo isso foi roubado\", disse outro pai de um sobrevivente.'''"
   ]
  },
  {
   "cell_type": "code",
   "execution_count": 65,
   "id": "bcf9537e",
   "metadata": {},
   "outputs": [],
   "source": [
    "sentence_f = '''Bolsonaro põe fim ao seu casamento e isolada ex-mulher O casamento de Michelle e Jair Bolsonaro chegou ao fim. O casal passa por uma crise complexa desde novembro de 2018, depois que Jair foi eleito Presidente do Brasil.\n",
    " \n",
    "O site de cobertura e fatos de celebridades e famosos, [site] foi o primeiro site a revelar a separação do casal no dia 13 de outubro de 2020. Na terça-feira o mesmo site revelou que a ex-primeira dama e esposa de Bolsonaro – Michelle Bolsonaro tem sofrido com o fim do casamento e se sentido isolada.\n",
    "\n",
    "O Custo da vila Olímpica do Japão: 29 milhões de dólares. O custo da vila Olímpica na olimpíada do Brasil: 900 milhões de dólares. e pra variar quem governava o Brasil na época: PT e Lula, quem ganhou muito dinheiro: políticos envolvidos na corrupção, e a globolixo\n",
    "\n",
    "NO RIO GRANDE DO SUL PRODUTORES DE UVA TOMAM MEDIDAS PARA EVITAR A GEADA NO RIO GRANDE DO SUL PRODUTORES DE UVA TOMAM MEDIDAS PARA EVITAR A GEADA Conforme informações do diário da informação em Bento Gonçalves para não congelar as uvas os produtores estão utilizando o fogo em tonéis, a técnica já é usada há alguns anos no Brasil e em outros países. Além da proteção é mais um espetáculo na Serra Gaúcha.\n",
    "\n",
    "Lula admite DERROTA em discurso de 1º de Maio. O discurso de Lula que era para ser às 12:00hs foi mudado para às 13:00 e só começou às 15:30. Tudo porque não tinha gente o suficiente. No discurso Lula diz que ainda não é candidato. Ele disse: “só dia 7 eu vou ser pré-candidato”. Será que já arregou?\n",
    "\n",
    "Bolsonaro põe fim ao seu casamento e isolada ex-mulher O casamento de Michelle e Jair Bolsonaro chegou ao fim. O casal passa por uma crise complexa desde novembro de 2018, depois que Jair foi eleito Presidente do Brasil.\n",
    " \n",
    "O site de cobertura e fatos de celebridades e famosos, [site] foi o primeiro site a revelar a separação do casal no dia 13 de outubro de 2020. Na terça-feira o mesmo site revelou que a ex-primeira dama e esposa de Bolsonaro – Michelle Bolsonaro tem sofrido com o fim do casamento e se sentido isolada.\n",
    "\n",
    "O Custo da vila Olímpica do Japão: 29 milhões de dólares. O custo da vila Olímpica na olimpíada do Brasil: 900 milhões de dólares. e pra variar quem governava o Brasil na época: PT e Lula, quem ganhou muito dinheiro: políticos envolvidos na corrupção, e a globolixo\n",
    "\n",
    "NO RIO GRANDE DO SUL PRODUTORES DE UVA TOMAM MEDIDAS PARA EVITAR A GEADA NO RIO GRANDE DO SUL PRODUTORES DE UVA TOMAM MEDIDAS PARA EVITAR A GEADA Conforme informações do diário da informação em Bento Gonçalves para não congelar as uvas os produtores estão utilizando o fogo em tonéis, a técnica já é usada há alguns anos no Brasil e em outros países. Além da proteção é mais um espetáculo na Serra Gaúcha.\n",
    "\n",
    "Lula admite DERROTA em discurso de 1º de Maio. O discurso de Lula que era para ser às 12:00hs foi mudado para às 13:00 e só começou às 15:30. Tudo porque não tinha gente o suficiente. No discurso Lula diz que ainda não é candidato. Ele disse: “só dia 7 eu vou ser pré-candidato”. Será que já arregou?'''"
   ]
  },
  {
   "cell_type": "code",
   "execution_count": 72,
   "id": "b6cb89b4",
   "metadata": {},
   "outputs": [],
   "source": [
    "sentence_f = '''bolsonaro',\n",
    " 'explica',\n",
    " 'em',\n",
    " 'vídeo',\n",
    " 'porque',\n",
    " 'o',\n",
    " 'filho',\n",
    " 'poderia',\n",
    " 'ser',\n",
    " 'preso',\n",
    " 'em',\n",
    " 'vídeo',\n",
    " 'o',\n",
    " 'deputado',\n",
    " 'federal',\n",
    " 'jair',\n",
    " 'bolsonaro',\n",
    " 'explica',\n",
    " 'as',\n",
    " 'razões',\n",
    " 'porque',\n",
    " 'disse',\n",
    " 'que',\n",
    " 'seu',\n",
    " 'filho',\n",
    " 'eduardo',\n",
    " 'bolsonaro',\n",
    " 'poderia',\n",
    " 'ser',\n",
    " 'preso',\n",
    " 'no',\n",
    " 'complexo',\n",
    " 'penitenciário',\n",
    " 'da',\n",
    " 'papuda',\n",
    " 'veja',\n",
    " 'o',\n",
    " 'vídeo',\n",
    " 'e',\n",
    " 'tire',\n",
    " 'suas',\n",
    " 'conclusões',\n",
    " 'o',\n",
    " 'deputado',\n",
    " 'federal',\n",
    " 'jair',\n",
    " 'bolsonaro',\n",
    " 'pscrj',\n",
    " 'disse',\n",
    " 'que',\n",
    " 'vai',\n",
    " 'processar',\n",
    " 'por',\n",
    " 'invasão',\n",
    " 'de',\n",
    " 'privacidade',\n",
    " 'o',\n",
    " 'fotógrafo',\n",
    " 'que',\n",
    " 'publicou',\n",
    " 'no',\n",
    " 'facebook',\n",
    " 'imagens',\n",
    " 'que',\n",
    " 'mostram',\n",
    " 'o',\n",
    " 'parlamentar',\n",
    " 'travando',\n",
    " 'um',\n",
    " 'diálogo',\n",
    " 'duro',\n",
    " 'via',\n",
    " 'whatsapp',\n",
    " 'com',\n",
    " 'o',\n",
    " 'também',\n",
    " 'deputado',\n",
    " 'eduardo',\n",
    " 'bolsonaro',\n",
    " 'pscsp',\n",
    " 'seu',\n",
    " 'filho',\n",
    " 'de',\n",
    " 'anos',\n",
    " 'o',\n",
    " 'parlamentar',\n",
    " 'afirmou',\n",
    " 'que',\n",
    " 'não',\n",
    " 'vai',\n",
    " 'discutir',\n",
    " 'o',\n",
    " 'teor',\n",
    " 'ou',\n",
    " 'a',\n",
    " 'autencidade',\n",
    " 'das',\n",
    " 'mensagensde',\n",
    " 'acordo',\n",
    " 'com',\n",
    " 'jair',\n",
    " 'bolsonaro',\n",
    " 'a',\n",
    " 'atitude',\n",
    " 'de',\n",
    " 'lula',\n",
    " 'marques',\n",
    " 'consiste',\n",
    " 'em',\n",
    " 'invasão',\n",
    " 'de',\n",
    " 'privacidade\\x96',\n",
    " 'não',\n",
    " 'vou',\n",
    " 'discutir',\n",
    " 'o',\n",
    " 'teor',\n",
    " 'das',\n",
    " 'mensagens',\n",
    " 'se',\n",
    " 'é',\n",
    " 'verdade',\n",
    " 'ou',\n",
    " 'não',\n",
    " 'vou',\n",
    " 'processar',\n",
    " 'o',\n",
    " 'fotógrafo',\n",
    " 'que',\n",
    " 'já',\n",
    " 'sei',\n",
    " 'quem',\n",
    " 'é',\n",
    " 'por',\n",
    " 'invasão',\n",
    " 'de',\n",
    " 'privacidade',\n",
    " '\\x96',\n",
    " 'disse',\n",
    " 'o',\n",
    " 'deputado',\n",
    " 'ao',\n",
    " 'extraa',\n",
    " 'veja',\n",
    " 'mostrou',\n",
    " 'imagens',\n",
    " 'do',\n",
    " 'telefone',\n",
    " 'celular',\n",
    " 'de',\n",
    " 'jair',\n",
    " 'bolsonaronaquele',\n",
    " 'momento',\n",
    " 'ele',\n",
    " 'estava',\n",
    " 'xingando',\n",
    " 'seu',\n",
    " 'filho',\n",
    " 'eduardo',\n",
    " 'bolsonaro',\n",
    " 'pelo',\n",
    " 'whatsappmotivo',\n",
    " 'eduardo',\n",
    " 'bolsonaro',\n",
    " 'não',\n",
    " 'participara',\n",
    " 'da',\n",
    " 'votação',\n",
    " 'para',\n",
    " 'a',\n",
    " 'presidência',\n",
    " 'da',\n",
    " 'câmara',\n",
    " 'dos',\n",
    " 'deputados',\n",
    " 'embora',\n",
    " 'seu',\n",
    " 'pai',\n",
    " 'fosse',\n",
    " 'um',\n",
    " 'dos',\n",
    " 'candidatos',\n",
    " 'ao',\n",
    " 'cargojair',\n",
    " 'bolsonaro',\n",
    " 'escreveu\\x93papel',\n",
    " 'de',\n",
    " 'filho',\n",
    " 'da',\n",
    " 'puta',\n",
    " 'que',\n",
    " 'você',\n",
    " 'está',\n",
    " 'fazendo',\n",
    " 'comigo',\n",
    " 'irresponsável\\x94em',\n",
    " 'seguida\\x93mais',\n",
    " 'ainda',\n",
    " 'compre',\n",
    " 'merdas',\n",
    " 'por',\n",
    " 'aí',\n",
    " 'não',\n",
    " 'vou',\n",
    " 'te',\n",
    " 'visitar',\n",
    " 'na',\n",
    " 'papuda\\x94e',\n",
    " 'também\\x93se',\n",
    " 'a',\n",
    " 'imprensa',\n",
    " 'te',\n",
    " 'descobrir',\n",
    " 'aí',\n",
    " 'e',\n",
    " 'o',\n",
    " 'que',\n",
    " 'está',\n",
    " 'fazendo',\n",
    " 'vão',\n",
    " 'comer',\n",
    " 'seu',\n",
    " 'figado',\n",
    " 'e',\n",
    " 'o',\n",
    " 'meu',\n",
    " 'retorne',\n",
    " 'imediatamente\\x94jair',\n",
    " 'bolsonaro',\n",
    " 'anunciou',\n",
    " 'que',\n",
    " 'vai',\n",
    " 'processar',\n",
    " 'a',\n",
    " 'veja',\n",
    " 'pelas',\n",
    " 'imagens',\n",
    " 'publicadas'''"
   ]
  },
  {
   "cell_type": "markdown",
   "id": "3969ce4a",
   "metadata": {},
   "source": [
    "### Preprocessing"
   ]
  },
  {
   "cell_type": "code",
   "execution_count": 12,
   "id": "6f864bb0",
   "metadata": {},
   "outputs": [],
   "source": [
    "# Carregando o pacote de língua portuguesa para o processador Spacy\n",
    "nlp = spacy.load('pt_core_news_sm')"
   ]
  },
  {
   "cell_type": "code",
   "execution_count": 13,
   "id": "0c6567ea",
   "metadata": {},
   "outputs": [],
   "source": [
    "# Defininido funções de preprocessamento\n",
    "\n",
    "def removePunct(text):\n",
    "    '''\n",
    "    Removes any punctuation included in string.punctuation.\n",
    "    '''\n",
    "    translator = text.maketrans({key:'' for key in string.punctuation+'“”'}) # Translates any punctuation into ''\n",
    "    return text.translate(translator)\n",
    "\n",
    "def removeNumbers(text):\n",
    "    '''\n",
    "    Removes any number character in text.\n",
    "    '''\n",
    "    return re.sub('[0-9]', '' , text) # Translates any number into ''\n",
    "\n",
    "def removeStopWords(string):\n",
    "    '''\n",
    "    Removes any portuguese stopwords, using Spacy's standard package.\n",
    "    '''\n",
    "    doc = nlp(string)\n",
    "    return ' '.join([token.text for token in doc if token.is_stop is False])\n",
    "\n",
    "def lemmatize(string):\n",
    "    '''\n",
    "    Lemmatizes text word-by-word. Notice that lemmatizing is not as harsh as stemming, which makes the final text easier to read and understand in common language.\n",
    "    '''\n",
    "    doc = nlp(string)\n",
    "    return ' '.join([token.lemma_ for token in doc])\n",
    "\n",
    "def prep(string, useStopWords = False, lemma = False):\n",
    "    '''\n",
    "    Executes previously defined preprocessing in text.\n",
    "    '''\n",
    "\n",
    "    result = removeNumbers(removePunct(string)).lower()\n",
    "    \n",
    "    if useStopWords and lemma:\n",
    "        doc = nlp(result)\n",
    "        result = ' '.join([token.lemma_ for token in doc if token.is_stop is False])\n",
    "    elif useStopWords:\n",
    "        doc = nlp(result)\n",
    "        result = ' '.join([token.text for token in doc if token.is_stop is False])\n",
    "    elif lemma:\n",
    "        doc = nlp(result)\n",
    "        result = ' '.join([token.lemma_ for token in doc])\n",
    "\n",
    "    result = result.replace('\\n',\"\")\n",
    "    \n",
    "    return result"
   ]
  },
  {
   "cell_type": "code",
   "execution_count": 95,
   "id": "2569b813",
   "metadata": {},
   "outputs": [],
   "source": [
    "# Realizando preprocessamento de textos em notícias de teste presentes no DataFrame.\n",
    "\n",
    "sentence_t = prep(sentence_t)"
   ]
  },
  {
   "cell_type": "code",
   "execution_count": 80,
   "id": "ff10f30e",
   "metadata": {},
   "outputs": [],
   "source": [
    "# Realizando preprocessamento de textos em notícias de teste presentes no DataFrame.\n",
    "\n",
    "sentence_f = prep(sentence_f)"
   ]
  },
  {
   "cell_type": "code",
   "execution_count": 96,
   "id": "62d10aa2",
   "metadata": {
    "scrolled": true
   },
   "outputs": [
    {
     "data": {
      "text/plain": [
       "'os estados unidos continuam em choque após a morte de  pessoas entre elas  crianças em um ataque em uma escola na cidade de uvalde no texas o presidente joe biden anunciou na quartafeira  que iria ao estado nos próximos dias onde políticos pró e contra armas se opõemeram h em uvalde no estado americano do texas quando salvador ramos começou a atirar em alunos e professores da escola de ensino fundamental robb matando  pessoas entre elas  crianças na terçafeira celeste estava no carro quando ouviu no rádio que um incidente estava acontecendo na escola de sua filha de  anos a mãe de família de  anos correu para o local quando chegou os policiais a impediram de entrar na escola e na mesma hora o atirador saiu do prédio e atirou na direção dos agentesele saiu e começou a atirar em todo mundo eu fiquei com muito medo conta poucos minutos depois tiros voltaram a ser ouvidos no interior do centro de ensino a filha de celeste ainda estava no prédioela ficou escondida no banheiro o tempo todo ela tentou sair e ele atirou bem na frente dela então ela parou e se escondeu em outro lugar ela então viu o atirador correr e atirar e se escondeu durante  minutos e depois começou a correr para a primeira porta aberta conta celeste que conseguiu encontrar a filha vivanessa hora eu pulei a agarrei e a coloquei dentro do meu carro então eu esperei que os filhos de duas amigas minhas saíssem mas eles não saíram diz a mãe emocionadaceleste acredita que o que aconteceu com ela e a filha foi um milagre ela conhecia todas as crianças e não pode evitar se sentir culpada por sua filha ter sobrevivido por isso ela decidiu depositar diante do portão da escola  bichos de pelúcia um para cada vítimaeu trago um bicho de pelúcia para cada um para que eles possam dormir com eles eles são tão pequenos são bebês esta é para eli diz mostrando um dos brinquedos era uma das filhas de uma amiga minha ela fazia sempre vídeos super fofos a mãe dela é uma boa amiga contou ao enviado especial da rfi em uvalde david thomsontodas estas crianças eram conhecidas elas eram todas tão boas crianças inocentes bebês alguns vinham às festas da minha família outras eram filhos de amigos diz celeste chocada com o que foi o pior ataque a um centro de ensino nos estados unidos em  anostodo mundo se conhece aqui é uma pequena comunidade é simplesmente muito triste somos todos próximos minha vizinha perdeu a sobrinha e o sobrinho meu coração está partido porque minha filha também estava na escola mas ela voltou para casa as crianças de meus amigos não voltaram lamentano dia seguinte da matança centenas de habitantes de uvalde se reuniram para homenagear as vítimas orações músicas e sofrimento marcaram a manifestação entre os presentes um agente de polícia em uniforme pai de uma vítima arrasado em lágrimas nos braços do senador ted cruz que estava presente assim como greg abott governador do texasuvalde é uma pequena comunidade rural de  mil habitantes três quartos hispânicos estamos simplesmente chocados não conseguimos acreditar que uma coisa assim tenha acontecido em uma cidade tão pequena disse o pai de um alunoeu estou triste simplesmente triste faltam palavras grotesco desprezível eram crianças inocentes elas tinham a vida diante delas um futuro tudo isso foi roubado disse outro pai de um sobrevivente'"
      ]
     },
     "execution_count": 96,
     "metadata": {},
     "output_type": "execute_result"
    }
   ],
   "source": [
    "sentence_t"
   ]
  },
  {
   "cell_type": "code",
   "execution_count": 81,
   "id": "baed6bb5",
   "metadata": {
    "scrolled": true
   },
   "outputs": [
    {
     "data": {
      "text/plain": [
       "'quatro expresidentes presos até é o que a lava jato está preparando a força tarefa da operação lava jato está com farto material acusatório para levar para a cadeia simultaneamente expresidentes do brasil lula dilma temer e collor podem terminar sua vida política atrás das gradesa condenação de lula acendeu o alerta vermelho em políticos que se achavam intocáveis a operação lava jato ao condenar o maior líder político da esquerda no brasil demonstrou que nenhuma pessoa está acima da leia condenação a nove anos e seis meses de prisão pelo juiz federal sergio moro nesta quartafeira não mandará o petista automaticamente para a cadeia isso porque moro é um juiz de primeira instância e assim sua decisão não basta para que a pena seja cumprida imediatamentetoda decisão que o \\x93juiz da lava jato\\x94 toma em primeira instância é depois revisada em segunda instância pelos desembargadores do tribunal regional da a região trf joão pedro gebran neto relator da operação leandro paulsen e victor luiz dos santos laus membros da a turma da corte sediada em porto alegreo trio da segunda instância é muito mais duro que o juiz sergio moro a pena de lula provavelmente será confirmada e ampliada ele ficará fora das eleições de e com ele levará mais três expresidentes que lhe foram muito próximos durante os anos em que o petismo conduziu os rumos políticos do brasilpesa sobre michel temer fortíssimos indícios de corrupção passiva organização criminosa e obstrução de justiça somente com as provas levantadas até agora ele pode pegar até anos de cadeiacontra dilma vana rousseff pesa mais fortemente a acusação de tentativa de obstrução da justiça tal acusação fundamenta pela policia federal do brasil aponta tentativa de blindar o expresidente lula e barrar os processos em que ele está envolvido na operação lava jato ao nomeálo como ministroembora contra dilma ainda existam investigações sobre o caixa dois em suas campanhas eleitorais ela é a que possui mais chances de se livrar das garras da justiça caso seja condenada por obstrução da justiça sua pena será de até anos de reclusão como as penas inferiores a anos de reclusão são substituídas por penas são substituídas por prestação de serviços a comunidade ela precisa de mais uma condenação para de fato se juntar ao time dos expresidentes presoso expresidente fernando collor de melo ptcal é acusado pela procuradoriageral da república de ter recebido ao menos r milhões em propinas entre e referentes a dois contratos da br distribuidora subsidiária da petrobrás que segundo revelaram as investigações da lava jato também teria sido palco de um esquema de corrupção e loteamento de cargos políticos de maneira similar ao que ocorreu na estatal petrolíferaagora collor tem um conjunto pesado de acusações de peculato e lavagem de dinheiro pode ser condenado a anos de cadeia em regime fechadocomo podemos notar a operação lava jato está passando a limpo a história do brasil se os políticos não abafarem a operação teremos uma depuração dos processos políticos e um novo brasil surgindo das cinzas'"
      ]
     },
     "execution_count": 81,
     "metadata": {},
     "output_type": "execute_result"
    }
   ],
   "source": [
    "sentence_f"
   ]
  },
  {
   "cell_type": "markdown",
   "id": "5b0a997a",
   "metadata": {},
   "source": [
    "### Classificação Trues"
   ]
  },
  {
   "cell_type": "code",
   "execution_count": 105,
   "id": "e2275c69",
   "metadata": {},
   "outputs": [
    {
     "data": {
      "text/plain": [
       "['os estados unidos continuam em choque após a morte de  pessoas entre elas  crianças em um ataque em uma escola na cidade de uvalde no texas o presidente joe biden anunciou na quartafeira  que iria ao estado nos próximos dias onde políticos pró e contra armas se opõemeram h em uvalde no estado americano do texas quando salvador ramos começou a atirar em alunos e professores da escola de ensino fundamental robb matando  pessoas entre elas  crianças na terçafeira celeste estava no carro quando ouviu no rádio que um incidente estava acontecendo na escola de sua filha de  anos a mãe de família de  anos correu para o local quando chegou os policiais a impediram de entrar na escola e na mesma hora o atirador saiu do prédio e atirou na direção dos agentesele saiu e começou a atirar em todo mundo eu fiquei com muito medo conta poucos minutos depois tiros voltaram a ser ouvidos no interior do centro de ensino a filha de celeste ainda estava no prédioela ficou escondida no banheiro o tempo todo ela tentou sair e ele atirou bem na frente dela então ela parou e se escondeu em outro lugar ela então viu o atirador correr e atirar e se escondeu durante  minutos e depois começou a correr para a primeira porta aberta conta celeste que conseguiu encontrar a filha vivanessa hora eu pulei a agarrei e a coloquei dentro do meu carro então eu esperei que os filhos de duas amigas minhas saíssem mas eles não saíram diz a mãe emocionadaceleste acredita que o que aconteceu com ela e a filha foi um milagre ela conhecia todas as crianças e não pode evitar se sentir culpada por sua filha ter sobrevivido por isso ela decidiu depositar diante do portão da escola  bichos de pelúcia um para cada vítimaeu trago um bicho de pelúcia para cada um para que eles possam dormir com eles eles são tão pequenos são bebês esta é para eli diz mostrando um dos brinquedos era uma das filhas de uma amiga minha ela fazia sempre vídeos super fofos a mãe dela é uma boa amiga contou ao enviado especial da rfi em uvalde david thomsontodas estas crianças eram conhecidas elas eram todas tão boas crianças inocentes bebês alguns vinham às festas da minha família outras eram filhos de amigos diz celeste chocada com o que foi o pior ataque a um centro de ensino nos estados unidos em  anostodo mundo se conhece aqui é uma pequena comunidade é simplesmente muito triste somos todos próximos minha vizinha perdeu a sobrinha e o sobrinho meu coração está partido porque minha filha também estava na escola mas ela voltou para casa as crianças de meus amigos não voltaram lamentano dia seguinte da matança centenas de habitantes de uvalde se reuniram para homenagear as vítimas orações músicas e sofrimento marcaram a manifestação entre os presentes um agente de polícia em uniforme pai de uma vítima arrasado em lágrimas nos braços do senador ted cruz que estava presente assim como greg abott governador do texasuvalde é uma pequena comunidade rural de  mil habitantes três quartos hispânicos estamos simplesmente chocados não conseguimos acreditar que uma coisa assim tenha acontecido em uma cidade tão pequena disse o pai de um alunoeu estou triste simplesmente triste faltam palavras grotesco desprezível eram crianças inocentes elas tinham a vida diante delas um futuro tudo isso foi roubado disse outro pai de um sobrevivente']"
      ]
     },
     "execution_count": 105,
     "metadata": {},
     "output_type": "execute_result"
    }
   ],
   "source": [
    "lista_t = []\n",
    "lista_t.append(sentence_t)\n",
    "lista_t"
   ]
  },
  {
   "cell_type": "code",
   "execution_count": 106,
   "id": "f06eb3ff",
   "metadata": {
    "scrolled": false
   },
   "outputs": [],
   "source": [
    "maxlen = 100\n",
    "sequences_t = tokenizer.texts_to_sequences(lista_t)\n",
    "padded_t = pad_sequences(sequences_t, maxlen=maxlen)"
   ]
  },
  {
   "cell_type": "code",
   "execution_count": 107,
   "id": "9912ed30",
   "metadata": {
    "scrolled": true
   },
   "outputs": [
    {
     "data": {
      "text/plain": [
       "array([[0.9815802]], dtype=float32)"
      ]
     },
     "execution_count": 107,
     "metadata": {},
     "output_type": "execute_result"
    }
   ],
   "source": [
    "model.predict(padded_t)"
   ]
  },
  {
   "cell_type": "code",
   "execution_count": 100,
   "id": "219e9eb5",
   "metadata": {},
   "outputs": [
    {
     "data": {
      "text/plain": [
       "array([[1]])"
      ]
     },
     "execution_count": 100,
     "metadata": {},
     "output_type": "execute_result"
    }
   ],
   "source": [
    "(model.predict(padded_t) >=0.5).astype(int)"
   ]
  },
  {
   "cell_type": "markdown",
   "id": "41053826",
   "metadata": {},
   "source": [
    "### Classificação Fakes"
   ]
  },
  {
   "cell_type": "code",
   "execution_count": 82,
   "id": "f5f0d579",
   "metadata": {},
   "outputs": [
    {
     "data": {
      "text/plain": [
       "['quatro expresidentes presos até é o que a lava jato está preparando a força tarefa da operação lava jato está com farto material acusatório para levar para a cadeia simultaneamente expresidentes do brasil lula dilma temer e collor podem terminar sua vida política atrás das gradesa condenação de lula acendeu o alerta vermelho em políticos que se achavam intocáveis a operação lava jato ao condenar o maior líder político da esquerda no brasil demonstrou que nenhuma pessoa está acima da leia condenação a nove anos e seis meses de prisão pelo juiz federal sergio moro nesta quartafeira não mandará o petista automaticamente para a cadeia isso porque moro é um juiz de primeira instância e assim sua decisão não basta para que a pena seja cumprida imediatamentetoda decisão que o \\x93juiz da lava jato\\x94 toma em primeira instância é depois revisada em segunda instância pelos desembargadores do tribunal regional da a região trf joão pedro gebran neto relator da operação leandro paulsen e victor luiz dos santos laus membros da a turma da corte sediada em porto alegreo trio da segunda instância é muito mais duro que o juiz sergio moro a pena de lula provavelmente será confirmada e ampliada ele ficará fora das eleições de e com ele levará mais três expresidentes que lhe foram muito próximos durante os anos em que o petismo conduziu os rumos políticos do brasilpesa sobre michel temer fortíssimos indícios de corrupção passiva organização criminosa e obstrução de justiça somente com as provas levantadas até agora ele pode pegar até anos de cadeiacontra dilma vana rousseff pesa mais fortemente a acusação de tentativa de obstrução da justiça tal acusação fundamenta pela policia federal do brasil aponta tentativa de blindar o expresidente lula e barrar os processos em que ele está envolvido na operação lava jato ao nomeálo como ministroembora contra dilma ainda existam investigações sobre o caixa dois em suas campanhas eleitorais ela é a que possui mais chances de se livrar das garras da justiça caso seja condenada por obstrução da justiça sua pena será de até anos de reclusão como as penas inferiores a anos de reclusão são substituídas por penas são substituídas por prestação de serviços a comunidade ela precisa de mais uma condenação para de fato se juntar ao time dos expresidentes presoso expresidente fernando collor de melo ptcal é acusado pela procuradoriageral da república de ter recebido ao menos r milhões em propinas entre e referentes a dois contratos da br distribuidora subsidiária da petrobrás que segundo revelaram as investigações da lava jato também teria sido palco de um esquema de corrupção e loteamento de cargos políticos de maneira similar ao que ocorreu na estatal petrolíferaagora collor tem um conjunto pesado de acusações de peculato e lavagem de dinheiro pode ser condenado a anos de cadeia em regime fechadocomo podemos notar a operação lava jato está passando a limpo a história do brasil se os políticos não abafarem a operação teremos uma depuração dos processos políticos e um novo brasil surgindo das cinzas']"
      ]
     },
     "execution_count": 82,
     "metadata": {},
     "output_type": "execute_result"
    }
   ],
   "source": [
    "lista_f = []\n",
    "lista_f.append(sentence_f)\n",
    "lista_f"
   ]
  },
  {
   "cell_type": "code",
   "execution_count": 103,
   "id": "6f930e51",
   "metadata": {},
   "outputs": [],
   "source": [
    "maxlen = 100\n",
    "sequences_f = tokenizer.texts_to_sequences(lista_f)\n",
    "padded_f = pad_sequences(sequences_f, maxlen=maxlen)"
   ]
  },
  {
   "cell_type": "code",
   "execution_count": 104,
   "id": "a50a1266",
   "metadata": {},
   "outputs": [
    {
     "data": {
      "text/plain": [
       "array([[0.9640597]], dtype=float32)"
      ]
     },
     "execution_count": 104,
     "metadata": {},
     "output_type": "execute_result"
    }
   ],
   "source": [
    "model.predict(padded_f)"
   ]
  },
  {
   "cell_type": "code",
   "execution_count": 85,
   "id": "bbbaeaee",
   "metadata": {},
   "outputs": [
    {
     "data": {
      "text/plain": [
       "array([[1]])"
      ]
     },
     "execution_count": 85,
     "metadata": {},
     "output_type": "execute_result"
    }
   ],
   "source": [
    "(model.predict(padded_f) >=0.5).astype(int)"
   ]
  },
  {
   "cell_type": "code",
   "execution_count": null,
   "id": "3bbd5bc5",
   "metadata": {},
   "outputs": [],
   "source": []
  }
 ],
 "metadata": {
  "kernelspec": {
   "display_name": "Python 3 (ipykernel)",
   "language": "python",
   "name": "python3"
  },
  "language_info": {
   "codemirror_mode": {
    "name": "ipython",
    "version": 3
   },
   "file_extension": ".py",
   "mimetype": "text/x-python",
   "name": "python",
   "nbconvert_exporter": "python",
   "pygments_lexer": "ipython3",
   "version": "3.9.7"
  }
 },
 "nbformat": 4,
 "nbformat_minor": 5
}
